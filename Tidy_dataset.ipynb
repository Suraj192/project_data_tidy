{
 "cells": [
  {
   "cell_type": "code",
   "execution_count": 1,
   "metadata": {
    "ExecuteTime": {
     "end_time": "2020-12-02T19:18:39.605458Z",
     "start_time": "2020-12-02T19:18:34.226814Z"
    }
   },
   "outputs": [],
   "source": [
    "import numpy as np\n",
    "import pandas as pd\n",
    "import requests\n",
    "from matplotlib import pyplot as plt\n",
    "import seaborn as sns\n",
    "%matplotlib inline"
   ]
  },
  {
   "cell_type": "markdown",
   "metadata": {},
   "source": [
    "# Loading the dataset"
   ]
  },
  {
   "cell_type": "code",
   "execution_count": 2,
   "metadata": {
    "ExecuteTime": {
     "end_time": "2020-12-02T19:18:42.248935Z",
     "start_time": "2020-12-02T19:18:39.606784Z"
    }
   },
   "outputs": [
    {
     "name": "stderr",
     "output_type": "stream",
     "text": [
      "/home/vu/miniconda3/lib/python3.8/site-packages/IPython/core/interactiveshell.py:3145: DtypeWarning: Columns (29) have mixed types.Specify dtype option on import or set low_memory=False.\n",
      "  has_raised = await self.run_ast_nodes(code_ast.body, cell_name,\n",
      "/home/vu/miniconda3/lib/python3.8/site-packages/IPython/core/interactiveshell.py:3145: DtypeWarning: Columns (17) have mixed types.Specify dtype option on import or set low_memory=False.\n",
      "  has_raised = await self.run_ast_nodes(code_ast.body, cell_name,\n"
     ]
    },
    {
     "data": {
      "text/html": [
       "<div>\n",
       "<style scoped>\n",
       "    .dataframe tbody tr th:only-of-type {\n",
       "        vertical-align: middle;\n",
       "    }\n",
       "\n",
       "    .dataframe tbody tr th {\n",
       "        vertical-align: top;\n",
       "    }\n",
       "\n",
       "    .dataframe thead th {\n",
       "        text-align: right;\n",
       "    }\n",
       "</style>\n",
       "<table border=\"1\" class=\"dataframe\">\n",
       "  <thead>\n",
       "    <tr style=\"text-align: right;\">\n",
       "      <th></th>\n",
       "      <th>End of Period</th>\n",
       "      <th>Credit Number</th>\n",
       "      <th>Region</th>\n",
       "      <th>Country Code</th>\n",
       "      <th>Country</th>\n",
       "      <th>Borrower</th>\n",
       "      <th>Credit Status</th>\n",
       "      <th>Service Charge Rate</th>\n",
       "      <th>Currency of Commitment</th>\n",
       "      <th>Project ID</th>\n",
       "      <th>...</th>\n",
       "      <th>Repaid 3rd Party</th>\n",
       "      <th>Due 3rd Party</th>\n",
       "      <th>Credits Held</th>\n",
       "      <th>First Repayment Date</th>\n",
       "      <th>Last Repayment Date</th>\n",
       "      <th>Agreement Signing Date</th>\n",
       "      <th>Board Approval Date</th>\n",
       "      <th>Effective Date (Most Recent)</th>\n",
       "      <th>Closed Date (Most Recent)</th>\n",
       "      <th>Last Disbursement Date</th>\n",
       "    </tr>\n",
       "  </thead>\n",
       "  <tbody>\n",
       "    <tr>\n",
       "      <th>0</th>\n",
       "      <td>4/30/2020 0:00</td>\n",
       "      <td>IDA07770</td>\n",
       "      <td>LATIN AMERICA AND CARIBBEAN</td>\n",
       "      <td>HN</td>\n",
       "      <td>Honduras</td>\n",
       "      <td>MINISTERIO DE HACIENDA Y CREDITO PUBLICO</td>\n",
       "      <td>Fully Repaid</td>\n",
       "      <td>0.75</td>\n",
       "      <td>USD</td>\n",
       "      <td>P007353</td>\n",
       "      <td>...</td>\n",
       "      <td>0.0</td>\n",
       "      <td>0</td>\n",
       "      <td>0.0</td>\n",
       "      <td>9/1/1988 0:00</td>\n",
       "      <td>3/1/2028 0:00</td>\n",
       "      <td>4/6/1978 0:00</td>\n",
       "      <td>3/14/1978 0:00</td>\n",
       "      <td>8/15/1978 0:00</td>\n",
       "      <td>12/31/1984 0:00</td>\n",
       "      <td>NaN</td>\n",
       "    </tr>\n",
       "    <tr>\n",
       "      <th>1</th>\n",
       "      <td>4/30/2020 0:00</td>\n",
       "      <td>IDA07780</td>\n",
       "      <td>SOUTH ASIA</td>\n",
       "      <td>AF</td>\n",
       "      <td>Afghanistan</td>\n",
       "      <td>STATE PLANNING COMM.</td>\n",
       "      <td>Fully Repaid</td>\n",
       "      <td>0.75</td>\n",
       "      <td>USD</td>\n",
       "      <td>P009314</td>\n",
       "      <td>...</td>\n",
       "      <td>0.0</td>\n",
       "      <td>0</td>\n",
       "      <td>0.0</td>\n",
       "      <td>6/15/1988 0:00</td>\n",
       "      <td>12/15/2027 0:00</td>\n",
       "      <td>4/10/1978 0:00</td>\n",
       "      <td>3/21/1978 0:00</td>\n",
       "      <td>9/19/1978 0:00</td>\n",
       "      <td>6/30/1983 0:00</td>\n",
       "      <td>NaN</td>\n",
       "    </tr>\n",
       "    <tr>\n",
       "      <th>2</th>\n",
       "      <td>4/30/2020 0:00</td>\n",
       "      <td>IDA07790</td>\n",
       "      <td>SOUTH ASIA</td>\n",
       "      <td>AF</td>\n",
       "      <td>Afghanistan</td>\n",
       "      <td>MINISTRY OF COMMERCE</td>\n",
       "      <td>Fully Repaid</td>\n",
       "      <td>0.75</td>\n",
       "      <td>USD</td>\n",
       "      <td>P009315</td>\n",
       "      <td>...</td>\n",
       "      <td>0.0</td>\n",
       "      <td>0</td>\n",
       "      <td>0.0</td>\n",
       "      <td>6/15/1988 0:00</td>\n",
       "      <td>12/15/2027 0:00</td>\n",
       "      <td>9/27/1978 0:00</td>\n",
       "      <td>3/21/1978 0:00</td>\n",
       "      <td>5/15/1979 0:00</td>\n",
       "      <td>6/30/1985 0:00</td>\n",
       "      <td>NaN</td>\n",
       "    </tr>\n",
       "    <tr>\n",
       "      <th>3</th>\n",
       "      <td>4/30/2020 0:00</td>\n",
       "      <td>IDA07800</td>\n",
       "      <td>MIDDLE EAST AND NORTH AFRICA</td>\n",
       "      <td>JO</td>\n",
       "      <td>Jordan</td>\n",
       "      <td>MINISTRY OF PLANNING &amp; INTNL COOPERATION</td>\n",
       "      <td>Repaying</td>\n",
       "      <td>0.75</td>\n",
       "      <td>USD</td>\n",
       "      <td>P005253</td>\n",
       "      <td>...</td>\n",
       "      <td>0.0</td>\n",
       "      <td>0</td>\n",
       "      <td>3360000.0</td>\n",
       "      <td>9/1/1988 0:00</td>\n",
       "      <td>3/1/2028 0:00</td>\n",
       "      <td>5/19/1978 0:00</td>\n",
       "      <td>3/23/1978 0:00</td>\n",
       "      <td>10/17/1978 0:00</td>\n",
       "      <td>6/30/1983 0:00</td>\n",
       "      <td>NaN</td>\n",
       "    </tr>\n",
       "    <tr>\n",
       "      <th>4</th>\n",
       "      <td>4/30/2020 0:00</td>\n",
       "      <td>IDA07810</td>\n",
       "      <td>AFRICA</td>\n",
       "      <td>SD</td>\n",
       "      <td>Sudan</td>\n",
       "      <td>Ministry of Finance and National Economy</td>\n",
       "      <td>Repaying</td>\n",
       "      <td>0.75</td>\n",
       "      <td>USD</td>\n",
       "      <td>P002575</td>\n",
       "      <td>...</td>\n",
       "      <td>0.0</td>\n",
       "      <td>0</td>\n",
       "      <td>20680000.0</td>\n",
       "      <td>9/15/1988 0:00</td>\n",
       "      <td>3/15/2028 0:00</td>\n",
       "      <td>6/9/1978 0:00</td>\n",
       "      <td>3/23/1978 0:00</td>\n",
       "      <td>2/2/1979 0:00</td>\n",
       "      <td>6/30/1983 0:00</td>\n",
       "      <td>NaN</td>\n",
       "    </tr>\n",
       "  </tbody>\n",
       "</table>\n",
       "<p>5 rows × 30 columns</p>\n",
       "</div>"
      ],
      "text/plain": [
       "    End of Period Credit Number                        Region Country Code  \\\n",
       "0  4/30/2020 0:00      IDA07770   LATIN AMERICA AND CARIBBEAN           HN   \n",
       "1  4/30/2020 0:00      IDA07780                    SOUTH ASIA           AF   \n",
       "2  4/30/2020 0:00      IDA07790                    SOUTH ASIA           AF   \n",
       "3  4/30/2020 0:00      IDA07800  MIDDLE EAST AND NORTH AFRICA           JO   \n",
       "4  4/30/2020 0:00      IDA07810                        AFRICA           SD   \n",
       "\n",
       "       Country                                  Borrower Credit Status  \\\n",
       "0     Honduras  MINISTERIO DE HACIENDA Y CREDITO PUBLICO  Fully Repaid   \n",
       "1  Afghanistan                      STATE PLANNING COMM.  Fully Repaid   \n",
       "2  Afghanistan                      MINISTRY OF COMMERCE  Fully Repaid   \n",
       "3       Jordan  MINISTRY OF PLANNING & INTNL COOPERATION      Repaying   \n",
       "4        Sudan  Ministry of Finance and National Economy      Repaying   \n",
       "\n",
       "   Service Charge Rate Currency of Commitment Project ID  ...  \\\n",
       "0                 0.75                    USD    P007353  ...   \n",
       "1                 0.75                    USD    P009314  ...   \n",
       "2                 0.75                    USD    P009315  ...   \n",
       "3                 0.75                    USD    P005253  ...   \n",
       "4                 0.75                    USD    P002575  ...   \n",
       "\n",
       "  Repaid 3rd Party  Due 3rd Party  Credits Held  First Repayment Date  \\\n",
       "0              0.0              0           0.0         9/1/1988 0:00   \n",
       "1              0.0              0           0.0        6/15/1988 0:00   \n",
       "2              0.0              0           0.0        6/15/1988 0:00   \n",
       "3              0.0              0     3360000.0         9/1/1988 0:00   \n",
       "4              0.0              0    20680000.0        9/15/1988 0:00   \n",
       "\n",
       "   Last Repayment Date  Agreement Signing Date  Board Approval Date  \\\n",
       "0        3/1/2028 0:00           4/6/1978 0:00       3/14/1978 0:00   \n",
       "1      12/15/2027 0:00          4/10/1978 0:00       3/21/1978 0:00   \n",
       "2      12/15/2027 0:00          9/27/1978 0:00       3/21/1978 0:00   \n",
       "3        3/1/2028 0:00          5/19/1978 0:00       3/23/1978 0:00   \n",
       "4       3/15/2028 0:00           6/9/1978 0:00       3/23/1978 0:00   \n",
       "\n",
       "   Effective Date (Most Recent)  Closed Date (Most Recent)  \\\n",
       "0                8/15/1978 0:00            12/31/1984 0:00   \n",
       "1                9/19/1978 0:00             6/30/1983 0:00   \n",
       "2                5/15/1979 0:00             6/30/1985 0:00   \n",
       "3               10/17/1978 0:00             6/30/1983 0:00   \n",
       "4                 2/2/1979 0:00             6/30/1983 0:00   \n",
       "\n",
       "   Last Disbursement Date  \n",
       "0                     NaN  \n",
       "1                     NaN  \n",
       "2                     NaN  \n",
       "3                     NaN  \n",
       "4                     NaN  \n",
       "\n",
       "[5 rows x 30 columns]"
      ]
     },
     "execution_count": 2,
     "metadata": {},
     "output_type": "execute_result"
    }
   ],
   "source": [
    "df1 = pd.read_csv(\"IDA_data1.csv\")\n",
    "df2 = pd.read_csv(\"IDA_data2.csv\")\n",
    "df3 = pd.read_csv(\"IDA_data3.csv\")\n",
    "df1.head()"
   ]
  },
  {
   "cell_type": "code",
   "execution_count": 3,
   "metadata": {
    "ExecuteTime": {
     "end_time": "2020-12-02T19:18:42.568547Z",
     "start_time": "2020-12-02T19:18:42.250011Z"
    }
   },
   "outputs": [],
   "source": [
    "df = pd.concat([df1,df2,df3], ignore_index=True)"
   ]
  },
  {
   "cell_type": "markdown",
   "metadata": {},
   "source": [
    "# Dataset description\n",
    "## Dataset content\n",
    "\n",
    "This dataset contains historical snapshots of the IDA Statement of Credits and Grants including the latest available snapshot. The World Bank complies with all sanctions applicable to World Bank transactions.\n",
    "## Dataset attribute \n",
    "- **End of Peroid:** End of Period Date represents the date as of which balances are shown in the report.\n",
    "- **Loan Number/Credit Number:** For IBRD loans and IDA credits or grants a loan number consists of the organization prefix (IBRD/IDA) and a five-character label that uniquely identifies the loan within the organization. In IDA, all grant labels start with the letter ‘H’.\n",
    "- **Region:** World Bank Region to which the country and loan belong. Country lending is grouped into regions based on the current World Bank administrative (rather than geographic) region where project implementation takes place. The “Other”” Region is used for loans to the IFC.\n",
    "- **Country:** Country to which a loan has been issued. Loans to the IFC are included under the country “World”.\n",
    "- **Country Code:** Country Code according to the World Bank country list. This might be different from the ISO country code.\n",
    "- **Borrower:** The representative of the borrower to which the Bank loan is made. \n",
    "- **Loan Status/Credit Status:** Status of the loan.\n",
    "- **Interest Rate/Service Charge Rate:** Current Interest rate or service charge applied to loan. For loans that could have more than one interest rate (e.g. FSL or SCL fixed rate loans), the interest rate is shown as “0”.\n",
    "- **Currency of Commitment:** The currency in which a borrower’s loan, credit or grant is denominated.\n",
    "- **Project Name:** Short descriptive project name.\n",
    "- **Project ID:** A Bank project is referenced by a project ID (Pxxxxxxx). More than one loan, credit, or grant may be associated with one Project ID.\n",
    "- **Original Principal Amount:** The original US dollar amount of the loan that is committed and approved.\n",
    "- **Cancelled Amount:** The portion of the undisbursed balance which has been cancelled (i.e. no longer available for future disbursement). Cancellations include terminations (where approved loan agreements were never signed).\n",
    "- **Undisbursed Amount:** The amount of a loan commitment that is still available to be drawn down. These currency amounts have been converted to US dollars at the exchange rates applicable at the end of period date.\n",
    "- **Disbursed Amount:** The amount that has been disbursed from a loan commitment in equivalent US dollars, calculated at the exchange rate on the value date of the individual disbursements.\n",
    "- **Repaid to IBRD:** Total principal amounts paid or prepaid to IBRD in US dollars, calculated at the exchange rate on the value date of the individual repayments.\n",
    "- **Repaid to IDA:** Total principal amounts paid or prepaid to IDA in US dollars, calculated at the exchange rate on the value date of the individual repayments. Repaid to IDA amounts include amounts written off under the Multilateral Debt Relief Initiative (MDRI).\n",
    "- **Due to IBRD:** Amount due and outstanding as of the End of Period date.\n",
    "- **Exchange Adjustment:** The increase (decrease) in value of disbursed and outstanding amount due to exchange rate fluctuations. This amount added to “Due to IBRD” yields “Borrower’s Obligation”; includes exchange adjustments on the amounts Due to 3rd parties.\n",
    "- **Borrower's Obligation:** The Borrower Obligation is the outstanding balance for the loan as of the end of period date in US dollars equivalent. The Borrower's Obligation includes the amounts outstanding Due to 3rd parties. \n",
    "- **Sold 3rd Party:** Portion of loan sold to a third party.\n",
    "- **Repaid 3rd Party:** Amount repaid to a third party.\n",
    "- **Due 3rd Party:** Amount due to a third party.\n",
    "- **Loans Held:** The sum of the disbursed and outstanding amounts (net of repayments, i.e. Due to IBRD/IDA) plus undisbursed available amounts.\n",
    "- **First Repayment Date:** The date on which principal repayment starts.\n",
    "- **Last Repayment Date:** The date specified in the loan/credit agreement (amended for any partial prepayments) on which the last principal installment must be repaid by the Borrower.\n",
    "- **Agreement Signing Date:** The date the borrower and the Bank sign the loan agreement.\n",
    "- **Board Approval Date:** The date the World Bank approves the loan.\n",
    "- **Effective Date:** The date on which a legal agreement becomes effective, or is expected to become effective.\n",
    "- **Close Date:** The date specified in the legal agreement (or extension) after which the Bank may, by notice to the borrower, terminate the right to make withdrawals from the loan account.\n",
    "- **Last Disbursement Date:** The date on which the last disbursement was made (prior to the end of period date)."
   ]
  },
  {
   "cell_type": "markdown",
   "metadata": {},
   "source": [
    "## Dataset info"
   ]
  },
  {
   "cell_type": "code",
   "execution_count": 4,
   "metadata": {
    "ExecuteTime": {
     "end_time": "2020-12-02T19:18:42.572491Z",
     "start_time": "2020-12-02T19:18:42.569730Z"
    }
   },
   "outputs": [
    {
     "name": "stdout",
     "output_type": "stream",
     "text": [
      "The dataset has 899514 rows and 30 columns\n"
     ]
    }
   ],
   "source": [
    "print(f\"The dataset has {df.shape[0]} rows and {df.shape[1]} columns\")"
   ]
  },
  {
   "cell_type": "code",
   "execution_count": 5,
   "metadata": {
    "ExecuteTime": {
     "end_time": "2020-12-02T19:18:43.515830Z",
     "start_time": "2020-12-02T19:18:42.573320Z"
    }
   },
   "outputs": [
    {
     "name": "stdout",
     "output_type": "stream",
     "text": [
      "<class 'pandas.core.frame.DataFrame'>\n",
      "RangeIndex: 899514 entries, 0 to 899513\n",
      "Data columns (total 30 columns):\n",
      " #   Column                        Non-Null Count   Dtype  \n",
      "---  ------                        --------------   -----  \n",
      " 0   End of Period                 899514 non-null  object \n",
      " 1   Credit Number                 899514 non-null  object \n",
      " 2   Region                        899514 non-null  object \n",
      " 3   Country Code                  899514 non-null  object \n",
      " 4   Country                       899514 non-null  object \n",
      " 5   Borrower                      899071 non-null  object \n",
      " 6   Credit Status                 899514 non-null  object \n",
      " 7   Service Charge Rate           837810 non-null  float64\n",
      " 8   Currency of Commitment        899514 non-null  object \n",
      " 9   Project ID                    899512 non-null  object \n",
      " 10  Project Name                  899469 non-null  object \n",
      " 11  Original Principal Amount     899514 non-null  float64\n",
      " 12  Cancelled Amount              899512 non-null  float64\n",
      " 13  Undisbursed Amount            899514 non-null  float64\n",
      " 14  Disbursed Amount              899512 non-null  float64\n",
      " 15  Repaid to IDA                 899512 non-null  float64\n",
      " 16  Due to IDA                    899512 non-null  float64\n",
      " 17  Exchange Adjustment           899514 non-null  object \n",
      " 18  Borrower's Obligation         899512 non-null  float64\n",
      " 19  Sold 3rd Party                899512 non-null  float64\n",
      " 20  Repaid 3rd Party              899512 non-null  float64\n",
      " 21  Due 3rd Party                 899512 non-null  float64\n",
      " 22  Credits Held                  899514 non-null  float64\n",
      " 23  First Repayment Date          767911 non-null  object \n",
      " 24  Last Repayment Date           767911 non-null  object \n",
      " 25  Agreement Signing Date        885410 non-null  object \n",
      " 26  Board Approval Date           899316 non-null  object \n",
      " 27  Effective Date (Most Recent)  890427 non-null  object \n",
      " 28  Closed Date (Most Recent)     899141 non-null  object \n",
      " 29  Last Disbursement Date        557319 non-null  object \n",
      "dtypes: float64(12), object(18)\n",
      "memory usage: 205.9+ MB\n"
     ]
    }
   ],
   "source": [
    "df.info()"
   ]
  },
  {
   "cell_type": "markdown",
   "metadata": {},
   "source": [
    "Among 30 columns in the dataset, there is some columns which missing data, which is:"
   ]
  },
  {
   "cell_type": "code",
   "execution_count": 6,
   "metadata": {
    "ExecuteTime": {
     "end_time": "2020-12-02T19:18:44.566757Z",
     "start_time": "2020-12-02T19:18:43.516753Z"
    }
   },
   "outputs": [
    {
     "data": {
      "text/plain": [
       "Last Disbursement Date          342195\n",
       "First Repayment Date            131603\n",
       "Last Repayment Date             131603\n",
       "Service Charge Rate              61704\n",
       "Agreement Signing Date           14104\n",
       "Effective Date (Most Recent)      9087\n",
       "Borrower                           443\n",
       "Closed Date (Most Recent)          373\n",
       "Board Approval Date                198\n",
       "Project Name                        45\n",
       "Due 3rd Party                        2\n",
       "Repaid 3rd Party                     2\n",
       "Borrower's Obligation                2\n",
       "Due to IDA                           2\n",
       "Repaid to IDA                        2\n",
       "Disbursed Amount                     2\n",
       "Cancelled Amount                     2\n",
       "Project ID                           2\n",
       "Sold 3rd Party                       2\n",
       "dtype: int64"
      ]
     },
     "execution_count": 6,
     "metadata": {},
     "output_type": "execute_result"
    }
   ],
   "source": [
    "df.isnull().sum()[df.isnull().sum()!=0].sort_values(ascending=False)"
   ]
  },
  {
   "cell_type": "markdown",
   "metadata": {},
   "source": [
    "## Dataset cleaning\n",
    "### Check & drop duplicated rows"
   ]
  },
  {
   "cell_type": "code",
   "execution_count": 7,
   "metadata": {
    "ExecuteTime": {
     "end_time": "2020-12-02T19:18:46.171423Z",
     "start_time": "2020-12-02T19:18:44.567501Z"
    }
   },
   "outputs": [
    {
     "name": "stdout",
     "output_type": "stream",
     "text": [
      "There are total 19824 duplicated rows\n"
     ]
    }
   ],
   "source": [
    "dup = df.duplicated().sum()\n",
    "print(f\"There are total {dup} duplicated rows\")"
   ]
  },
  {
   "cell_type": "code",
   "execution_count": 8,
   "metadata": {
    "ExecuteTime": {
     "end_time": "2020-12-02T19:18:47.811307Z",
     "start_time": "2020-12-02T19:18:46.172974Z"
    }
   },
   "outputs": [],
   "source": [
    "df.drop_duplicates(keep='first', inplace=True)"
   ]
  },
  {
   "cell_type": "markdown",
   "metadata": {},
   "source": [
    "### Re-formating & re-ordering\n",
    "#### Re-formating\n",
    "There are several columns that are not in their correct format of datetime. Therefore, we convert those columns into their right format first.\n",
    "- End of Period\n",
    "- First Repayment Date \n",
    "- Last Repayment Date           \n",
    "- Agreement Signing Date        \n",
    "- Board Approval Date           \n",
    "- Effective Date (Most Recent) \n",
    "- Closed Date (Most Recent)    \n",
    "- Last Disbursement Date  "
   ]
  },
  {
   "cell_type": "code",
   "execution_count": 9,
   "metadata": {
    "ExecuteTime": {
     "end_time": "2020-12-02T19:19:36.561108Z",
     "start_time": "2020-12-02T19:18:47.812919Z"
    }
   },
   "outputs": [],
   "source": [
    "df[[\"End of Period\", \"First Repayment Date\", \"Last Repayment Date\", \n",
    "    \"Agreement Signing Date\", \"Board Approval Date\", \"Effective Date (Most Recent)\", \n",
    "    \"Closed Date (Most Recent)\", \"Last Disbursement Date\"]] = df[[\"End of Period\", \"First Repayment Date\", \"Last Repayment Date\", \n",
    "    \"Agreement Signing Date\", \"Board Approval Date\", \"Effective Date (Most Recent)\", \n",
    "    \"Closed Date (Most Recent)\", \"Last Disbursement Date\"]].apply(pd.to_datetime)"
   ]
  },
  {
   "cell_type": "code",
   "execution_count": 10,
   "metadata": {
    "ExecuteTime": {
     "end_time": "2020-12-02T19:19:36.950406Z",
     "start_time": "2020-12-02T19:19:36.562486Z"
    }
   },
   "outputs": [
    {
     "name": "stdout",
     "output_type": "stream",
     "text": [
      "<class 'pandas.core.frame.DataFrame'>\n",
      "Int64Index: 879690 entries, 0 to 879689\n",
      "Data columns (total 30 columns):\n",
      " #   Column                        Non-Null Count   Dtype         \n",
      "---  ------                        --------------   -----         \n",
      " 0   End of Period                 879690 non-null  datetime64[ns]\n",
      " 1   Credit Number                 879690 non-null  object        \n",
      " 2   Region                        879690 non-null  object        \n",
      " 3   Country Code                  879690 non-null  object        \n",
      " 4   Country                       879690 non-null  object        \n",
      " 5   Borrower                      879248 non-null  object        \n",
      " 6   Credit Status                 879690 non-null  object        \n",
      " 7   Service Charge Rate           822904 non-null  float64       \n",
      " 8   Currency of Commitment        879690 non-null  object        \n",
      " 9   Project ID                    879688 non-null  object        \n",
      " 10  Project Name                  879647 non-null  object        \n",
      " 11  Original Principal Amount     879690 non-null  float64       \n",
      " 12  Cancelled Amount              879688 non-null  float64       \n",
      " 13  Undisbursed Amount            879690 non-null  float64       \n",
      " 14  Disbursed Amount              879688 non-null  float64       \n",
      " 15  Repaid to IDA                 879688 non-null  float64       \n",
      " 16  Due to IDA                    879688 non-null  float64       \n",
      " 17  Exchange Adjustment           879690 non-null  object        \n",
      " 18  Borrower's Obligation         879688 non-null  float64       \n",
      " 19  Sold 3rd Party                879688 non-null  float64       \n",
      " 20  Repaid 3rd Party              879688 non-null  float64       \n",
      " 21  Due 3rd Party                 879688 non-null  float64       \n",
      " 22  Credits Held                  879690 non-null  float64       \n",
      " 23  First Repayment Date          752845 non-null  datetime64[ns]\n",
      " 24  Last Repayment Date           752845 non-null  datetime64[ns]\n",
      " 25  Agreement Signing Date        865964 non-null  datetime64[ns]\n",
      " 26  Board Approval Date           879511 non-null  datetime64[ns]\n",
      " 27  Effective Date (Most Recent)  870887 non-null  datetime64[ns]\n",
      " 28  Closed Date (Most Recent)     879340 non-null  datetime64[ns]\n",
      " 29  Last Disbursement Date        541615 non-null  datetime64[ns]\n",
      "dtypes: datetime64[ns](8), float64(12), object(10)\n",
      "memory usage: 208.1+ MB\n"
     ]
    }
   ],
   "source": [
    "df.info()"
   ]
  },
  {
   "cell_type": "code",
   "execution_count": 11,
   "metadata": {
    "ExecuteTime": {
     "end_time": "2020-12-02T19:19:36.955390Z",
     "start_time": "2020-12-02T19:19:36.951289Z"
    }
   },
   "outputs": [
    {
     "data": {
      "text/plain": [
       "0        2020-04-30\n",
       "1        2020-04-30\n",
       "2        2020-04-30\n",
       "3        2020-04-30\n",
       "4        2020-04-30\n",
       "            ...    \n",
       "879685   2020-10-31\n",
       "879686   2020-10-31\n",
       "879687   2020-10-31\n",
       "879688   2020-10-31\n",
       "879689   2020-10-31\n",
       "Name: End of Period, Length: 879690, dtype: datetime64[ns]"
      ]
     },
     "execution_count": 11,
     "metadata": {},
     "output_type": "execute_result"
    }
   ],
   "source": [
    "df[\"End of Period\"]"
   ]
  },
  {
   "cell_type": "markdown",
   "metadata": {},
   "source": [
    "we can see that the Series starts with 30/04/2020 and ends with 31/10/2020 while the dataset includes all the investment/loan from 2011 to 2020. This indicates that the dataset is in a wrong order of date. We can re-sort the dataset on the basic of the end day to see the entries from latest to the oldest."
   ]
  },
  {
   "cell_type": "code",
   "execution_count": 12,
   "metadata": {
    "ExecuteTime": {
     "end_time": "2020-12-02T19:19:37.278037Z",
     "start_time": "2020-12-02T19:19:36.956673Z"
    }
   },
   "outputs": [
    {
     "data": {
      "text/html": [
       "<div>\n",
       "<style scoped>\n",
       "    .dataframe tbody tr th:only-of-type {\n",
       "        vertical-align: middle;\n",
       "    }\n",
       "\n",
       "    .dataframe tbody tr th {\n",
       "        vertical-align: top;\n",
       "    }\n",
       "\n",
       "    .dataframe thead th {\n",
       "        text-align: right;\n",
       "    }\n",
       "</style>\n",
       "<table border=\"1\" class=\"dataframe\">\n",
       "  <thead>\n",
       "    <tr style=\"text-align: right;\">\n",
       "      <th></th>\n",
       "      <th>End of Period</th>\n",
       "      <th>Credit Number</th>\n",
       "      <th>Region</th>\n",
       "      <th>Country Code</th>\n",
       "      <th>Country</th>\n",
       "      <th>Borrower</th>\n",
       "      <th>Credit Status</th>\n",
       "      <th>Service Charge Rate</th>\n",
       "      <th>Currency of Commitment</th>\n",
       "      <th>Project ID</th>\n",
       "      <th>...</th>\n",
       "      <th>Repaid 3rd Party</th>\n",
       "      <th>Due 3rd Party</th>\n",
       "      <th>Credits Held</th>\n",
       "      <th>First Repayment Date</th>\n",
       "      <th>Last Repayment Date</th>\n",
       "      <th>Agreement Signing Date</th>\n",
       "      <th>Board Approval Date</th>\n",
       "      <th>Effective Date (Most Recent)</th>\n",
       "      <th>Closed Date (Most Recent)</th>\n",
       "      <th>Last Disbursement Date</th>\n",
       "    </tr>\n",
       "  </thead>\n",
       "  <tbody>\n",
       "    <tr>\n",
       "      <th>879689</th>\n",
       "      <td>2020-10-31</td>\n",
       "      <td>IDAS0270</td>\n",
       "      <td>AFRICA EAST</td>\n",
       "      <td>TZ</td>\n",
       "      <td>Tanzania</td>\n",
       "      <td>Ministry of Finance and Planning</td>\n",
       "      <td>Fully Repaid</td>\n",
       "      <td>0.75</td>\n",
       "      <td>USD</td>\n",
       "      <td>P002729</td>\n",
       "      <td>...</td>\n",
       "      <td>0.0</td>\n",
       "      <td>0.0</td>\n",
       "      <td>0.00</td>\n",
       "      <td>1983-09-15</td>\n",
       "      <td>2030-03-15</td>\n",
       "      <td>1980-06-30</td>\n",
       "      <td>1980-06-12</td>\n",
       "      <td>1980-09-12</td>\n",
       "      <td>1982-09-30</td>\n",
       "      <td>NaT</td>\n",
       "    </tr>\n",
       "    <tr>\n",
       "      <th>873548</th>\n",
       "      <td>2020-10-31</td>\n",
       "      <td>IDA28310</td>\n",
       "      <td>EAST ASIA AND PACIFIC</td>\n",
       "      <td>CN</td>\n",
       "      <td>China</td>\n",
       "      <td>MINISTRY OF FINANCE</td>\n",
       "      <td>Repaying</td>\n",
       "      <td>0.75</td>\n",
       "      <td>XDR</td>\n",
       "      <td>P036950</td>\n",
       "      <td>...</td>\n",
       "      <td>0.0</td>\n",
       "      <td>0.0</td>\n",
       "      <td>16593004.17</td>\n",
       "      <td>2006-08-15</td>\n",
       "      <td>2031-02-15</td>\n",
       "      <td>1996-04-17</td>\n",
       "      <td>1996-03-21</td>\n",
       "      <td>1996-07-16</td>\n",
       "      <td>2001-12-31</td>\n",
       "      <td>2002-05-03</td>\n",
       "    </tr>\n",
       "    <tr>\n",
       "      <th>873554</th>\n",
       "      <td>2020-10-31</td>\n",
       "      <td>IDA2836A</td>\n",
       "      <td>AFRICA WEST</td>\n",
       "      <td>GH</td>\n",
       "      <td>Ghana</td>\n",
       "      <td>MINISTRY FOR FINANCE</td>\n",
       "      <td>Fully Repaid</td>\n",
       "      <td>0.75</td>\n",
       "      <td>XDR</td>\n",
       "      <td>P000973</td>\n",
       "      <td>...</td>\n",
       "      <td>0.0</td>\n",
       "      <td>0.0</td>\n",
       "      <td>0.00</td>\n",
       "      <td>2006-07-01</td>\n",
       "      <td>2036-01-01</td>\n",
       "      <td>1996-05-20</td>\n",
       "      <td>1996-03-26</td>\n",
       "      <td>1996-09-03</td>\n",
       "      <td>2003-12-31</td>\n",
       "      <td>NaT</td>\n",
       "    </tr>\n",
       "    <tr>\n",
       "      <th>873553</th>\n",
       "      <td>2020-10-31</td>\n",
       "      <td>IDA28360</td>\n",
       "      <td>AFRICA WEST</td>\n",
       "      <td>GH</td>\n",
       "      <td>Ghana</td>\n",
       "      <td>MINISTRY FOR FINANCE</td>\n",
       "      <td>Repaying</td>\n",
       "      <td>0.75</td>\n",
       "      <td>XDR</td>\n",
       "      <td>P000973</td>\n",
       "      <td>...</td>\n",
       "      <td>0.0</td>\n",
       "      <td>0.0</td>\n",
       "      <td>785575.51</td>\n",
       "      <td>2006-07-01</td>\n",
       "      <td>2036-01-01</td>\n",
       "      <td>1996-05-20</td>\n",
       "      <td>1996-03-26</td>\n",
       "      <td>1996-09-03</td>\n",
       "      <td>2003-12-31</td>\n",
       "      <td>2004-05-28</td>\n",
       "    </tr>\n",
       "    <tr>\n",
       "      <th>873552</th>\n",
       "      <td>2020-10-31</td>\n",
       "      <td>IDA28350</td>\n",
       "      <td>AFRICA WEST</td>\n",
       "      <td>MR</td>\n",
       "      <td>Mauritania</td>\n",
       "      <td>Ministry of Economy and Finance</td>\n",
       "      <td>Fully Repaid</td>\n",
       "      <td>0.75</td>\n",
       "      <td>XDR</td>\n",
       "      <td>P034106</td>\n",
       "      <td>...</td>\n",
       "      <td>0.0</td>\n",
       "      <td>0.0</td>\n",
       "      <td>0.00</td>\n",
       "      <td>2006-05-01</td>\n",
       "      <td>2035-11-01</td>\n",
       "      <td>1996-04-16</td>\n",
       "      <td>1996-03-26</td>\n",
       "      <td>1996-08-16</td>\n",
       "      <td>2001-12-31</td>\n",
       "      <td>2002-12-13</td>\n",
       "    </tr>\n",
       "  </tbody>\n",
       "</table>\n",
       "<p>5 rows × 30 columns</p>\n",
       "</div>"
      ],
      "text/plain": [
       "       End of Period Credit Number                 Region Country Code  \\\n",
       "879689    2020-10-31      IDAS0270            AFRICA EAST           TZ   \n",
       "873548    2020-10-31      IDA28310  EAST ASIA AND PACIFIC           CN   \n",
       "873554    2020-10-31      IDA2836A            AFRICA WEST           GH   \n",
       "873553    2020-10-31      IDA28360            AFRICA WEST           GH   \n",
       "873552    2020-10-31      IDA28350            AFRICA WEST           MR   \n",
       "\n",
       "           Country                          Borrower Credit Status  \\\n",
       "879689    Tanzania  Ministry of Finance and Planning  Fully Repaid   \n",
       "873548       China               MINISTRY OF FINANCE      Repaying   \n",
       "873554       Ghana              MINISTRY FOR FINANCE  Fully Repaid   \n",
       "873553       Ghana              MINISTRY FOR FINANCE      Repaying   \n",
       "873552  Mauritania   Ministry of Economy and Finance  Fully Repaid   \n",
       "\n",
       "        Service Charge Rate Currency of Commitment Project ID  ...  \\\n",
       "879689                 0.75                    USD    P002729  ...   \n",
       "873548                 0.75                    XDR    P036950  ...   \n",
       "873554                 0.75                    XDR    P000973  ...   \n",
       "873553                 0.75                    XDR    P000973  ...   \n",
       "873552                 0.75                    XDR    P034106  ...   \n",
       "\n",
       "       Repaid 3rd Party  Due 3rd Party  Credits Held  First Repayment Date  \\\n",
       "879689              0.0            0.0          0.00            1983-09-15   \n",
       "873548              0.0            0.0   16593004.17            2006-08-15   \n",
       "873554              0.0            0.0          0.00            2006-07-01   \n",
       "873553              0.0            0.0     785575.51            2006-07-01   \n",
       "873552              0.0            0.0          0.00            2006-05-01   \n",
       "\n",
       "        Last Repayment Date  Agreement Signing Date  Board Approval Date  \\\n",
       "879689           2030-03-15              1980-06-30           1980-06-12   \n",
       "873548           2031-02-15              1996-04-17           1996-03-21   \n",
       "873554           2036-01-01              1996-05-20           1996-03-26   \n",
       "873553           2036-01-01              1996-05-20           1996-03-26   \n",
       "873552           2035-11-01              1996-04-16           1996-03-26   \n",
       "\n",
       "       Effective Date (Most Recent)  Closed Date (Most Recent)  \\\n",
       "879689                   1980-09-12                 1982-09-30   \n",
       "873548                   1996-07-16                 2001-12-31   \n",
       "873554                   1996-09-03                 2003-12-31   \n",
       "873553                   1996-09-03                 2003-12-31   \n",
       "873552                   1996-08-16                 2001-12-31   \n",
       "\n",
       "        Last Disbursement Date  \n",
       "879689                     NaT  \n",
       "873548              2002-05-03  \n",
       "873554                     NaT  \n",
       "873553              2004-05-28  \n",
       "873552              2002-12-13  \n",
       "\n",
       "[5 rows x 30 columns]"
      ]
     },
     "execution_count": 12,
     "metadata": {},
     "output_type": "execute_result"
    }
   ],
   "source": [
    "df = df.sort_values(\"End of Period\", ascending=False)\n",
    "df.head()"
   ]
  },
  {
   "cell_type": "markdown",
   "metadata": {},
   "source": [
    "#### drop unecessary columns\n",
    "Amongs the columns, we can drop \"Country name\" and keep the \"Country code\" for future reference and simplify the dataset."
   ]
  },
  {
   "cell_type": "code",
   "execution_count": 13,
   "metadata": {
    "ExecuteTime": {
     "end_time": "2020-12-02T19:19:37.452639Z",
     "start_time": "2020-12-02T19:19:37.279377Z"
    }
   },
   "outputs": [],
   "source": [
    "df.drop(\"Country\", inplace=True, axis=1)"
   ]
  },
  {
   "cell_type": "markdown",
   "metadata": {},
   "source": [
    "For three columns: \"Sold 3rd Party\", \"Repaid 3rd Party\", and \"Due 3rd Party\". Most of the value in these columns are 0.0."
   ]
  },
  {
   "cell_type": "code",
   "execution_count": 14,
   "metadata": {
    "ExecuteTime": {
     "end_time": "2020-12-02T19:19:37.460629Z",
     "start_time": "2020-12-02T19:19:37.453677Z"
    }
   },
   "outputs": [
    {
     "data": {
      "text/plain": [
       "0.00           877388\n",
       "6000000.00        230\n",
       "5000000.00        115\n",
       "4375000.00        115\n",
       "4744773.41        115\n",
       "2193391.07        115\n",
       "2819734.91        115\n",
       "3153859.47        115\n",
       "5492620.63        115\n",
       "17500000.00       115\n",
       "8268037.68        115\n",
       "2198892.69        115\n",
       "7224416.98        115\n",
       "6200000.00        115\n",
       "4059467.38        115\n",
       "6861742.00        115\n",
       "721709.87         115\n",
       "1854376.07        115\n",
       "5998430.44        115\n",
       "5350000.00        115\n",
       "Name: Sold 3rd Party, dtype: int64"
      ]
     },
     "execution_count": 14,
     "metadata": {},
     "output_type": "execute_result"
    }
   ],
   "source": [
    "df[\"Sold 3rd Party\"].value_counts()"
   ]
  },
  {
   "cell_type": "code",
   "execution_count": 15,
   "metadata": {
    "ExecuteTime": {
     "end_time": "2020-12-02T19:19:37.468430Z",
     "start_time": "2020-12-02T19:19:37.461672Z"
    }
   },
   "outputs": [
    {
     "data": {
      "text/plain": [
       "0.00           877388\n",
       "6000000.00        230\n",
       "5000000.00        115\n",
       "4375000.00        115\n",
       "4744773.41        115\n",
       "2193391.07        115\n",
       "2819734.91        115\n",
       "3153859.47        115\n",
       "5492620.63        115\n",
       "17500000.00       115\n",
       "8268037.68        115\n",
       "2198892.69        115\n",
       "7224416.98        115\n",
       "6200000.00        115\n",
       "4059467.38        115\n",
       "6861742.00        115\n",
       "721709.87         115\n",
       "1854376.07        115\n",
       "5998430.44        115\n",
       "5350000.00        115\n",
       "Name: Repaid 3rd Party, dtype: int64"
      ]
     },
     "execution_count": 15,
     "metadata": {},
     "output_type": "execute_result"
    }
   ],
   "source": [
    "df[\"Repaid 3rd Party\"].value_counts()"
   ]
  },
  {
   "cell_type": "code",
   "execution_count": 16,
   "metadata": {
    "ExecuteTime": {
     "end_time": "2020-12-02T19:19:37.476572Z",
     "start_time": "2020-12-02T19:19:37.469448Z"
    }
   },
   "outputs": [
    {
     "data": {
      "text/plain": [
       "0.0    879688\n",
       "Name: Due 3rd Party, dtype: int64"
      ]
     },
     "execution_count": 16,
     "metadata": {},
     "output_type": "execute_result"
    }
   ],
   "source": [
    "df[\"Due 3rd Party\"].value_counts()"
   ]
  },
  {
   "cell_type": "markdown",
   "metadata": {},
   "source": [
    "Therefore, these columns will be dropped since it is contribute nothing to the finding with those value."
   ]
  },
  {
   "cell_type": "code",
   "execution_count": 17,
   "metadata": {
    "ExecuteTime": {
     "end_time": "2020-12-02T19:19:37.676398Z",
     "start_time": "2020-12-02T19:19:37.477669Z"
    }
   },
   "outputs": [],
   "source": [
    "df.drop([\"Sold 3rd Party\", \"Repaid 3rd Party\", \"Due 3rd Party\"], axis=1, inplace=True)"
   ]
  },
  {
   "cell_type": "markdown",
   "metadata": {},
   "source": [
    "Columns \"Borrower's Obligation\", and \"Due to IDA\" have the same value for all the rows, therefore, one can be dropped."
   ]
  },
  {
   "cell_type": "code",
   "execution_count": 18,
   "metadata": {
    "ExecuteTime": {
     "end_time": "2020-12-02T19:19:37.897413Z",
     "start_time": "2020-12-02T19:19:37.677763Z"
    }
   },
   "outputs": [
    {
     "data": {
      "text/plain": [
       "(879688, 26)"
      ]
     },
     "execution_count": 18,
     "metadata": {},
     "output_type": "execute_result"
    }
   ],
   "source": [
    "df[df[\"Borrower's Obligation\"]==df[\"Due to IDA\"]].shape"
   ]
  },
  {
   "cell_type": "code",
   "execution_count": 19,
   "metadata": {
    "ExecuteTime": {
     "end_time": "2020-12-02T19:19:38.087889Z",
     "start_time": "2020-12-02T19:19:37.898607Z"
    }
   },
   "outputs": [],
   "source": [
    "df.drop(\"Due to IDA\", axis=1, inplace=True)"
   ]
  },
  {
   "cell_type": "markdown",
   "metadata": {},
   "source": [
    "There are also columns that will not support the later analyzing such as: Credit Number, Project Name, Project ID. Therefore, these columns will also be dropped."
   ]
  },
  {
   "cell_type": "code",
   "execution_count": 20,
   "metadata": {
    "ExecuteTime": {
     "end_time": "2020-12-02T19:19:38.241983Z",
     "start_time": "2020-12-02T19:19:38.088951Z"
    }
   },
   "outputs": [],
   "source": [
    "df.drop([\"Credit Number\", \"Project Name\", \"Project ID\"], axis=1, inplace=True)"
   ]
  },
  {
   "cell_type": "code",
   "execution_count": 21,
   "metadata": {
    "ExecuteTime": {
     "end_time": "2020-12-02T19:19:38.299659Z",
     "start_time": "2020-12-02T19:19:38.243082Z"
    }
   },
   "outputs": [
    {
     "data": {
      "text/plain": [
       "XDR    735205\n",
       "USD    137942\n",
       "EUR      6425\n",
       "XAF       107\n",
       "JPY        11\n",
       "Name: Currency of Commitment, dtype: int64"
      ]
     },
     "execution_count": 21,
     "metadata": {},
     "output_type": "execute_result"
    }
   ],
   "source": [
    "df[\"Currency of Commitment\"].value_counts()"
   ]
  },
  {
   "cell_type": "code",
   "execution_count": 22,
   "metadata": {
    "ExecuteTime": {
     "end_time": "2020-12-02T19:19:38.385937Z",
     "start_time": "2020-12-02T19:19:38.300653Z"
    }
   },
   "outputs": [
    {
     "data": {
      "text/plain": [
       "XDR    83.575464\n",
       "USD    15.680751\n",
       "EUR     0.730371\n",
       "XAF     0.012163\n",
       "JPY     0.001250\n",
       "Name: Currency of Commitment, dtype: float64"
      ]
     },
     "execution_count": 22,
     "metadata": {},
     "output_type": "execute_result"
    }
   ],
   "source": [
    "df[\"Currency of Commitment\"].value_counts()*100/df[\"Currency of Commitment\"].count()"
   ]
  },
  {
   "cell_type": "markdown",
   "metadata": {},
   "source": [
    "For Currency of Commitment columns, it includes 5 values: XDR, USD, EUR, XAF, and JPY. Most of the loan are recorded and commited in XDR, which is over 80%, therefore, we decide to drop this column."
   ]
  },
  {
   "cell_type": "code",
   "execution_count": 23,
   "metadata": {
    "ExecuteTime": {
     "end_time": "2020-12-02T19:19:38.524338Z",
     "start_time": "2020-12-02T19:19:38.388740Z"
    }
   },
   "outputs": [],
   "source": [
    "df.drop(\"Currency of Commitment\", axis=1, inplace=True)"
   ]
  },
  {
   "cell_type": "markdown",
   "metadata": {},
   "source": [
    "### Dealing with NaN value"
   ]
  },
  {
   "cell_type": "code",
   "execution_count": 24,
   "metadata": {
    "ExecuteTime": {
     "end_time": "2020-12-02T19:19:47.783426Z",
     "start_time": "2020-12-02T19:19:38.526088Z"
    }
   },
   "outputs": [
    {
     "data": {
      "text/plain": [
       "<AxesSubplot:>"
      ]
     },
     "execution_count": 24,
     "metadata": {},
     "output_type": "execute_result"
    },
    {
     "data": {
      "image/png": "[encoded data removed]",
      "text/plain": [
       "<Figure size 432x288 with 1 Axes>"
      ]
     },
     "metadata": {
      "needs_background": "light"
     },
     "output_type": "display_data"
    }
   ],
   "source": [
    "sns.heatmap(df.isnull(), cbar=False, yticklabels=[])"
   ]
  },
  {
   "cell_type": "markdown",
   "metadata": {},
   "source": [
    "Amongs columns with NaN value, \"Last Disbursement Date\" is the one with the most amount of missing values. It could be dropped without affecting the information of dataset since this cleaning will focus on extracting information for country, region categories."
   ]
  },
  {
   "cell_type": "code",
   "execution_count": 25,
   "metadata": {
    "ExecuteTime": {
     "end_time": "2020-12-02T19:19:47.917438Z",
     "start_time": "2020-12-02T19:19:47.784574Z"
    }
   },
   "outputs": [],
   "source": [
    "df.drop(\"Last Disbursement Date\", inplace=True, axis=1)"
   ]
  },
  {
   "cell_type": "code",
   "execution_count": 26,
   "metadata": {
    "ExecuteTime": {
     "end_time": "2020-12-02T19:19:48.226294Z",
     "start_time": "2020-12-02T19:19:47.918602Z"
    }
   },
   "outputs": [
    {
     "data": {
      "text/plain": [
       "Last Repayment Date             126845\n",
       "First Repayment Date            126845\n",
       "Service Charge Rate              56786\n",
       "Agreement Signing Date           13726\n",
       "Effective Date (Most Recent)      8803\n",
       "Borrower                           442\n",
       "Closed Date (Most Recent)          350\n",
       "Board Approval Date                179\n",
       "Borrower's Obligation                2\n",
       "Repaid to IDA                        2\n",
       "Disbursed Amount                     2\n",
       "Cancelled Amount                     2\n",
       "dtype: int64"
      ]
     },
     "execution_count": 26,
     "metadata": {},
     "output_type": "execute_result"
    }
   ],
   "source": [
    "df.isnull().sum()[df.isnull().sum()!=0].sort_values(ascending=False)"
   ]
  },
  {
   "cell_type": "markdown",
   "metadata": {},
   "source": [
    "The remaining amount of missing value is still high for the date information, these columns will be removed rather than removing the rows with missing value which can reduce the information of dataset significantly. We will also drop \"Borrower\" column since the analyzing will focus on country and region, so we don't really need that information."
   ]
  },
  {
   "cell_type": "code",
   "execution_count": 27,
   "metadata": {
    "ExecuteTime": {
     "end_time": "2020-12-02T19:19:48.316420Z",
     "start_time": "2020-12-02T19:19:48.227122Z"
    }
   },
   "outputs": [],
   "source": [
    "df.drop([\"Last Repayment Date\", \"First Repayment Date\", \"Agreement Signing Date\", \"Effective Date (Most Recent)\",\n",
    "        \"Closed Date (Most Recent)\", \"Board Approval Date\", \"Borrower\"], axis=1, inplace=True)"
   ]
  },
  {
   "cell_type": "code",
   "execution_count": 28,
   "metadata": {
    "ExecuteTime": {
     "end_time": "2020-12-02T19:19:48.319580Z",
     "start_time": "2020-12-02T19:19:48.317553Z"
    }
   },
   "outputs": [
    {
     "data": {
      "text/plain": [
       "(879690, 13)"
      ]
     },
     "execution_count": 28,
     "metadata": {},
     "output_type": "execute_result"
    }
   ],
   "source": [
    "df.shape"
   ]
  },
  {
   "cell_type": "markdown",
   "metadata": {},
   "source": [
    "The dataset now contains 879,690 entries with 21 attributes."
   ]
  },
  {
   "cell_type": "code",
   "execution_count": 29,
   "metadata": {
    "ExecuteTime": {
     "end_time": "2020-12-02T19:19:48.562639Z",
     "start_time": "2020-12-02T19:19:48.321193Z"
    }
   },
   "outputs": [
    {
     "data": {
      "text/plain": [
       "Service Charge Rate      56786\n",
       "Borrower's Obligation        2\n",
       "Repaid to IDA                2\n",
       "Disbursed Amount             2\n",
       "Cancelled Amount             2\n",
       "dtype: int64"
      ]
     },
     "execution_count": 29,
     "metadata": {},
     "output_type": "execute_result"
    }
   ],
   "source": [
    "df.isnull().sum()[df.isnull().sum()!=0].sort_values(ascending=False)"
   ]
  },
  {
   "cell_type": "markdown",
   "metadata": {},
   "source": [
    "The major of missing values now is in \"Interest Rate/ Service Charge Rate\" column. Let's examine the value before deciding to drop or not."
   ]
  },
  {
   "cell_type": "code",
   "execution_count": 30,
   "metadata": {
    "ExecuteTime": {
     "end_time": "2020-12-02T19:19:48.573062Z",
     "start_time": "2020-12-02T19:19:48.563633Z"
    }
   },
   "outputs": [
    {
     "data": {
      "text/plain": [
       "0.75    700840\n",
       "0.00     81552\n",
       "2.00     21585\n",
       "2.45      2867\n",
       "2.72      2141\n",
       "         ...  \n",
       "1.66         1\n",
       "2.21         1\n",
       "2.66         1\n",
       "2.48         1\n",
       "1.91         1\n",
       "Name: Service Charge Rate, Length: 177, dtype: int64"
      ]
     },
     "execution_count": 30,
     "metadata": {},
     "output_type": "execute_result"
    }
   ],
   "source": [
    "df[\"Service Charge Rate\"].value_counts()"
   ]
  },
  {
   "cell_type": "markdown",
   "metadata": {},
   "source": [
    "We can see that the most common value is 0.75, 0.00, and 2.0. Therefore, we decide to categorized them into 5 groups to evaluate.\n",
    "- Group 0: interest rate is 0.00\n",
    "- Group 1: interest rate is 0.75\n",
    "- Group 2: interest rate is 2.00\n",
    "- Group 3: interest rate is missing\n",
    "- Group 4: interest rate is other"
   ]
  },
  {
   "cell_type": "code",
   "execution_count": 31,
   "metadata": {
    "ExecuteTime": {
     "end_time": "2020-12-02T19:19:48.582615Z",
     "start_time": "2020-12-02T19:19:48.573818Z"
    }
   },
   "outputs": [],
   "source": [
    "# Copy region and service charge rate to other dataset for separating evaluation.\n",
    "temp = df[[\"Service Charge Rate\", \"Region\"]].copy()"
   ]
  },
  {
   "cell_type": "code",
   "execution_count": 32,
   "metadata": {
    "ExecuteTime": {
     "end_time": "2020-12-02T19:19:48.587998Z",
     "start_time": "2020-12-02T19:19:48.583713Z"
    }
   },
   "outputs": [],
   "source": [
    "# Change NaN value into their group value, 3.\n",
    "temp.loc[:,\"Service Charge Rate\"].fillna(3, inplace = True)"
   ]
  },
  {
   "cell_type": "code",
   "execution_count": 33,
   "metadata": {
    "ExecuteTime": {
     "end_time": "2020-12-02T19:19:48.600269Z",
     "start_time": "2020-12-02T19:19:48.588973Z"
    }
   },
   "outputs": [],
   "source": [
    "# Change the value to their group - 0.0 will be group 0, 0.75 will be group 1, and 2.0 will be group 2\n",
    "temp.loc[:, \"Service Charge Rate\"].replace({0.0:0, 0.75:1, 2.0:2}, inplace=True)"
   ]
  },
  {
   "cell_type": "code",
   "execution_count": 34,
   "metadata": {
    "ExecuteTime": {
     "end_time": "2020-12-02T19:19:48.803366Z",
     "start_time": "2020-12-02T19:19:48.601609Z"
    }
   },
   "outputs": [],
   "source": [
    "# Assign other value to their group 4 - other.\n",
    "temp.loc[:,\"Service Charge Rate\"] = temp.loc[:, \"Service Charge Rate\"].apply(lambda x: 4 if x!=0 and x!=1 and x!=2 and x!= 3 else x)"
   ]
  },
  {
   "cell_type": "code",
   "execution_count": 35,
   "metadata": {
    "ExecuteTime": {
     "end_time": "2020-12-02T19:19:48.934777Z",
     "start_time": "2020-12-02T19:19:48.804569Z"
    }
   },
   "outputs": [],
   "source": [
    "# Get the percentage of each group based on region.\n",
    "a = temp.groupby([\"Region\"])[\"Service Charge Rate\"].value_counts()\n",
    "b = temp.groupby([\"Region\"])[\"Service Charge Rate\"].count()\n",
    "c = (a*100/b).unstack()\n",
    "# Region that doesn't have all group, those missing value will be 0, indicates 0%.\n",
    "c.fillna(0, inplace=True)"
   ]
  },
  {
   "cell_type": "code",
   "execution_count": 36,
   "metadata": {
    "ExecuteTime": {
     "end_time": "2020-12-02T19:19:48.937919Z",
     "start_time": "2020-12-02T19:19:48.935858Z"
    }
   },
   "outputs": [],
   "source": [
    "# Get list of region to be set as xtick.\n",
    "group = c.index.to_list()\n",
    "# Create a list that contain all the percent for each group.\n",
    "# group 0  will be a list at bar[0]\n",
    "bar = []\n",
    "for i in c.columns:\n",
    "    bar.append(c[i].to_list())"
   ]
  },
  {
   "cell_type": "code",
   "execution_count": 37,
   "metadata": {
    "ExecuteTime": {
     "end_time": "2020-12-02T19:19:49.143332Z",
     "start_time": "2020-12-02T19:19:48.939386Z"
    }
   },
   "outputs": [
    {
     "data": {
      "image/png": "[encoded data removed]",
      "text/plain": [
       "<Figure size 720x360 with 1 Axes>"
      ]
     },
     "metadata": {
      "needs_background": "light"
     },
     "output_type": "display_data"
    }
   ],
   "source": [
    "# plot the bar stacked\n",
    "r = np.arange(len(group))\n",
    "fig = plt.figure(figsize=(10,5))\n",
    "ax = fig.add_axes([0.1, 0.1, 0.6, 0.75])\n",
    "b1=plt.bar(r,bar[0], color = '#7DC85D')\n",
    "b2=plt.bar(r,bar[1], bottom=[sum(x) for x in zip(*bar[:1])])\n",
    "b3=plt.bar(r,bar[2], bottom=[sum(x) for x in zip(*bar[:2])], color = '#EA7C15')\n",
    "b4=plt.bar(r,bar[3], bottom=[sum(x) for x in zip(*bar[:3])], color = '#1DA0AF')\n",
    "b5=plt.bar(r,bar[4], bottom=[sum(x) for x in zip(*bar[:4])], color = '#E6E622')\n",
    "plt.xticks(r, group, rotation=90)\n",
    "plt.xlabel(\"region\")\n",
    "plt.ylabel(\"percentage\")\n",
    "plt.legend((b1[0],b2[0],b3[0],b4[0],b5[0]),(0.0,0.75,2.0,'NaN','other'),bbox_to_anchor=(1.05, 1))\n",
    "plt.title(\"Percentage of Interest Rate group on basic of Region\")\n",
    "plt.show()"
   ]
  },
  {
   "cell_type": "markdown",
   "metadata": {
    "ExecuteTime": {
     "end_time": "2020-12-01T13:04:15.637410Z",
     "start_time": "2020-12-01T13:04:15.635119Z"
    }
   },
   "source": [
    "Based on the plotting, the portion of missing value is quite big for Africa East, Africa West, and Other region while it is quite equally for other region. Therefore, if we remove rows that contain missing value of Interest Rate, it will affect a lots when analyzing for those 3 regions. And due to the significant difference between groups, we can't replace these missing values with the mean value since it would change the statistical meaning. In the end, we will remove this columns."
   ]
  },
  {
   "cell_type": "code",
   "execution_count": 38,
   "metadata": {
    "ExecuteTime": {
     "end_time": "2020-12-02T19:19:49.227488Z",
     "start_time": "2020-12-02T19:19:49.152636Z"
    }
   },
   "outputs": [],
   "source": [
    "df.drop(\"Service Charge Rate\", inplace=True, axis=1)"
   ]
  },
  {
   "cell_type": "code",
   "execution_count": 39,
   "metadata": {
    "ExecuteTime": {
     "end_time": "2020-12-02T19:19:49.463685Z",
     "start_time": "2020-12-02T19:19:49.228483Z"
    }
   },
   "outputs": [
    {
     "data": {
      "text/plain": [
       "Borrower's Obligation    2\n",
       "Repaid to IDA            2\n",
       "Disbursed Amount         2\n",
       "Cancelled Amount         2\n",
       "dtype: int64"
      ]
     },
     "execution_count": 39,
     "metadata": {},
     "output_type": "execute_result"
    }
   ],
   "source": [
    "df.isnull().sum()[df.isnull().sum()!=0].sort_values(ascending=False)"
   ]
  },
  {
   "cell_type": "markdown",
   "metadata": {},
   "source": [
    "The remaining amount of missing values along each columns is insignificant comparing to the size of dataset, therefore, we can just simply remove these row."
   ]
  },
  {
   "cell_type": "code",
   "execution_count": 40,
   "metadata": {
    "ExecuteTime": {
     "end_time": "2020-12-02T19:19:49.673406Z",
     "start_time": "2020-12-02T19:19:49.464962Z"
    }
   },
   "outputs": [
    {
     "data": {
      "text/plain": [
       "(879688, 12)"
      ]
     },
     "execution_count": 40,
     "metadata": {},
     "output_type": "execute_result"
    }
   ],
   "source": [
    "df.dropna(how='any', inplace=True)\n",
    "df.shape"
   ]
  },
  {
   "cell_type": "markdown",
   "metadata": {},
   "source": [
    "### Checking for unreasonable value\n",
    "The value of Original Principal Amount column should be greater than zero. Therefore, we drop rows that contain 0 value which doesn't make sense when the loans is equal to zero."
   ]
  },
  {
   "cell_type": "code",
   "execution_count": 42,
   "metadata": {
    "ExecuteTime": {
     "end_time": "2020-12-02T19:21:18.883519Z",
     "start_time": "2020-12-02T19:21:18.801159Z"
    }
   },
   "outputs": [],
   "source": [
    "df = df[df[\"Original Principal Amount\"]!=0.0]"
   ]
  },
  {
   "cell_type": "code",
   "execution_count": 43,
   "metadata": {
    "ExecuteTime": {
     "end_time": "2020-12-02T19:21:39.746748Z",
     "start_time": "2020-12-02T19:21:39.744394Z"
    }
   },
   "outputs": [
    {
     "data": {
      "text/plain": [
       "(874127, 12)"
      ]
     },
     "execution_count": 43,
     "metadata": {},
     "output_type": "execute_result"
    }
   ],
   "source": [
    "df.shape"
   ]
  },
  {
   "cell_type": "markdown",
   "metadata": {},
   "source": [
    "The final dataset now includes 874,127 entries with 12 attribute columns"
   ]
  },
  {
   "cell_type": "code",
   "execution_count": null,
   "metadata": {},
   "outputs": [],
   "source": []
  },
  {
   "cell_type": "markdown",
   "metadata": {},
   "source": [
    "# Analyzing\n",
    "## On the basic of year\n",
    "### The total number of project"
   ]
  },
  {
   "cell_type": "code",
   "execution_count": 44,
   "metadata": {
    "ExecuteTime": {
     "end_time": "2020-12-02T19:22:39.496018Z",
     "start_time": "2020-12-02T19:22:39.216862Z"
    }
   },
   "outputs": [
    {
     "data": {
      "text/plain": [
       "End of Period\n",
       "2011-12-31     58084\n",
       "2012-12-31     79654\n",
       "2013-12-31     82168\n",
       "2014-12-31     85864\n",
       "2015-12-31     89247\n",
       "2016-12-31     91943\n",
       "2017-12-31     95503\n",
       "2018-12-31     99215\n",
       "2019-12-31    102911\n",
       "2020-12-31     89538\n",
       "Freq: A-DEC, Name: Country Code, dtype: int64"
      ]
     },
     "execution_count": 44,
     "metadata": {},
     "output_type": "execute_result"
    }
   ],
   "source": [
    "Project_Yearly = df.set_index(\"End of Period\").resample(\"Y\")\n",
    "a = Project_Yearly[\"Country Code\"].count()\n",
    "a"
   ]
  },
  {
   "cell_type": "code",
   "execution_count": 45,
   "metadata": {
    "ExecuteTime": {
     "end_time": "2020-12-02T19:22:41.812504Z",
     "start_time": "2020-12-02T19:22:41.697697Z"
    }
   },
   "outputs": [
    {
     "data": {
      "image/png": "[encoded data removed]",
      "text/plain": [
       "<Figure size 432x288 with 1 Axes>"
      ]
     },
     "metadata": {
      "needs_background": "light"
     },
     "output_type": "display_data"
    }
   ],
   "source": [
    "ax = sns.barplot(x=a.index.year, y=a.values, data = a)\n",
    "ax.set_title(\"Total number of project has been granted\")\n",
    "ax.set_xlabel(\"Year\")\n",
    "ax.set_ylabel(\"Number of Project\")\n",
    "ax.set_yticks(np.arange(0,120000,20000))\n",
    "plt.show()"
   ]
  },
  {
   "cell_type": "markdown",
   "metadata": {},
   "source": [
    "We can see that the number of fund granted projects increases through years, except for 2020 since this dataset only includes data until the end of October 2020. It is expected to be higher than the previous year 2019.\n",
    "\n",
    "### Min/Max amount of loan across year\n",
    "Thang nao tra no nhanh nhat\n",
    "bieu do duong thay doi theo nam\n",
    "plot diem tap trung project\n",
    "plot tren ban do theo tung country\n",
    "\n"
   ]
  },
  {
   "cell_type": "code",
   "execution_count": 54,
   "metadata": {
    "ExecuteTime": {
     "end_time": "2020-12-02T20:13:23.844440Z",
     "start_time": "2020-12-02T20:13:23.835371Z"
    }
   },
   "outputs": [
    {
     "data": {
      "text/html": [
       "<div>\n",
       "<style scoped>\n",
       "    .dataframe tbody tr th:only-of-type {\n",
       "        vertical-align: middle;\n",
       "    }\n",
       "\n",
       "    .dataframe tbody tr th {\n",
       "        vertical-align: top;\n",
       "    }\n",
       "\n",
       "    .dataframe thead th {\n",
       "        text-align: right;\n",
       "    }\n",
       "</style>\n",
       "<table border=\"1\" class=\"dataframe\">\n",
       "  <thead>\n",
       "    <tr style=\"text-align: right;\">\n",
       "      <th></th>\n",
       "      <th>End of Period</th>\n",
       "      <th>Region</th>\n",
       "      <th>Country Code</th>\n",
       "      <th>Credit Status</th>\n",
       "      <th>Original Principal Amount</th>\n",
       "      <th>Cancelled Amount</th>\n",
       "      <th>Undisbursed Amount</th>\n",
       "      <th>Disbursed Amount</th>\n",
       "      <th>Repaid to IDA</th>\n",
       "      <th>Exchange Adjustment</th>\n",
       "      <th>Borrower's Obligation</th>\n",
       "      <th>Credits Held</th>\n",
       "    </tr>\n",
       "  </thead>\n",
       "  <tbody>\n",
       "    <tr>\n",
       "      <th>879689</th>\n",
       "      <td>2020-10-31</td>\n",
       "      <td>AFRICA EAST</td>\n",
       "      <td>TZ</td>\n",
       "      <td>Fully Repaid</td>\n",
       "      <td>3.000000e+07</td>\n",
       "      <td>0.00</td>\n",
       "      <td>0.0</td>\n",
       "      <td>30000000.00</td>\n",
       "      <td>30000000.00</td>\n",
       "      <td>0</td>\n",
       "      <td>0.00</td>\n",
       "      <td>0.00</td>\n",
       "    </tr>\n",
       "    <tr>\n",
       "      <th>873548</th>\n",
       "      <td>2020-10-31</td>\n",
       "      <td>EAST ASIA AND PACIFIC</td>\n",
       "      <td>CN</td>\n",
       "      <td>Repaying</td>\n",
       "      <td>1.000000e+08</td>\n",
       "      <td>338798.87</td>\n",
       "      <td>0.0</td>\n",
       "      <td>91831087.70</td>\n",
       "      <td>80001354.13</td>\n",
       "      <td>0</td>\n",
       "      <td>16593004.17</td>\n",
       "      <td>16593004.17</td>\n",
       "    </tr>\n",
       "    <tr>\n",
       "      <th>873554</th>\n",
       "      <td>2020-10-31</td>\n",
       "      <td>AFRICA WEST</td>\n",
       "      <td>GH</td>\n",
       "      <td>Fully Repaid</td>\n",
       "      <td>6.966211e+07</td>\n",
       "      <td>0.00</td>\n",
       "      <td>0.0</td>\n",
       "      <td>67287331.69</td>\n",
       "      <td>68940531.23</td>\n",
       "      <td>0</td>\n",
       "      <td>0.00</td>\n",
       "      <td>0.00</td>\n",
       "    </tr>\n",
       "    <tr>\n",
       "      <th>873553</th>\n",
       "      <td>2020-10-31</td>\n",
       "      <td>AFRICA WEST</td>\n",
       "      <td>GH</td>\n",
       "      <td>Repaying</td>\n",
       "      <td>1.337893e+06</td>\n",
       "      <td>4701.72</td>\n",
       "      <td>0.0</td>\n",
       "      <td>1333191.25</td>\n",
       "      <td>497144.00</td>\n",
       "      <td>0</td>\n",
       "      <td>785575.51</td>\n",
       "      <td>785575.51</td>\n",
       "    </tr>\n",
       "    <tr>\n",
       "      <th>873552</th>\n",
       "      <td>2020-10-31</td>\n",
       "      <td>AFRICA WEST</td>\n",
       "      <td>MR</td>\n",
       "      <td>Fully Repaid</td>\n",
       "      <td>1.400000e+07</td>\n",
       "      <td>1152285.00</td>\n",
       "      <td>0.0</td>\n",
       "      <td>11834465.21</td>\n",
       "      <td>13085409.17</td>\n",
       "      <td>0</td>\n",
       "      <td>0.00</td>\n",
       "      <td>0.00</td>\n",
       "    </tr>\n",
       "  </tbody>\n",
       "</table>\n",
       "</div>"
      ],
      "text/plain": [
       "       End of Period                 Region Country Code Credit Status  \\\n",
       "879689    2020-10-31            AFRICA EAST           TZ  Fully Repaid   \n",
       "873548    2020-10-31  EAST ASIA AND PACIFIC           CN      Repaying   \n",
       "873554    2020-10-31            AFRICA WEST           GH  Fully Repaid   \n",
       "873553    2020-10-31            AFRICA WEST           GH      Repaying   \n",
       "873552    2020-10-31            AFRICA WEST           MR  Fully Repaid   \n",
       "\n",
       "        Original Principal Amount  Cancelled Amount  Undisbursed Amount  \\\n",
       "879689               3.000000e+07              0.00                 0.0   \n",
       "873548               1.000000e+08         338798.87                 0.0   \n",
       "873554               6.966211e+07              0.00                 0.0   \n",
       "873553               1.337893e+06           4701.72                 0.0   \n",
       "873552               1.400000e+07        1152285.00                 0.0   \n",
       "\n",
       "        Disbursed Amount  Repaid to IDA Exchange Adjustment  \\\n",
       "879689       30000000.00    30000000.00                   0   \n",
       "873548       91831087.70    80001354.13                   0   \n",
       "873554       67287331.69    68940531.23                   0   \n",
       "873553        1333191.25      497144.00                   0   \n",
       "873552       11834465.21    13085409.17                   0   \n",
       "\n",
       "        Borrower's Obligation  Credits Held  \n",
       "879689                   0.00          0.00  \n",
       "873548            16593004.17   16593004.17  \n",
       "873554                   0.00          0.00  \n",
       "873553              785575.51     785575.51  \n",
       "873552                   0.00          0.00  "
      ]
     },
     "execution_count": 54,
     "metadata": {},
     "output_type": "execute_result"
    }
   ],
   "source": [
    "df.head()"
   ]
  },
  {
   "cell_type": "code",
   "execution_count": 47,
   "metadata": {
    "ExecuteTime": {
     "end_time": "2020-12-02T19:22:54.713650Z",
     "start_time": "2020-12-02T19:22:54.698796Z"
    }
   },
   "outputs": [
    {
     "data": {
      "text/html": [
       "<div>\n",
       "<style scoped>\n",
       "    .dataframe tbody tr th:only-of-type {\n",
       "        vertical-align: middle;\n",
       "    }\n",
       "\n",
       "    .dataframe tbody tr th {\n",
       "        vertical-align: top;\n",
       "    }\n",
       "\n",
       "    .dataframe thead th {\n",
       "        text-align: right;\n",
       "    }\n",
       "</style>\n",
       "<table border=\"1\" class=\"dataframe\">\n",
       "  <thead>\n",
       "    <tr style=\"text-align: right;\">\n",
       "      <th></th>\n",
       "      <th>min</th>\n",
       "      <th>max</th>\n",
       "    </tr>\n",
       "    <tr>\n",
       "      <th>End of Period</th>\n",
       "      <th></th>\n",
       "      <th></th>\n",
       "    </tr>\n",
       "  </thead>\n",
       "  <tbody>\n",
       "    <tr>\n",
       "      <th>2011-12-31</th>\n",
       "      <td>673.03</td>\n",
       "      <td>1.200000e+09</td>\n",
       "    </tr>\n",
       "    <tr>\n",
       "      <th>2012-12-31</th>\n",
       "      <td>673.03</td>\n",
       "      <td>1.200000e+09</td>\n",
       "    </tr>\n",
       "    <tr>\n",
       "      <th>2013-12-31</th>\n",
       "      <td>673.03</td>\n",
       "      <td>1.200000e+09</td>\n",
       "    </tr>\n",
       "    <tr>\n",
       "      <th>2014-12-31</th>\n",
       "      <td>673.03</td>\n",
       "      <td>1.200000e+09</td>\n",
       "    </tr>\n",
       "    <tr>\n",
       "      <th>2015-12-31</th>\n",
       "      <td>673.03</td>\n",
       "      <td>1.200000e+09</td>\n",
       "    </tr>\n",
       "    <tr>\n",
       "      <th>2016-12-31</th>\n",
       "      <td>673.03</td>\n",
       "      <td>1.200000e+09</td>\n",
       "    </tr>\n",
       "    <tr>\n",
       "      <th>2017-12-31</th>\n",
       "      <td>673.03</td>\n",
       "      <td>1.200000e+09</td>\n",
       "    </tr>\n",
       "    <tr>\n",
       "      <th>2018-12-31</th>\n",
       "      <td>673.03</td>\n",
       "      <td>1.200000e+09</td>\n",
       "    </tr>\n",
       "    <tr>\n",
       "      <th>2019-12-31</th>\n",
       "      <td>673.03</td>\n",
       "      <td>1.200000e+09</td>\n",
       "    </tr>\n",
       "    <tr>\n",
       "      <th>2020-12-31</th>\n",
       "      <td>673.03</td>\n",
       "      <td>1.200000e+09</td>\n",
       "    </tr>\n",
       "  </tbody>\n",
       "</table>\n",
       "</div>"
      ],
      "text/plain": [
       "                  min           max\n",
       "End of Period                      \n",
       "2011-12-31     673.03  1.200000e+09\n",
       "2012-12-31     673.03  1.200000e+09\n",
       "2013-12-31     673.03  1.200000e+09\n",
       "2014-12-31     673.03  1.200000e+09\n",
       "2015-12-31     673.03  1.200000e+09\n",
       "2016-12-31     673.03  1.200000e+09\n",
       "2017-12-31     673.03  1.200000e+09\n",
       "2018-12-31     673.03  1.200000e+09\n",
       "2019-12-31     673.03  1.200000e+09\n",
       "2020-12-31     673.03  1.200000e+09"
      ]
     },
     "execution_count": 47,
     "metadata": {},
     "output_type": "execute_result"
    }
   ],
   "source": [
    "Project_Yearly[\"Original Principal Amount\"].agg(['min', 'max'])"
   ]
  },
  {
   "cell_type": "code",
   "execution_count": 53,
   "metadata": {
    "ExecuteTime": {
     "end_time": "2020-12-02T19:48:28.245533Z",
     "start_time": "2020-12-02T19:48:28.239372Z"
    }
   },
   "outputs": [
    {
     "data": {
      "text/plain": [
       "Fully Cancelled    57\n",
       "Cancelled          36\n",
       "Signed             21\n",
       "Approved            1\n",
       "Name: Credit Status, dtype: int64"
      ]
     },
     "execution_count": 53,
     "metadata": {},
     "output_type": "execute_result"
    }
   ],
   "source": [
    "df[df[\"Original Principal Amount\"]==df[\"Original Principal Amount\"].max()][\"Credit Status\"].value_counts()"
   ]
  },
  {
   "cell_type": "markdown",
   "metadata": {},
   "source": [
    "## On Region basic\n",
    "### Number of granted project each year across region"
   ]
  },
  {
   "cell_type": "code",
   "execution_count": null,
   "metadata": {
    "ExecuteTime": {
     "end_time": "2020-12-02T12:33:08.666461Z",
     "start_time": "2020-12-02T12:33:08.578209Z"
    }
   },
   "outputs": [],
   "source": [
    "Project_Region = df.groupby([\"End of Period\", \"Region\"])[\"Country Code\"].count().unstack().resample(\"Y\").sum()\n",
    "Project_Region"
   ]
  },
  {
   "cell_type": "code",
   "execution_count": null,
   "metadata": {
    "ExecuteTime": {
     "end_time": "2020-12-02T12:33:12.362572Z",
     "start_time": "2020-12-02T12:33:12.351154Z"
    }
   },
   "outputs": [],
   "source": [
    "Project_Region_pct = Project_Region.apply(lambda x: x*100/x.sum(), axis=1)\n",
    "Project_Region_pct"
   ]
  },
  {
   "cell_type": "code",
   "execution_count": null,
   "metadata": {
    "ExecuteTime": {
     "end_time": "2020-12-02T16:27:09.592831Z",
     "start_time": "2020-12-02T16:27:08.926961Z"
    }
   },
   "outputs": [],
   "source": [
    "a = Project_Region_pct.reset_index()\n",
    "b = pd.melt(a, id_vars=\"End of Period\")\n",
    "b[\"year\"] = b[\"End of Period\"].apply(lambda x: x.year)\n",
    "ax = sns.catplot(x=\"year\", y = \"value\", hue = \"Region\", data=b, kind='bar')\n",
    "ax.fig.suptitle(\"Percentage across region and year\")\n",
    "ax.fig.set_size_inches(13,5)"
   ]
  },
  {
   "cell_type": "markdown",
   "metadata": {},
   "source": [
    "We can see that the percentage of number of project for each region across years is not changing so much except for Africa Region. However, it can be due to a change in grouping, since there is no record of any project from Africa East and West Region before 2020. Therefore, the significant decreasing of number of project from Africa Region is understandable. In sumary:\n",
    "- African Region, in general, have the highest percentage of loaned projects - around 50%\n",
    "- Next is South Asia - approximately 20%\n",
    "- The percentage is similarly for three region: East Asia and Pacific, Europe And Central Asisa, and Latin America and Caribbean, from 7%-10%\n",
    "- The portion is Middle East and North Africa Region is about 5% for each.\n",
    "- And the lowest percentage belongs to other region, which is lower than 1%"
   ]
  },
  {
   "cell_type": "code",
   "execution_count": null,
   "metadata": {
    "ExecuteTime": {
     "end_time": "2020-12-02T12:33:23.636138Z",
     "start_time": "2020-12-02T12:33:23.627491Z"
    }
   },
   "outputs": [],
   "source": [
    "df.head()"
   ]
  },
  {
   "cell_type": "markdown",
   "metadata": {},
   "source": [
    "### Number of country apply for loans across region"
   ]
  },
  {
   "cell_type": "code",
   "execution_count": 55,
   "metadata": {
    "ExecuteTime": {
     "end_time": "2020-12-02T20:21:25.281902Z",
     "start_time": "2020-12-02T20:21:25.157027Z"
    }
   },
   "outputs": [
    {
     "data": {
      "text/plain": [
       "Region\n",
       "AFRICA                          48\n",
       "AFRICA EAST                     24\n",
       "AFRICA WEST                     23\n",
       "EAST ASIA AND PACIFIC           24\n",
       "EUROPE AND CENTRAL ASIA         15\n",
       "LATIN AMERICA AND CARIBBEAN     19\n",
       "MIDDLE EAST AND NORTH AFRICA     9\n",
       "OTHER                            4\n",
       "SOUTH ASIA                       9\n",
       "Name: Country Code, dtype: int64"
      ]
     },
     "execution_count": 55,
     "metadata": {},
     "output_type": "execute_result"
    }
   ],
   "source": [
    "num_country = df.groupby(\"Region\")[\"Country Code\"].nunique()\n",
    "num_country"
   ]
  },
  {
   "cell_type": "code",
   "execution_count": null,
   "metadata": {
    "ExecuteTime": {
     "end_time": "2020-12-02T18:05:46.360374Z",
     "start_time": "2020-12-02T18:05:46.242683Z"
    }
   },
   "outputs": [],
   "source": [
    "a = num_country.reset_index()\n",
    "ax = sns.barplot(data=a, x=\"Region\", y=\"Country Code\")\n",
    "ax.set_xticklabels(ax.get_xticklabels(), rotation=90)\n",
    "plt.show()"
   ]
  },
  {
   "cell_type": "markdown",
   "metadata": {
    "ExecuteTime": {
     "end_time": "2020-12-02T17:58:45.973312Z",
     "start_time": "2020-12-02T17:58:45.970742Z"
    }
   },
   "source": [
    "From the table and chart, we can see that, besides the number of granted projects, Africa also have the highest number of country who apply for loans."
   ]
  }
 ],
 "metadata": {
  "kernelspec": {
   "display_name": "Python 3",
   "language": "python",
   "name": "python3"
  },
  "language_info": {
   "codemirror_mode": {
    "name": "ipython",
    "version": 3
   },
   "file_extension": ".py",
   "mimetype": "text/x-python",
   "name": "python",
   "nbconvert_exporter": "python",
   "pygments_lexer": "ipython3",
   "version": "3.8.3"
  },
  "toc": {
   "base_numbering": 1,
   "nav_menu": {},
   "number_sections": true,
   "sideBar": true,
   "skip_h1_title": false,
   "title_cell": "Table of Contents",
   "title_sidebar": "Contents",
   "toc_cell": false,
   "toc_position": {
    "height": "calc(100% - 180px)",
    "left": "10px",
    "top": "150px",
    "width": "384px"
   },
   "toc_section_display": true,
   "toc_window_display": true
  },
  "varInspector": {
   "cols": {
    "lenName": 16,
    "lenType": 16,
    "lenVar": 40
   },
   "kernels_config": {
    "python": {
     "delete_cmd_postfix": "",
     "delete_cmd_prefix": "del ",
     "library": "var_list.py",
     "varRefreshCmd": "print(var_dic_list())"
    },
    "r": {
     "delete_cmd_postfix": ") ",
     "delete_cmd_prefix": "rm(",
     "library": "var_list.r",
     "varRefreshCmd": "cat(var_dic_list()) "
    }
   },
   "types_to_exclude": [
    "module",
    "function",
    "builtin_function_or_method",
    "instance",
    "_Feature"
   ],
   "window_display": false
  }
 },
 "nbformat": 4,
 "nbformat_minor": 4
}
