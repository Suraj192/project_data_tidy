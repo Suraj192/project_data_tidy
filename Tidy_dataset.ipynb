{
 "cells": [
  {
   "cell_type": "code",
   "execution_count": 61,
   "metadata": {
    "ExecuteTime": {
     "end_time": "2020-12-01T09:12:58.365781Z",
     "start_time": "2020-12-01T09:12:58.363146Z"
    }
   },
   "outputs": [],
   "source": [
    "import numpy as np\n",
    "import pandas as pd\n",
    "import requests\n",
    "from matplotlib import pyplot as plt\n",
    "import seaborn as sns\n",
    "%matplotlib inline"
   ]
  },
  {
   "cell_type": "markdown",
   "metadata": {},
   "source": [
    "# Loading the dataset"
   ]
  },
  {
   "cell_type": "code",
   "execution_count": 2,
   "metadata": {
    "ExecuteTime": {
     "end_time": "2020-12-01T07:21:01.346640Z",
     "start_time": "2020-12-01T07:20:58.672630Z"
    }
   },
   "outputs": [
    {
     "name": "stderr",
     "output_type": "stream",
     "text": [
      "/home/vu/miniconda3/lib/python3.8/site-packages/IPython/core/interactiveshell.py:3145: DtypeWarning: Columns (29) have mixed types.Specify dtype option on import or set low_memory=False.\n",
      "  has_raised = await self.run_ast_nodes(code_ast.body, cell_name,\n",
      "/home/vu/miniconda3/lib/python3.8/site-packages/IPython/core/interactiveshell.py:3145: DtypeWarning: Columns (17) have mixed types.Specify dtype option on import or set low_memory=False.\n",
      "  has_raised = await self.run_ast_nodes(code_ast.body, cell_name,\n"
     ]
    },
    {
     "data": {
      "text/html": [
       "<div>\n",
       "<style scoped>\n",
       "    .dataframe tbody tr th:only-of-type {\n",
       "        vertical-align: middle;\n",
       "    }\n",
       "\n",
       "    .dataframe tbody tr th {\n",
       "        vertical-align: top;\n",
       "    }\n",
       "\n",
       "    .dataframe thead th {\n",
       "        text-align: right;\n",
       "    }\n",
       "</style>\n",
       "<table border=\"1\" class=\"dataframe\">\n",
       "  <thead>\n",
       "    <tr style=\"text-align: right;\">\n",
       "      <th></th>\n",
       "      <th>End of Period</th>\n",
       "      <th>Credit Number</th>\n",
       "      <th>Region</th>\n",
       "      <th>Country Code</th>\n",
       "      <th>Country</th>\n",
       "      <th>Borrower</th>\n",
       "      <th>Credit Status</th>\n",
       "      <th>Service Charge Rate</th>\n",
       "      <th>Currency of Commitment</th>\n",
       "      <th>Project ID</th>\n",
       "      <th>...</th>\n",
       "      <th>Repaid 3rd Party</th>\n",
       "      <th>Due 3rd Party</th>\n",
       "      <th>Credits Held</th>\n",
       "      <th>First Repayment Date</th>\n",
       "      <th>Last Repayment Date</th>\n",
       "      <th>Agreement Signing Date</th>\n",
       "      <th>Board Approval Date</th>\n",
       "      <th>Effective Date (Most Recent)</th>\n",
       "      <th>Closed Date (Most Recent)</th>\n",
       "      <th>Last Disbursement Date</th>\n",
       "    </tr>\n",
       "  </thead>\n",
       "  <tbody>\n",
       "    <tr>\n",
       "      <th>0</th>\n",
       "      <td>4/30/2020 0:00</td>\n",
       "      <td>IDA07770</td>\n",
       "      <td>LATIN AMERICA AND CARIBBEAN</td>\n",
       "      <td>HN</td>\n",
       "      <td>Honduras</td>\n",
       "      <td>MINISTERIO DE HACIENDA Y CREDITO PUBLICO</td>\n",
       "      <td>Fully Repaid</td>\n",
       "      <td>0.75</td>\n",
       "      <td>USD</td>\n",
       "      <td>P007353</td>\n",
       "      <td>...</td>\n",
       "      <td>0.0</td>\n",
       "      <td>0</td>\n",
       "      <td>0.0</td>\n",
       "      <td>9/1/1988 0:00</td>\n",
       "      <td>3/1/2028 0:00</td>\n",
       "      <td>4/6/1978 0:00</td>\n",
       "      <td>3/14/1978 0:00</td>\n",
       "      <td>8/15/1978 0:00</td>\n",
       "      <td>12/31/1984 0:00</td>\n",
       "      <td>NaN</td>\n",
       "    </tr>\n",
       "    <tr>\n",
       "      <th>1</th>\n",
       "      <td>4/30/2020 0:00</td>\n",
       "      <td>IDA07780</td>\n",
       "      <td>SOUTH ASIA</td>\n",
       "      <td>AF</td>\n",
       "      <td>Afghanistan</td>\n",
       "      <td>STATE PLANNING COMM.</td>\n",
       "      <td>Fully Repaid</td>\n",
       "      <td>0.75</td>\n",
       "      <td>USD</td>\n",
       "      <td>P009314</td>\n",
       "      <td>...</td>\n",
       "      <td>0.0</td>\n",
       "      <td>0</td>\n",
       "      <td>0.0</td>\n",
       "      <td>6/15/1988 0:00</td>\n",
       "      <td>12/15/2027 0:00</td>\n",
       "      <td>4/10/1978 0:00</td>\n",
       "      <td>3/21/1978 0:00</td>\n",
       "      <td>9/19/1978 0:00</td>\n",
       "      <td>6/30/1983 0:00</td>\n",
       "      <td>NaN</td>\n",
       "    </tr>\n",
       "    <tr>\n",
       "      <th>2</th>\n",
       "      <td>4/30/2020 0:00</td>\n",
       "      <td>IDA07790</td>\n",
       "      <td>SOUTH ASIA</td>\n",
       "      <td>AF</td>\n",
       "      <td>Afghanistan</td>\n",
       "      <td>MINISTRY OF COMMERCE</td>\n",
       "      <td>Fully Repaid</td>\n",
       "      <td>0.75</td>\n",
       "      <td>USD</td>\n",
       "      <td>P009315</td>\n",
       "      <td>...</td>\n",
       "      <td>0.0</td>\n",
       "      <td>0</td>\n",
       "      <td>0.0</td>\n",
       "      <td>6/15/1988 0:00</td>\n",
       "      <td>12/15/2027 0:00</td>\n",
       "      <td>9/27/1978 0:00</td>\n",
       "      <td>3/21/1978 0:00</td>\n",
       "      <td>5/15/1979 0:00</td>\n",
       "      <td>6/30/1985 0:00</td>\n",
       "      <td>NaN</td>\n",
       "    </tr>\n",
       "    <tr>\n",
       "      <th>3</th>\n",
       "      <td>4/30/2020 0:00</td>\n",
       "      <td>IDA07800</td>\n",
       "      <td>MIDDLE EAST AND NORTH AFRICA</td>\n",
       "      <td>JO</td>\n",
       "      <td>Jordan</td>\n",
       "      <td>MINISTRY OF PLANNING &amp; INTNL COOPERATION</td>\n",
       "      <td>Repaying</td>\n",
       "      <td>0.75</td>\n",
       "      <td>USD</td>\n",
       "      <td>P005253</td>\n",
       "      <td>...</td>\n",
       "      <td>0.0</td>\n",
       "      <td>0</td>\n",
       "      <td>3360000.0</td>\n",
       "      <td>9/1/1988 0:00</td>\n",
       "      <td>3/1/2028 0:00</td>\n",
       "      <td>5/19/1978 0:00</td>\n",
       "      <td>3/23/1978 0:00</td>\n",
       "      <td>10/17/1978 0:00</td>\n",
       "      <td>6/30/1983 0:00</td>\n",
       "      <td>NaN</td>\n",
       "    </tr>\n",
       "    <tr>\n",
       "      <th>4</th>\n",
       "      <td>4/30/2020 0:00</td>\n",
       "      <td>IDA07810</td>\n",
       "      <td>AFRICA</td>\n",
       "      <td>SD</td>\n",
       "      <td>Sudan</td>\n",
       "      <td>Ministry of Finance and National Economy</td>\n",
       "      <td>Repaying</td>\n",
       "      <td>0.75</td>\n",
       "      <td>USD</td>\n",
       "      <td>P002575</td>\n",
       "      <td>...</td>\n",
       "      <td>0.0</td>\n",
       "      <td>0</td>\n",
       "      <td>20680000.0</td>\n",
       "      <td>9/15/1988 0:00</td>\n",
       "      <td>3/15/2028 0:00</td>\n",
       "      <td>6/9/1978 0:00</td>\n",
       "      <td>3/23/1978 0:00</td>\n",
       "      <td>2/2/1979 0:00</td>\n",
       "      <td>6/30/1983 0:00</td>\n",
       "      <td>NaN</td>\n",
       "    </tr>\n",
       "  </tbody>\n",
       "</table>\n",
       "<p>5 rows × 30 columns</p>\n",
       "</div>"
      ],
      "text/plain": [
       "    End of Period Credit Number                        Region Country Code  \\\n",
       "0  4/30/2020 0:00      IDA07770   LATIN AMERICA AND CARIBBEAN           HN   \n",
       "1  4/30/2020 0:00      IDA07780                    SOUTH ASIA           AF   \n",
       "2  4/30/2020 0:00      IDA07790                    SOUTH ASIA           AF   \n",
       "3  4/30/2020 0:00      IDA07800  MIDDLE EAST AND NORTH AFRICA           JO   \n",
       "4  4/30/2020 0:00      IDA07810                        AFRICA           SD   \n",
       "\n",
       "       Country                                  Borrower Credit Status  \\\n",
       "0     Honduras  MINISTERIO DE HACIENDA Y CREDITO PUBLICO  Fully Repaid   \n",
       "1  Afghanistan                      STATE PLANNING COMM.  Fully Repaid   \n",
       "2  Afghanistan                      MINISTRY OF COMMERCE  Fully Repaid   \n",
       "3       Jordan  MINISTRY OF PLANNING & INTNL COOPERATION      Repaying   \n",
       "4        Sudan  Ministry of Finance and National Economy      Repaying   \n",
       "\n",
       "   Service Charge Rate Currency of Commitment Project ID  ...  \\\n",
       "0                 0.75                    USD    P007353  ...   \n",
       "1                 0.75                    USD    P009314  ...   \n",
       "2                 0.75                    USD    P009315  ...   \n",
       "3                 0.75                    USD    P005253  ...   \n",
       "4                 0.75                    USD    P002575  ...   \n",
       "\n",
       "  Repaid 3rd Party  Due 3rd Party  Credits Held  First Repayment Date  \\\n",
       "0              0.0              0           0.0         9/1/1988 0:00   \n",
       "1              0.0              0           0.0        6/15/1988 0:00   \n",
       "2              0.0              0           0.0        6/15/1988 0:00   \n",
       "3              0.0              0     3360000.0         9/1/1988 0:00   \n",
       "4              0.0              0    20680000.0        9/15/1988 0:00   \n",
       "\n",
       "   Last Repayment Date  Agreement Signing Date  Board Approval Date  \\\n",
       "0        3/1/2028 0:00           4/6/1978 0:00       3/14/1978 0:00   \n",
       "1      12/15/2027 0:00          4/10/1978 0:00       3/21/1978 0:00   \n",
       "2      12/15/2027 0:00          9/27/1978 0:00       3/21/1978 0:00   \n",
       "3        3/1/2028 0:00          5/19/1978 0:00       3/23/1978 0:00   \n",
       "4       3/15/2028 0:00           6/9/1978 0:00       3/23/1978 0:00   \n",
       "\n",
       "   Effective Date (Most Recent)  Closed Date (Most Recent)  \\\n",
       "0                8/15/1978 0:00            12/31/1984 0:00   \n",
       "1                9/19/1978 0:00             6/30/1983 0:00   \n",
       "2                5/15/1979 0:00             6/30/1985 0:00   \n",
       "3               10/17/1978 0:00             6/30/1983 0:00   \n",
       "4                 2/2/1979 0:00             6/30/1983 0:00   \n",
       "\n",
       "   Last Disbursement Date  \n",
       "0                     NaN  \n",
       "1                     NaN  \n",
       "2                     NaN  \n",
       "3                     NaN  \n",
       "4                     NaN  \n",
       "\n",
       "[5 rows x 30 columns]"
      ]
     },
     "execution_count": 2,
     "metadata": {},
     "output_type": "execute_result"
    }
   ],
   "source": [
    "df1 = pd.read_csv(\"IDA_data1.csv\")\n",
    "df2 = pd.read_csv(\"IDA_data2.csv\")\n",
    "df3 = pd.read_csv(\"IDA_data3.csv\")\n",
    "df1.head()"
   ]
  },
  {
   "cell_type": "code",
   "execution_count": 3,
   "metadata": {
    "ExecuteTime": {
     "end_time": "2020-12-01T07:21:01.645972Z",
     "start_time": "2020-12-01T07:21:01.347864Z"
    }
   },
   "outputs": [],
   "source": [
    "df = pd.concat([df1,df2,df3], ignore_index=True)"
   ]
  },
  {
   "cell_type": "markdown",
   "metadata": {},
   "source": [
    "# Dataset description\n",
    "## Dataset content\n",
    "\n",
    "This dataset contains historical snapshots of the IDA Statement of Credits and Grants including the latest available snapshot. The World Bank complies with all sanctions applicable to World Bank transactions.\n",
    "## Dataset attribute \n",
    "- **End of Peroid:** End of Period Date represents the date as of which balances are shown in the report.\n",
    "- **Loan Number/Credit Number:** For IBRD loans and IDA credits or grants a loan number consists of the organization prefix (IBRD/IDA) and a five-character label that uniquely identifies the loan within the organization. In IDA, all grant labels start with the letter ‘H’.\n",
    "- **Region:** World Bank Region to which the country and loan belong. Country lending is grouped into regions based on the current World Bank administrative (rather than geographic) region where project implementation takes place. The “Other”” Region is used for loans to the IFC.\n",
    "- **Country:** Country to which a loan has been issued. Loans to the IFC are included under the country “World”.\n",
    "- **Country Code:** Country Code according to the World Bank country list. This might be different from the ISO country code.\n",
    "- **Borrower:** The representative of the borrower to which the Bank loan is made. \n",
    "- **Guarantor:** The Guarantor guarantees repayment to the Bank if the borrower does not repay.\n",
    "- **Guarantor Country Code:** Country Code of the Guarantor according to the World Bank country list. This might be different from the ISO country code.\n",
    "- **Loan Type:** A type of loan/loan instrument for which distinctive accounting and/or other actions need to be performed. \n",
    "- **Loan Status/Credit Status:** Status of the loan.\n",
    "- **Interest Rate/Service Charge Rate:** Current Interest rate or service charge applied to loan. For loans that could have more than one interest rate (e.g. FSL or SCL fixed rate loans), the interest rate is shown as “0”.\n",
    "- **Currency of Commitment:** The currency in which a borrower’s loan, credit or grant is denominated.\n",
    "- **Project Name:** Short descriptive project name.\n",
    "- **Project ID:** A Bank project is referenced by a project ID (Pxxxxxxx). More than one loan, credit, or grant may be associated with one Project ID.\n",
    "- **Original Principal Amount:** The original US dollar amount of the loan that is committed and approved.\n",
    "- **Cancelled Amount:** The portion of the undisbursed balance which has been cancelled (i.e. no longer available for future disbursement). Cancellations include terminations (where approved loan agreements were never signed).\n",
    "- **Undisbursed Amount:** The amount of a loan commitment that is still available to be drawn down. These currency amounts have been converted to US dollars at the exchange rates applicable at the end of period date.\n",
    "- **Disbursed Amount:** The amount that has been disbursed from a loan commitment in equivalent US dollars, calculated at the exchange rate on the value date of the individual disbursements.\n",
    "- **Repaid to IBRD:** Total principal amounts paid or prepaid to IBRD in US dollars, calculated at the exchange rate on the value date of the individual repayments.\n",
    "- **Repaid to IDA:** Total principal amounts paid or prepaid to IDA in US dollars, calculated at the exchange rate on the value date of the individual repayments. Repaid to IDA amounts include amounts written off under the Multilateral Debt Relief Initiative (MDRI).\n",
    "- **Due to IBRD:** Amount due and outstanding as of the End of Period date.\n",
    "- **Exchange Adjustment:** The increase (decrease) in value of disbursed and outstanding amount due to exchange rate fluctuations. This amount added to “Due to IBRD” yields “Borrower’s Obligation”; includes exchange adjustments on the amounts Due to 3rd parties.\n",
    "- **Borrower's Obligation:** The Borrower Obligation is the outstanding balance for the loan as of the end of period date in US dollars equivalent. The Borrower's Obligation includes the amounts outstanding Due to 3rd parties. \n",
    "- **Sold 3rd Party:** Portion of loan sold to a third party.\n",
    "- **Repaid 3rd Party:** Amount repaid to a third party.\n",
    "- **Due 3rd Party:** Amount due to a third party.\n",
    "- **Loans Held:** The sum of the disbursed and outstanding amounts (net of repayments, i.e. Due to IBRD/IDA) plus undisbursed available amounts.\n",
    "- **First Repayment Date:** The date on which principal repayment starts.\n",
    "- **Last Repayment Date:** The date specified in the loan/credit agreement (amended for any partial prepayments) on which the last principal installment must be repaid by the Borrower.\n",
    "- **Agreement Signing Date:** The date the borrower and the Bank sign the loan agreement.\n",
    "- **Board Approval Date:** The date the World Bank approves the loan.\n",
    "- **ffective Date:** The date on which a legal agreement becomes effective, or is expected to become effective.\n",
    "- **Close Date:** The date specified in the legal agreement (or extension) after which the Bank may, by notice to the borrower, terminate the right to make withdrawals from the loan account.\n",
    "- **Last Disbursement Date:** The date on which the last disbursement was made (prior to the end of period date)."
   ]
  },
  {
   "cell_type": "markdown",
   "metadata": {},
   "source": [
    "## Dataset info"
   ]
  },
  {
   "cell_type": "code",
   "execution_count": 4,
   "metadata": {
    "ExecuteTime": {
     "end_time": "2020-12-01T07:21:01.648897Z",
     "start_time": "2020-12-01T07:21:01.647021Z"
    }
   },
   "outputs": [
    {
     "name": "stdout",
     "output_type": "stream",
     "text": [
      "The dataset has 899514 rows and 30 columns\n"
     ]
    }
   ],
   "source": [
    "print(f\"The dataset has {df.shape[0]} rows and {df.shape[1]} columns\")"
   ]
  },
  {
   "cell_type": "code",
   "execution_count": 5,
   "metadata": {
    "ExecuteTime": {
     "end_time": "2020-12-01T07:21:02.599663Z",
     "start_time": "2020-12-01T07:21:01.649898Z"
    }
   },
   "outputs": [
    {
     "name": "stdout",
     "output_type": "stream",
     "text": [
      "<class 'pandas.core.frame.DataFrame'>\n",
      "RangeIndex: 899514 entries, 0 to 899513\n",
      "Data columns (total 30 columns):\n",
      " #   Column                        Non-Null Count   Dtype  \n",
      "---  ------                        --------------   -----  \n",
      " 0   End of Period                 899514 non-null  object \n",
      " 1   Credit Number                 899514 non-null  object \n",
      " 2   Region                        899514 non-null  object \n",
      " 3   Country Code                  899514 non-null  object \n",
      " 4   Country                       899514 non-null  object \n",
      " 5   Borrower                      899071 non-null  object \n",
      " 6   Credit Status                 899514 non-null  object \n",
      " 7   Service Charge Rate           837810 non-null  float64\n",
      " 8   Currency of Commitment        899514 non-null  object \n",
      " 9   Project ID                    899512 non-null  object \n",
      " 10  Project Name                  899469 non-null  object \n",
      " 11  Original Principal Amount     899514 non-null  float64\n",
      " 12  Cancelled Amount              899512 non-null  float64\n",
      " 13  Undisbursed Amount            899514 non-null  float64\n",
      " 14  Disbursed Amount              899512 non-null  float64\n",
      " 15  Repaid to IDA                 899512 non-null  float64\n",
      " 16  Due to IDA                    899512 non-null  float64\n",
      " 17  Exchange Adjustment           899514 non-null  object \n",
      " 18  Borrower's Obligation         899512 non-null  float64\n",
      " 19  Sold 3rd Party                899512 non-null  float64\n",
      " 20  Repaid 3rd Party              899512 non-null  float64\n",
      " 21  Due 3rd Party                 899512 non-null  float64\n",
      " 22  Credits Held                  899514 non-null  float64\n",
      " 23  First Repayment Date          767911 non-null  object \n",
      " 24  Last Repayment Date           767911 non-null  object \n",
      " 25  Agreement Signing Date        885410 non-null  object \n",
      " 26  Board Approval Date           899316 non-null  object \n",
      " 27  Effective Date (Most Recent)  890427 non-null  object \n",
      " 28  Closed Date (Most Recent)     899141 non-null  object \n",
      " 29  Last Disbursement Date        557319 non-null  object \n",
      "dtypes: float64(12), object(18)\n",
      "memory usage: 205.9+ MB\n"
     ]
    }
   ],
   "source": [
    "df.info()"
   ]
  },
  {
   "cell_type": "markdown",
   "metadata": {},
   "source": [
    "Among 30 columns in the dataset, there is some columns which missing data, which is:"
   ]
  },
  {
   "cell_type": "code",
   "execution_count": 6,
   "metadata": {
    "ExecuteTime": {
     "end_time": "2020-12-01T07:21:03.629074Z",
     "start_time": "2020-12-01T07:21:02.600636Z"
    }
   },
   "outputs": [
    {
     "data": {
      "text/plain": [
       "Last Disbursement Date          342195\n",
       "First Repayment Date            131603\n",
       "Last Repayment Date             131603\n",
       "Service Charge Rate              61704\n",
       "Agreement Signing Date           14104\n",
       "Effective Date (Most Recent)      9087\n",
       "Borrower                           443\n",
       "Closed Date (Most Recent)          373\n",
       "Board Approval Date                198\n",
       "Project Name                        45\n",
       "Due 3rd Party                        2\n",
       "Repaid 3rd Party                     2\n",
       "Borrower's Obligation                2\n",
       "Due to IDA                           2\n",
       "Repaid to IDA                        2\n",
       "Disbursed Amount                     2\n",
       "Cancelled Amount                     2\n",
       "Project ID                           2\n",
       "Sold 3rd Party                       2\n",
       "dtype: int64"
      ]
     },
     "execution_count": 6,
     "metadata": {},
     "output_type": "execute_result"
    }
   ],
   "source": [
    "df.isnull().sum()[df.isnull().sum()!=0].sort_values(ascending=False)"
   ]
  },
  {
   "cell_type": "markdown",
   "metadata": {},
   "source": [
    "## Dataset cleaning\n",
    "### Check & drop duplicated rows"
   ]
  },
  {
   "cell_type": "code",
   "execution_count": 7,
   "metadata": {
    "ExecuteTime": {
     "end_time": "2020-12-01T07:21:05.173609Z",
     "start_time": "2020-12-01T07:21:03.630217Z"
    }
   },
   "outputs": [
    {
     "name": "stdout",
     "output_type": "stream",
     "text": [
      "There are total 19824 duplicated rows\n"
     ]
    }
   ],
   "source": [
    "dup = df.duplicated().sum()\n",
    "print(f\"There are total {dup} duplicated rows\")"
   ]
  },
  {
   "cell_type": "code",
   "execution_count": 8,
   "metadata": {
    "ExecuteTime": {
     "end_time": "2020-12-01T07:21:06.895511Z",
     "start_time": "2020-12-01T07:21:05.175134Z"
    }
   },
   "outputs": [],
   "source": [
    "df.drop_duplicates(keep='first', inplace=True)"
   ]
  },
  {
   "cell_type": "markdown",
   "metadata": {},
   "source": [
    "### Re-formating & re-ordering\n",
    "#### Re-formating\n",
    "There are several columns that are not in their correct format of datetime. Therefore, we convert those columns into their right format first.\n",
    "- End of Period\n",
    "- First Repayment Date \n",
    "- Last Repayment Date           \n",
    "- Agreement Signing Date        \n",
    "- Board Approval Date           \n",
    "- Effective Date (Most Recent) \n",
    "- Closed Date (Most Recent)    \n",
    "- Last Disbursement Date  "
   ]
  },
  {
   "cell_type": "code",
   "execution_count": 9,
   "metadata": {
    "ExecuteTime": {
     "end_time": "2020-12-01T07:21:54.856456Z",
     "start_time": "2020-12-01T07:21:06.896712Z"
    }
   },
   "outputs": [],
   "source": [
    "df[[\"End of Period\", \"First Repayment Date\", \"Last Repayment Date\", \n",
    "    \"Agreement Signing Date\", \"Board Approval Date\", \"Effective Date (Most Recent)\", \n",
    "    \"Closed Date (Most Recent)\", \"Last Disbursement Date\"]] = df[[\"End of Period\", \"First Repayment Date\", \"Last Repayment Date\", \n",
    "    \"Agreement Signing Date\", \"Board Approval Date\", \"Effective Date (Most Recent)\", \n",
    "    \"Closed Date (Most Recent)\", \"Last Disbursement Date\"]].apply(pd.to_datetime)"
   ]
  },
  {
   "cell_type": "code",
   "execution_count": 10,
   "metadata": {
    "ExecuteTime": {
     "end_time": "2020-12-01T07:21:55.235738Z",
     "start_time": "2020-12-01T07:21:54.857514Z"
    }
   },
   "outputs": [
    {
     "name": "stdout",
     "output_type": "stream",
     "text": [
      "<class 'pandas.core.frame.DataFrame'>\n",
      "Int64Index: 879690 entries, 0 to 879689\n",
      "Data columns (total 30 columns):\n",
      " #   Column                        Non-Null Count   Dtype         \n",
      "---  ------                        --------------   -----         \n",
      " 0   End of Period                 879690 non-null  datetime64[ns]\n",
      " 1   Credit Number                 879690 non-null  object        \n",
      " 2   Region                        879690 non-null  object        \n",
      " 3   Country Code                  879690 non-null  object        \n",
      " 4   Country                       879690 non-null  object        \n",
      " 5   Borrower                      879248 non-null  object        \n",
      " 6   Credit Status                 879690 non-null  object        \n",
      " 7   Service Charge Rate           822904 non-null  float64       \n",
      " 8   Currency of Commitment        879690 non-null  object        \n",
      " 9   Project ID                    879688 non-null  object        \n",
      " 10  Project Name                  879647 non-null  object        \n",
      " 11  Original Principal Amount     879690 non-null  float64       \n",
      " 12  Cancelled Amount              879688 non-null  float64       \n",
      " 13  Undisbursed Amount            879690 non-null  float64       \n",
      " 14  Disbursed Amount              879688 non-null  float64       \n",
      " 15  Repaid to IDA                 879688 non-null  float64       \n",
      " 16  Due to IDA                    879688 non-null  float64       \n",
      " 17  Exchange Adjustment           879690 non-null  object        \n",
      " 18  Borrower's Obligation         879688 non-null  float64       \n",
      " 19  Sold 3rd Party                879688 non-null  float64       \n",
      " 20  Repaid 3rd Party              879688 non-null  float64       \n",
      " 21  Due 3rd Party                 879688 non-null  float64       \n",
      " 22  Credits Held                  879690 non-null  float64       \n",
      " 23  First Repayment Date          752845 non-null  datetime64[ns]\n",
      " 24  Last Repayment Date           752845 non-null  datetime64[ns]\n",
      " 25  Agreement Signing Date        865964 non-null  datetime64[ns]\n",
      " 26  Board Approval Date           879511 non-null  datetime64[ns]\n",
      " 27  Effective Date (Most Recent)  870887 non-null  datetime64[ns]\n",
      " 28  Closed Date (Most Recent)     879340 non-null  datetime64[ns]\n",
      " 29  Last Disbursement Date        541615 non-null  datetime64[ns]\n",
      "dtypes: datetime64[ns](8), float64(12), object(10)\n",
      "memory usage: 208.1+ MB\n"
     ]
    }
   ],
   "source": [
    "df.info()"
   ]
  },
  {
   "cell_type": "code",
   "execution_count": 11,
   "metadata": {
    "ExecuteTime": {
     "end_time": "2020-12-01T07:21:55.240632Z",
     "start_time": "2020-12-01T07:21:55.236747Z"
    }
   },
   "outputs": [
    {
     "data": {
      "text/plain": [
       "0        2020-04-30\n",
       "1        2020-04-30\n",
       "2        2020-04-30\n",
       "3        2020-04-30\n",
       "4        2020-04-30\n",
       "            ...    \n",
       "879685   2020-10-31\n",
       "879686   2020-10-31\n",
       "879687   2020-10-31\n",
       "879688   2020-10-31\n",
       "879689   2020-10-31\n",
       "Name: End of Period, Length: 879690, dtype: datetime64[ns]"
      ]
     },
     "execution_count": 11,
     "metadata": {},
     "output_type": "execute_result"
    }
   ],
   "source": [
    "df[\"End of Period\"]"
   ]
  },
  {
   "cell_type": "markdown",
   "metadata": {},
   "source": [
    "we can see that the Series starts with 30/04/2020 and ends with 31/10/2020 while the dataset includes all the investment/loan from 2011 to 2020. This indicates that the dataset is in a wrong order of date. We can re-sort the dataset on the basic of the end day to see the entries from latest to the oldest."
   ]
  },
  {
   "cell_type": "code",
   "execution_count": 12,
   "metadata": {
    "ExecuteTime": {
     "end_time": "2020-12-01T07:21:55.526552Z",
     "start_time": "2020-12-01T07:21:55.241681Z"
    }
   },
   "outputs": [
    {
     "data": {
      "text/html": [
       "<div>\n",
       "<style scoped>\n",
       "    .dataframe tbody tr th:only-of-type {\n",
       "        vertical-align: middle;\n",
       "    }\n",
       "\n",
       "    .dataframe tbody tr th {\n",
       "        vertical-align: top;\n",
       "    }\n",
       "\n",
       "    .dataframe thead th {\n",
       "        text-align: right;\n",
       "    }\n",
       "</style>\n",
       "<table border=\"1\" class=\"dataframe\">\n",
       "  <thead>\n",
       "    <tr style=\"text-align: right;\">\n",
       "      <th></th>\n",
       "      <th>End of Period</th>\n",
       "      <th>Credit Number</th>\n",
       "      <th>Region</th>\n",
       "      <th>Country Code</th>\n",
       "      <th>Country</th>\n",
       "      <th>Borrower</th>\n",
       "      <th>Credit Status</th>\n",
       "      <th>Service Charge Rate</th>\n",
       "      <th>Currency of Commitment</th>\n",
       "      <th>Project ID</th>\n",
       "      <th>...</th>\n",
       "      <th>Repaid 3rd Party</th>\n",
       "      <th>Due 3rd Party</th>\n",
       "      <th>Credits Held</th>\n",
       "      <th>First Repayment Date</th>\n",
       "      <th>Last Repayment Date</th>\n",
       "      <th>Agreement Signing Date</th>\n",
       "      <th>Board Approval Date</th>\n",
       "      <th>Effective Date (Most Recent)</th>\n",
       "      <th>Closed Date (Most Recent)</th>\n",
       "      <th>Last Disbursement Date</th>\n",
       "    </tr>\n",
       "  </thead>\n",
       "  <tbody>\n",
       "    <tr>\n",
       "      <th>879689</th>\n",
       "      <td>2020-10-31</td>\n",
       "      <td>IDAS0270</td>\n",
       "      <td>AFRICA EAST</td>\n",
       "      <td>TZ</td>\n",
       "      <td>Tanzania</td>\n",
       "      <td>Ministry of Finance and Planning</td>\n",
       "      <td>Fully Repaid</td>\n",
       "      <td>0.75</td>\n",
       "      <td>USD</td>\n",
       "      <td>P002729</td>\n",
       "      <td>...</td>\n",
       "      <td>0.0</td>\n",
       "      <td>0.0</td>\n",
       "      <td>0.00</td>\n",
       "      <td>1983-09-15</td>\n",
       "      <td>2030-03-15</td>\n",
       "      <td>1980-06-30</td>\n",
       "      <td>1980-06-12</td>\n",
       "      <td>1980-09-12</td>\n",
       "      <td>1982-09-30</td>\n",
       "      <td>NaT</td>\n",
       "    </tr>\n",
       "    <tr>\n",
       "      <th>873548</th>\n",
       "      <td>2020-10-31</td>\n",
       "      <td>IDA28310</td>\n",
       "      <td>EAST ASIA AND PACIFIC</td>\n",
       "      <td>CN</td>\n",
       "      <td>China</td>\n",
       "      <td>MINISTRY OF FINANCE</td>\n",
       "      <td>Repaying</td>\n",
       "      <td>0.75</td>\n",
       "      <td>XDR</td>\n",
       "      <td>P036950</td>\n",
       "      <td>...</td>\n",
       "      <td>0.0</td>\n",
       "      <td>0.0</td>\n",
       "      <td>16593004.17</td>\n",
       "      <td>2006-08-15</td>\n",
       "      <td>2031-02-15</td>\n",
       "      <td>1996-04-17</td>\n",
       "      <td>1996-03-21</td>\n",
       "      <td>1996-07-16</td>\n",
       "      <td>2001-12-31</td>\n",
       "      <td>2002-05-03</td>\n",
       "    </tr>\n",
       "    <tr>\n",
       "      <th>873554</th>\n",
       "      <td>2020-10-31</td>\n",
       "      <td>IDA2836A</td>\n",
       "      <td>AFRICA WEST</td>\n",
       "      <td>GH</td>\n",
       "      <td>Ghana</td>\n",
       "      <td>MINISTRY FOR FINANCE</td>\n",
       "      <td>Fully Repaid</td>\n",
       "      <td>0.75</td>\n",
       "      <td>XDR</td>\n",
       "      <td>P000973</td>\n",
       "      <td>...</td>\n",
       "      <td>0.0</td>\n",
       "      <td>0.0</td>\n",
       "      <td>0.00</td>\n",
       "      <td>2006-07-01</td>\n",
       "      <td>2036-01-01</td>\n",
       "      <td>1996-05-20</td>\n",
       "      <td>1996-03-26</td>\n",
       "      <td>1996-09-03</td>\n",
       "      <td>2003-12-31</td>\n",
       "      <td>NaT</td>\n",
       "    </tr>\n",
       "    <tr>\n",
       "      <th>873553</th>\n",
       "      <td>2020-10-31</td>\n",
       "      <td>IDA28360</td>\n",
       "      <td>AFRICA WEST</td>\n",
       "      <td>GH</td>\n",
       "      <td>Ghana</td>\n",
       "      <td>MINISTRY FOR FINANCE</td>\n",
       "      <td>Repaying</td>\n",
       "      <td>0.75</td>\n",
       "      <td>XDR</td>\n",
       "      <td>P000973</td>\n",
       "      <td>...</td>\n",
       "      <td>0.0</td>\n",
       "      <td>0.0</td>\n",
       "      <td>785575.51</td>\n",
       "      <td>2006-07-01</td>\n",
       "      <td>2036-01-01</td>\n",
       "      <td>1996-05-20</td>\n",
       "      <td>1996-03-26</td>\n",
       "      <td>1996-09-03</td>\n",
       "      <td>2003-12-31</td>\n",
       "      <td>2004-05-28</td>\n",
       "    </tr>\n",
       "    <tr>\n",
       "      <th>873552</th>\n",
       "      <td>2020-10-31</td>\n",
       "      <td>IDA28350</td>\n",
       "      <td>AFRICA WEST</td>\n",
       "      <td>MR</td>\n",
       "      <td>Mauritania</td>\n",
       "      <td>Ministry of Economy and Finance</td>\n",
       "      <td>Fully Repaid</td>\n",
       "      <td>0.75</td>\n",
       "      <td>XDR</td>\n",
       "      <td>P034106</td>\n",
       "      <td>...</td>\n",
       "      <td>0.0</td>\n",
       "      <td>0.0</td>\n",
       "      <td>0.00</td>\n",
       "      <td>2006-05-01</td>\n",
       "      <td>2035-11-01</td>\n",
       "      <td>1996-04-16</td>\n",
       "      <td>1996-03-26</td>\n",
       "      <td>1996-08-16</td>\n",
       "      <td>2001-12-31</td>\n",
       "      <td>2002-12-13</td>\n",
       "    </tr>\n",
       "  </tbody>\n",
       "</table>\n",
       "<p>5 rows × 30 columns</p>\n",
       "</div>"
      ],
      "text/plain": [
       "       End of Period Credit Number                 Region Country Code  \\\n",
       "879689    2020-10-31      IDAS0270            AFRICA EAST           TZ   \n",
       "873548    2020-10-31      IDA28310  EAST ASIA AND PACIFIC           CN   \n",
       "873554    2020-10-31      IDA2836A            AFRICA WEST           GH   \n",
       "873553    2020-10-31      IDA28360            AFRICA WEST           GH   \n",
       "873552    2020-10-31      IDA28350            AFRICA WEST           MR   \n",
       "\n",
       "           Country                          Borrower Credit Status  \\\n",
       "879689    Tanzania  Ministry of Finance and Planning  Fully Repaid   \n",
       "873548       China               MINISTRY OF FINANCE      Repaying   \n",
       "873554       Ghana              MINISTRY FOR FINANCE  Fully Repaid   \n",
       "873553       Ghana              MINISTRY FOR FINANCE      Repaying   \n",
       "873552  Mauritania   Ministry of Economy and Finance  Fully Repaid   \n",
       "\n",
       "        Service Charge Rate Currency of Commitment Project ID  ...  \\\n",
       "879689                 0.75                    USD    P002729  ...   \n",
       "873548                 0.75                    XDR    P036950  ...   \n",
       "873554                 0.75                    XDR    P000973  ...   \n",
       "873553                 0.75                    XDR    P000973  ...   \n",
       "873552                 0.75                    XDR    P034106  ...   \n",
       "\n",
       "       Repaid 3rd Party  Due 3rd Party  Credits Held  First Repayment Date  \\\n",
       "879689              0.0            0.0          0.00            1983-09-15   \n",
       "873548              0.0            0.0   16593004.17            2006-08-15   \n",
       "873554              0.0            0.0          0.00            2006-07-01   \n",
       "873553              0.0            0.0     785575.51            2006-07-01   \n",
       "873552              0.0            0.0          0.00            2006-05-01   \n",
       "\n",
       "        Last Repayment Date  Agreement Signing Date  Board Approval Date  \\\n",
       "879689           2030-03-15              1980-06-30           1980-06-12   \n",
       "873548           2031-02-15              1996-04-17           1996-03-21   \n",
       "873554           2036-01-01              1996-05-20           1996-03-26   \n",
       "873553           2036-01-01              1996-05-20           1996-03-26   \n",
       "873552           2035-11-01              1996-04-16           1996-03-26   \n",
       "\n",
       "       Effective Date (Most Recent)  Closed Date (Most Recent)  \\\n",
       "879689                   1980-09-12                 1982-09-30   \n",
       "873548                   1996-07-16                 2001-12-31   \n",
       "873554                   1996-09-03                 2003-12-31   \n",
       "873553                   1996-09-03                 2003-12-31   \n",
       "873552                   1996-08-16                 2001-12-31   \n",
       "\n",
       "        Last Disbursement Date  \n",
       "879689                     NaT  \n",
       "873548              2002-05-03  \n",
       "873554                     NaT  \n",
       "873553              2004-05-28  \n",
       "873552              2002-12-13  \n",
       "\n",
       "[5 rows x 30 columns]"
      ]
     },
     "execution_count": 12,
     "metadata": {},
     "output_type": "execute_result"
    }
   ],
   "source": [
    "df = df.sort_values(\"End of Period\", ascending=False)\n",
    "df.head()"
   ]
  },
  {
   "cell_type": "markdown",
   "metadata": {},
   "source": [
    "#### drop unecessary columns\n",
    "Amongs the columns, we can drop \"Country name\" and keep the \"Country code\" for future reference and simplify the dataset."
   ]
  },
  {
   "cell_type": "code",
   "execution_count": 13,
   "metadata": {
    "ExecuteTime": {
     "end_time": "2020-12-01T07:21:55.683397Z",
     "start_time": "2020-12-01T07:21:55.527375Z"
    }
   },
   "outputs": [],
   "source": [
    "df.drop(\"Country\", inplace=True, axis=1)"
   ]
  },
  {
   "cell_type": "markdown",
   "metadata": {},
   "source": [
    "### Dealing with NaN value"
   ]
  },
  {
   "cell_type": "code",
   "execution_count": 16,
   "metadata": {
    "ExecuteTime": {
     "end_time": "2020-12-01T07:29:18.335447Z",
     "start_time": "2020-12-01T07:29:05.737971Z"
    }
   },
   "outputs": [
    {
     "data": {
      "text/plain": [
       "<AxesSubplot:>"
      ]
     },
     "execution_count": 16,
     "metadata": {},
     "output_type": "execute_result"
    },
    {
     "data": {
      "image/png": "[encoded data removed]",
      "text/plain": [
       "<Figure size 432x288 with 1 Axes>"
      ]
     },
     "metadata": {
      "needs_background": "light"
     },
     "output_type": "display_data"
    }
   ],
   "source": [
    "sns.heatmap(df.isnull(), cbar=False, yticklabels=[])"
   ]
  },
  {
   "cell_type": "markdown",
   "metadata": {},
   "source": [
    "Amongs columns with NaN value, \"Last Disbursement Date\" is the one with the most amount of missing values. It could be dropped without affecting the information of dataset since this cleaning will focus on extracting information for country, region categories."
   ]
  },
  {
   "cell_type": "code",
   "execution_count": 17,
   "metadata": {
    "ExecuteTime": {
     "end_time": "2020-12-01T07:29:31.479358Z",
     "start_time": "2020-12-01T07:29:31.294106Z"
    }
   },
   "outputs": [],
   "source": [
    "df.drop(\"Last Disbursement Date\", inplace=True, axis=1)"
   ]
  },
  {
   "cell_type": "code",
   "execution_count": 18,
   "metadata": {
    "ExecuteTime": {
     "end_time": "2020-12-01T07:29:34.472242Z",
     "start_time": "2020-12-01T07:29:33.937457Z"
    }
   },
   "outputs": [
    {
     "data": {
      "text/plain": [
       "Last Repayment Date             126845\n",
       "First Repayment Date            126845\n",
       "Service Charge Rate              56786\n",
       "Agreement Signing Date           13726\n",
       "Effective Date (Most Recent)      8803\n",
       "Borrower                           442\n",
       "Closed Date (Most Recent)          350\n",
       "Board Approval Date                179\n",
       "Project Name                        43\n",
       "Repaid 3rd Party                     2\n",
       "Sold 3rd Party                       2\n",
       "Due 3rd Party                        2\n",
       "Due to IDA                           2\n",
       "Repaid to IDA                        2\n",
       "Disbursed Amount                     2\n",
       "Cancelled Amount                     2\n",
       "Project ID                           2\n",
       "Borrower's Obligation                2\n",
       "dtype: int64"
      ]
     },
     "execution_count": 18,
     "metadata": {},
     "output_type": "execute_result"
    }
   ],
   "source": [
    "df.isnull().sum()[df.isnull().sum()!=0].sort_values(ascending=False)"
   ]
  },
  {
   "cell_type": "markdown",
   "metadata": {},
   "source": [
    "The remaining amount of missing value is still high for the date information, these columns will be removed rather than removing the rows with missing value which can reduce the information of dataset significantly. We will also drop \"Borrower\" column since the analyzing will focus on country and region, so we don't really need that information."
   ]
  },
  {
   "cell_type": "code",
   "execution_count": 19,
   "metadata": {
    "ExecuteTime": {
     "end_time": "2020-12-01T07:29:38.075389Z",
     "start_time": "2020-12-01T07:29:37.934947Z"
    }
   },
   "outputs": [],
   "source": [
    "df.drop([\"Last Repayment Date\", \"First Repayment Date\", \"Agreement Signing Date\", \"Effective Date (Most Recent)\",\n",
    "        \"Closed Date (Most Recent)\", \"Board Approval Date\", \"Borrower\"], axis=1, inplace=True)"
   ]
  },
  {
   "cell_type": "code",
   "execution_count": 20,
   "metadata": {
    "ExecuteTime": {
     "end_time": "2020-12-01T07:29:40.408667Z",
     "start_time": "2020-12-01T07:29:40.405869Z"
    }
   },
   "outputs": [
    {
     "data": {
      "text/plain": [
       "(879690, 21)"
      ]
     },
     "execution_count": 20,
     "metadata": {},
     "output_type": "execute_result"
    }
   ],
   "source": [
    "df.shape"
   ]
  },
  {
   "cell_type": "markdown",
   "metadata": {},
   "source": [
    "The dataset now contains 879,690 entries with 21 attributes."
   ]
  },
  {
   "cell_type": "code",
   "execution_count": 21,
   "metadata": {
    "ExecuteTime": {
     "end_time": "2020-12-01T07:29:44.585700Z",
     "start_time": "2020-12-01T07:29:44.112818Z"
    }
   },
   "outputs": [
    {
     "data": {
      "text/plain": [
       "Service Charge Rate      56786\n",
       "Project Name                43\n",
       "Due 3rd Party                2\n",
       "Repaid 3rd Party             2\n",
       "Sold 3rd Party               2\n",
       "Borrower's Obligation        2\n",
       "Due to IDA                   2\n",
       "Repaid to IDA                2\n",
       "Disbursed Amount             2\n",
       "Cancelled Amount             2\n",
       "Project ID                   2\n",
       "dtype: int64"
      ]
     },
     "execution_count": 21,
     "metadata": {},
     "output_type": "execute_result"
    }
   ],
   "source": [
    "df.isnull().sum()[df.isnull().sum()!=0].sort_values(ascending=False)"
   ]
  },
  {
   "cell_type": "markdown",
   "metadata": {},
   "source": [
    "The major of missing values now is in \"Interest Rate/ Service Charge Rate\" column. Let's examine the value of it and decide to drop or not."
   ]
  },
  {
   "cell_type": "code",
   "execution_count": 46,
   "metadata": {
    "ExecuteTime": {
     "end_time": "2020-12-01T08:49:33.019344Z",
     "start_time": "2020-12-01T08:49:33.014775Z"
    }
   },
   "outputs": [
    {
     "data": {
      "text/plain": [
       "4.95"
      ]
     },
     "execution_count": 46,
     "metadata": {},
     "output_type": "execute_result"
    }
   ],
   "source": [
    "df[\"Service Charge Rate\"].max()"
   ]
  },
  {
   "cell_type": "markdown",
   "metadata": {},
   "source": [
    "We can see that the most common value is 0."
   ]
  },
  {
   "cell_type": "code",
   "execution_count": 55,
   "metadata": {
    "ExecuteTime": {
     "end_time": "2020-12-01T08:54:15.521378Z",
     "start_time": "2020-12-01T08:54:15.510814Z"
    }
   },
   "outputs": [],
   "source": [
    "temp = df[[\"Service Charge Rate\", \"Region\"]].copy()"
   ]
  },
  {
   "cell_type": "code",
   "execution_count": 56,
   "metadata": {
    "ExecuteTime": {
     "end_time": "2020-12-01T08:54:17.582427Z",
     "start_time": "2020-12-01T08:54:17.580005Z"
    }
   },
   "outputs": [],
   "source": [
    "temp.loc[:,\"Service Charge Rate\"].fillna(5, inplace = True)"
   ]
  },
  {
   "cell_type": "code",
   "execution_count": 57,
   "metadata": {
    "ExecuteTime": {
     "end_time": "2020-12-01T08:54:19.642298Z",
     "start_time": "2020-12-01T08:54:19.630153Z"
    }
   },
   "outputs": [],
   "source": [
    "temp.loc[:, \"Service Charge Rate\"].replace({0.0:0, 0.75:1, 2.0:2, 5:4}, inplace=True)"
   ]
  },
  {
   "cell_type": "code",
   "execution_count": 58,
   "metadata": {
    "ExecuteTime": {
     "end_time": "2020-12-01T08:54:21.864221Z",
     "start_time": "2020-12-01T08:54:21.680443Z"
    }
   },
   "outputs": [],
   "source": [
    "temp.loc[:,\"Service Charge Rate\"] = temp.loc[:, \"Service Charge Rate\"].apply(lambda x: 3 if x!=0 and x!=1 and x!=2 and x!= 4 else x)"
   ]
  },
  {
   "cell_type": "code",
   "execution_count": 64,
   "metadata": {
    "ExecuteTime": {
     "end_time": "2020-12-01T09:18:30.338452Z",
     "start_time": "2020-12-01T09:18:30.212225Z"
    }
   },
   "outputs": [],
   "source": [
    "a = temp.groupby([\"Region\"])[\"Service Charge Rate\"].value_counts()\n",
    "b = temp.groupby([\"Region\"])[\"Service Charge Rate\"].count()\n",
    "c = a*100/b"
   ]
  },
  {
   "cell_type": "code",
   "execution_count": 137,
   "metadata": {
    "ExecuteTime": {
     "end_time": "2020-12-01T09:51:12.977421Z",
     "start_time": "2020-12-01T09:51:12.968293Z"
    }
   },
   "outputs": [
    {
     "data": {
      "text/html": [
       "<div>\n",
       "<style scoped>\n",
       "    .dataframe tbody tr th:only-of-type {\n",
       "        vertical-align: middle;\n",
       "    }\n",
       "\n",
       "    .dataframe tbody tr th {\n",
       "        vertical-align: top;\n",
       "    }\n",
       "\n",
       "    .dataframe thead tr th {\n",
       "        text-align: left;\n",
       "    }\n",
       "\n",
       "    .dataframe thead tr:last-of-type th {\n",
       "        text-align: right;\n",
       "    }\n",
       "</style>\n",
       "<table border=\"1\" class=\"dataframe\">\n",
       "  <thead>\n",
       "    <tr>\n",
       "      <th></th>\n",
       "      <th colspan=\"5\" halign=\"left\">Service Charge Rate</th>\n",
       "    </tr>\n",
       "    <tr>\n",
       "      <th>Service Charge Rate</th>\n",
       "      <th>0.0</th>\n",
       "      <th>1.0</th>\n",
       "      <th>2.0</th>\n",
       "      <th>3.0</th>\n",
       "      <th>4.0</th>\n",
       "    </tr>\n",
       "    <tr>\n",
       "      <th>Region</th>\n",
       "      <th></th>\n",
       "      <th></th>\n",
       "      <th></th>\n",
       "      <th></th>\n",
       "      <th></th>\n",
       "    </tr>\n",
       "  </thead>\n",
       "  <tbody>\n",
       "    <tr>\n",
       "      <th>AFRICA</th>\n",
       "      <td>10.264925</td>\n",
       "      <td>82.123513</td>\n",
       "      <td>0.828690</td>\n",
       "      <td>0.458682</td>\n",
       "      <td>6.324190</td>\n",
       "    </tr>\n",
       "    <tr>\n",
       "      <th>AFRICA EAST</th>\n",
       "      <td>0.365946</td>\n",
       "      <td>78.387687</td>\n",
       "      <td>0.990206</td>\n",
       "      <td>1.474545</td>\n",
       "      <td>18.781617</td>\n",
       "    </tr>\n",
       "    <tr>\n",
       "      <th>AFRICA WEST</th>\n",
       "      <td>0.843967</td>\n",
       "      <td>70.571687</td>\n",
       "      <td>3.195017</td>\n",
       "      <td>2.190294</td>\n",
       "      <td>23.199035</td>\n",
       "    </tr>\n",
       "    <tr>\n",
       "      <th>EAST ASIA AND PACIFIC</th>\n",
       "      <td>11.380856</td>\n",
       "      <td>74.704785</td>\n",
       "      <td>5.689290</td>\n",
       "      <td>0.755387</td>\n",
       "      <td>7.469682</td>\n",
       "    </tr>\n",
       "    <tr>\n",
       "      <th>EUROPE AND CENTRAL ASIA</th>\n",
       "      <td>11.047066</td>\n",
       "      <td>61.245082</td>\n",
       "      <td>4.578546</td>\n",
       "      <td>15.413873</td>\n",
       "      <td>7.715432</td>\n",
       "    </tr>\n",
       "    <tr>\n",
       "      <th>LATIN AMERICA AND CARIBBEAN</th>\n",
       "      <td>7.317035</td>\n",
       "      <td>82.519208</td>\n",
       "      <td>2.561118</td>\n",
       "      <td>2.517656</td>\n",
       "      <td>5.084983</td>\n",
       "    </tr>\n",
       "    <tr>\n",
       "      <th>MIDDLE EAST AND NORTH AFRICA</th>\n",
       "      <td>8.988639</td>\n",
       "      <td>83.270525</td>\n",
       "      <td>1.616280</td>\n",
       "      <td>0.128409</td>\n",
       "      <td>5.996148</td>\n",
       "    </tr>\n",
       "    <tr>\n",
       "      <th>OTHER</th>\n",
       "      <td>13.924051</td>\n",
       "      <td>NaN</td>\n",
       "      <td>NaN</td>\n",
       "      <td>NaN</td>\n",
       "      <td>86.075949</td>\n",
       "    </tr>\n",
       "    <tr>\n",
       "      <th>SOUTH ASIA</th>\n",
       "      <td>6.393962</td>\n",
       "      <td>83.311929</td>\n",
       "      <td>4.311986</td>\n",
       "      <td>1.534121</td>\n",
       "      <td>4.448001</td>\n",
       "    </tr>\n",
       "  </tbody>\n",
       "</table>\n",
       "</div>"
      ],
      "text/plain": [
       "                             Service Charge Rate                       \\\n",
       "Service Charge Rate                          0.0        1.0       2.0   \n",
       "Region                                                                  \n",
       "AFRICA                                 10.264925  82.123513  0.828690   \n",
       "AFRICA EAST                             0.365946  78.387687  0.990206   \n",
       "AFRICA WEST                             0.843967  70.571687  3.195017   \n",
       "EAST ASIA AND PACIFIC                  11.380856  74.704785  5.689290   \n",
       "EUROPE AND CENTRAL ASIA                11.047066  61.245082  4.578546   \n",
       "LATIN AMERICA AND CARIBBEAN             7.317035  82.519208  2.561118   \n",
       "MIDDLE EAST AND NORTH AFRICA            8.988639  83.270525  1.616280   \n",
       "OTHER                                  13.924051        NaN       NaN   \n",
       "SOUTH ASIA                              6.393962  83.311929  4.311986   \n",
       "\n",
       "                                                    \n",
       "Service Charge Rate                 3.0        4.0  \n",
       "Region                                              \n",
       "AFRICA                         0.458682   6.324190  \n",
       "AFRICA EAST                    1.474545  18.781617  \n",
       "AFRICA WEST                    2.190294  23.199035  \n",
       "EAST ASIA AND PACIFIC          0.755387   7.469682  \n",
       "EUROPE AND CENTRAL ASIA       15.413873   7.715432  \n",
       "LATIN AMERICA AND CARIBBEAN    2.517656   5.084983  \n",
       "MIDDLE EAST AND NORTH AFRICA   0.128409   5.996148  \n",
       "OTHER                               NaN  86.075949  \n",
       "SOUTH ASIA                     1.534121   4.448001  "
      ]
     },
     "execution_count": 137,
     "metadata": {},
     "output_type": "execute_result"
    }
   ],
   "source": [
    "d = c.to_frame()\n",
    "title = [i for i in d.index.get_level_values(0).value_counts().index]\n",
    "e = d.unstack()\n",
    "label = [0.0, 1.0, 2.0, 3.0, 4.0]\n",
    "e for i in title"
   ]
  },
  {
   "cell_type": "code",
   "execution_count": 133,
   "metadata": {
    "ExecuteTime": {
     "end_time": "2020-12-01T09:49:45.654007Z",
     "start_time": "2020-12-01T09:49:45.650315Z"
    }
   },
   "outputs": [
    {
     "data": {
      "text/plain": [
       "13.924050632911392"
      ]
     },
     "execution_count": 133,
     "metadata": {},
     "output_type": "execute_result"
    }
   ],
   "source": [
    "f = e.loc[\"OTHER\",:].unstack()\n",
    "f[0.0][\"Service Charge Rate\"]"
   ]
  },
  {
   "cell_type": "code",
   "execution_count": 125,
   "metadata": {
    "ExecuteTime": {
     "end_time": "2020-12-01T09:46:10.067864Z",
     "start_time": "2020-12-01T09:46:10.049610Z"
    }
   },
   "outputs": [
    {
     "data": {
      "text/plain": [
       "[Service Charge Rate        0.0  1.0  2.0  3.0        4.0\n",
       " Service Charge Rate  13.924051  NaN  NaN  NaN  86.075949,\n",
       " Service Charge Rate        0.0  1.0  2.0  3.0        4.0\n",
       " Service Charge Rate  13.924051  NaN  NaN  NaN  86.075949,\n",
       " Service Charge Rate        0.0  1.0  2.0  3.0        4.0\n",
       " Service Charge Rate  13.924051  NaN  NaN  NaN  86.075949,\n",
       " Service Charge Rate        0.0  1.0  2.0  3.0        4.0\n",
       " Service Charge Rate  13.924051  NaN  NaN  NaN  86.075949,\n",
       " Service Charge Rate        0.0  1.0  2.0  3.0        4.0\n",
       " Service Charge Rate  13.924051  NaN  NaN  NaN  86.075949,\n",
       " Service Charge Rate        0.0  1.0  2.0  3.0        4.0\n",
       " Service Charge Rate  13.924051  NaN  NaN  NaN  86.075949,\n",
       " Service Charge Rate        0.0  1.0  2.0  3.0        4.0\n",
       " Service Charge Rate  13.924051  NaN  NaN  NaN  86.075949,\n",
       " Service Charge Rate        0.0  1.0  2.0  3.0        4.0\n",
       " Service Charge Rate  13.924051  NaN  NaN  NaN  86.075949,\n",
       " Service Charge Rate        0.0  1.0  2.0  3.0        4.0\n",
       " Service Charge Rate  13.924051  NaN  NaN  NaN  86.075949]"
      ]
     },
     "execution_count": 125,
     "metadata": {},
     "output_type": "execute_result"
    }
   ],
   "source": [
    "[f[i] for i in label]"
   ]
  },
  {
   "cell_type": "code",
   "execution_count": 117,
   "metadata": {
    "ExecuteTime": {
     "end_time": "2020-12-01T09:43:13.011107Z",
     "start_time": "2020-12-01T09:43:13.003925Z"
    }
   },
   "outputs": [
    {
     "data": {
      "text/html": [
       "<div>\n",
       "<style scoped>\n",
       "    .dataframe tbody tr th:only-of-type {\n",
       "        vertical-align: middle;\n",
       "    }\n",
       "\n",
       "    .dataframe tbody tr th {\n",
       "        vertical-align: top;\n",
       "    }\n",
       "\n",
       "    .dataframe thead tr th {\n",
       "        text-align: left;\n",
       "    }\n",
       "\n",
       "    .dataframe thead tr:last-of-type th {\n",
       "        text-align: right;\n",
       "    }\n",
       "</style>\n",
       "<table border=\"1\" class=\"dataframe\">\n",
       "  <thead>\n",
       "    <tr>\n",
       "      <th></th>\n",
       "      <th colspan=\"5\" halign=\"left\">Service Charge Rate</th>\n",
       "    </tr>\n",
       "    <tr>\n",
       "      <th>Service Charge Rate</th>\n",
       "      <th>0.0</th>\n",
       "      <th>1.0</th>\n",
       "      <th>2.0</th>\n",
       "      <th>3.0</th>\n",
       "      <th>4.0</th>\n",
       "    </tr>\n",
       "    <tr>\n",
       "      <th>Region</th>\n",
       "      <th></th>\n",
       "      <th></th>\n",
       "      <th></th>\n",
       "      <th></th>\n",
       "      <th></th>\n",
       "    </tr>\n",
       "  </thead>\n",
       "  <tbody>\n",
       "    <tr>\n",
       "      <th>AFRICA</th>\n",
       "      <td>10.264925</td>\n",
       "      <td>82.123513</td>\n",
       "      <td>0.828690</td>\n",
       "      <td>0.458682</td>\n",
       "      <td>6.324190</td>\n",
       "    </tr>\n",
       "    <tr>\n",
       "      <th>AFRICA EAST</th>\n",
       "      <td>0.365946</td>\n",
       "      <td>78.387687</td>\n",
       "      <td>0.990206</td>\n",
       "      <td>1.474545</td>\n",
       "      <td>18.781617</td>\n",
       "    </tr>\n",
       "    <tr>\n",
       "      <th>AFRICA WEST</th>\n",
       "      <td>0.843967</td>\n",
       "      <td>70.571687</td>\n",
       "      <td>3.195017</td>\n",
       "      <td>2.190294</td>\n",
       "      <td>23.199035</td>\n",
       "    </tr>\n",
       "    <tr>\n",
       "      <th>EAST ASIA AND PACIFIC</th>\n",
       "      <td>11.380856</td>\n",
       "      <td>74.704785</td>\n",
       "      <td>5.689290</td>\n",
       "      <td>0.755387</td>\n",
       "      <td>7.469682</td>\n",
       "    </tr>\n",
       "    <tr>\n",
       "      <th>EUROPE AND CENTRAL ASIA</th>\n",
       "      <td>11.047066</td>\n",
       "      <td>61.245082</td>\n",
       "      <td>4.578546</td>\n",
       "      <td>15.413873</td>\n",
       "      <td>7.715432</td>\n",
       "    </tr>\n",
       "    <tr>\n",
       "      <th>LATIN AMERICA AND CARIBBEAN</th>\n",
       "      <td>7.317035</td>\n",
       "      <td>82.519208</td>\n",
       "      <td>2.561118</td>\n",
       "      <td>2.517656</td>\n",
       "      <td>5.084983</td>\n",
       "    </tr>\n",
       "    <tr>\n",
       "      <th>MIDDLE EAST AND NORTH AFRICA</th>\n",
       "      <td>8.988639</td>\n",
       "      <td>83.270525</td>\n",
       "      <td>1.616280</td>\n",
       "      <td>0.128409</td>\n",
       "      <td>5.996148</td>\n",
       "    </tr>\n",
       "    <tr>\n",
       "      <th>OTHER</th>\n",
       "      <td>13.924051</td>\n",
       "      <td>NaN</td>\n",
       "      <td>NaN</td>\n",
       "      <td>NaN</td>\n",
       "      <td>86.075949</td>\n",
       "    </tr>\n",
       "    <tr>\n",
       "      <th>SOUTH ASIA</th>\n",
       "      <td>6.393962</td>\n",
       "      <td>83.311929</td>\n",
       "      <td>4.311986</td>\n",
       "      <td>1.534121</td>\n",
       "      <td>4.448001</td>\n",
       "    </tr>\n",
       "  </tbody>\n",
       "</table>\n",
       "</div>"
      ],
      "text/plain": [
       "                             Service Charge Rate                       \\\n",
       "Service Charge Rate                          0.0        1.0       2.0   \n",
       "Region                                                                  \n",
       "AFRICA                                 10.264925  82.123513  0.828690   \n",
       "AFRICA EAST                             0.365946  78.387687  0.990206   \n",
       "AFRICA WEST                             0.843967  70.571687  3.195017   \n",
       "EAST ASIA AND PACIFIC                  11.380856  74.704785  5.689290   \n",
       "EUROPE AND CENTRAL ASIA                11.047066  61.245082  4.578546   \n",
       "LATIN AMERICA AND CARIBBEAN             7.317035  82.519208  2.561118   \n",
       "MIDDLE EAST AND NORTH AFRICA            8.988639  83.270525  1.616280   \n",
       "OTHER                                  13.924051        NaN       NaN   \n",
       "SOUTH ASIA                              6.393962  83.311929  4.311986   \n",
       "\n",
       "                                                    \n",
       "Service Charge Rate                 3.0        4.0  \n",
       "Region                                              \n",
       "AFRICA                         0.458682   6.324190  \n",
       "AFRICA EAST                    1.474545  18.781617  \n",
       "AFRICA WEST                    2.190294  23.199035  \n",
       "EAST ASIA AND PACIFIC          0.755387   7.469682  \n",
       "EUROPE AND CENTRAL ASIA       15.413873   7.715432  \n",
       "LATIN AMERICA AND CARIBBEAN    2.517656   5.084983  \n",
       "MIDDLE EAST AND NORTH AFRICA   0.128409   5.996148  \n",
       "OTHER                               NaN  86.075949  \n",
       "SOUTH ASIA                     1.534121   4.448001  "
      ]
     },
     "execution_count": 117,
     "metadata": {},
     "output_type": "execute_result"
    }
   ],
   "source": [
    "e"
   ]
  },
  {
   "cell_type": "code",
   "execution_count": null,
   "metadata": {},
   "outputs": [],
   "source": [
    "fig, axes = plt.subplots(3,3,figsize=(10,10))\n",
    "\n",
    "axes[0,0].set()\n"
   ]
  }
 ],
 "metadata": {
  "kernelspec": {
   "display_name": "Python 3",
   "language": "python",
   "name": "python3"
  },
  "language_info": {
   "codemirror_mode": {
    "name": "ipython",
    "version": 3
   },
   "file_extension": ".py",
   "mimetype": "text/x-python",
   "name": "python",
   "nbconvert_exporter": "python",
   "pygments_lexer": "ipython3",
   "version": "3.8.3"
  },
  "toc": {
   "base_numbering": 1,
   "nav_menu": {},
   "number_sections": true,
   "sideBar": true,
   "skip_h1_title": false,
   "title_cell": "Table of Contents",
   "title_sidebar": "Contents",
   "toc_cell": false,
   "toc_position": {},
   "toc_section_display": true,
   "toc_window_display": false
  },
  "varInspector": {
   "cols": {
    "lenName": 16,
    "lenType": 16,
    "lenVar": 40
   },
   "kernels_config": {
    "python": {
     "delete_cmd_postfix": "",
     "delete_cmd_prefix": "del ",
     "library": "var_list.py",
     "varRefreshCmd": "print(var_dic_list())"
    },
    "r": {
     "delete_cmd_postfix": ") ",
     "delete_cmd_prefix": "rm(",
     "library": "var_list.r",
     "varRefreshCmd": "cat(var_dic_list()) "
    }
   },
   "types_to_exclude": [
    "module",
    "function",
    "builtin_function_or_method",
    "instance",
    "_Feature"
   ],
   "window_display": false
  }
 },
 "nbformat": 4,
 "nbformat_minor": 4
}
