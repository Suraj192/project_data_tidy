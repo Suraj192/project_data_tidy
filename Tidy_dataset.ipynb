{
 "cells": [
  {
   "cell_type": "code",
   "execution_count": 1,
   "metadata": {
    "ExecuteTime": {
     "end_time": "2020-11-30T18:33:03.439898Z",
     "start_time": "2020-11-30T18:33:03.054725Z"
    }
   },
   "outputs": [],
   "source": [
    "import numpy as np\n",
    "import pandas as pd\n",
    "import requests\n",
    "from matplotlib import pyplot as plt"
   ]
  },
  {
   "cell_type": "markdown",
   "metadata": {},
   "source": [
    "# Loading the dataset"
   ]
  },
  {
   "cell_type": "code",
   "execution_count": 2,
   "metadata": {
    "ExecuteTime": {
     "end_time": "2020-11-30T18:33:05.960915Z",
     "start_time": "2020-11-30T18:33:03.440989Z"
    }
   },
   "outputs": [
    {
     "name": "stderr",
     "output_type": "stream",
     "text": [
      "/home/vu/miniconda3/lib/python3.8/site-packages/IPython/core/interactiveshell.py:3145: DtypeWarning: Columns (29) have mixed types.Specify dtype option on import or set low_memory=False.\n",
      "  has_raised = await self.run_ast_nodes(code_ast.body, cell_name,\n",
      "/home/vu/miniconda3/lib/python3.8/site-packages/IPython/core/interactiveshell.py:3145: DtypeWarning: Columns (17) have mixed types.Specify dtype option on import or set low_memory=False.\n",
      "  has_raised = await self.run_ast_nodes(code_ast.body, cell_name,\n"
     ]
    },
    {
     "data": {
      "text/html": [
       "<div>\n",
       "<style scoped>\n",
       "    .dataframe tbody tr th:only-of-type {\n",
       "        vertical-align: middle;\n",
       "    }\n",
       "\n",
       "    .dataframe tbody tr th {\n",
       "        vertical-align: top;\n",
       "    }\n",
       "\n",
       "    .dataframe thead th {\n",
       "        text-align: right;\n",
       "    }\n",
       "</style>\n",
       "<table border=\"1\" class=\"dataframe\">\n",
       "  <thead>\n",
       "    <tr style=\"text-align: right;\">\n",
       "      <th></th>\n",
       "      <th>End of Period</th>\n",
       "      <th>Credit Number</th>\n",
       "      <th>Region</th>\n",
       "      <th>Country Code</th>\n",
       "      <th>Country</th>\n",
       "      <th>Borrower</th>\n",
       "      <th>Credit Status</th>\n",
       "      <th>Service Charge Rate</th>\n",
       "      <th>Currency of Commitment</th>\n",
       "      <th>Project ID</th>\n",
       "      <th>...</th>\n",
       "      <th>Repaid 3rd Party</th>\n",
       "      <th>Due 3rd Party</th>\n",
       "      <th>Credits Held</th>\n",
       "      <th>First Repayment Date</th>\n",
       "      <th>Last Repayment Date</th>\n",
       "      <th>Agreement Signing Date</th>\n",
       "      <th>Board Approval Date</th>\n",
       "      <th>Effective Date (Most Recent)</th>\n",
       "      <th>Closed Date (Most Recent)</th>\n",
       "      <th>Last Disbursement Date</th>\n",
       "    </tr>\n",
       "  </thead>\n",
       "  <tbody>\n",
       "    <tr>\n",
       "      <th>0</th>\n",
       "      <td>4/30/2020 0:00</td>\n",
       "      <td>IDA07770</td>\n",
       "      <td>LATIN AMERICA AND CARIBBEAN</td>\n",
       "      <td>HN</td>\n",
       "      <td>Honduras</td>\n",
       "      <td>MINISTERIO DE HACIENDA Y CREDITO PUBLICO</td>\n",
       "      <td>Fully Repaid</td>\n",
       "      <td>0.75</td>\n",
       "      <td>USD</td>\n",
       "      <td>P007353</td>\n",
       "      <td>...</td>\n",
       "      <td>0.0</td>\n",
       "      <td>0</td>\n",
       "      <td>0.0</td>\n",
       "      <td>9/1/1988 0:00</td>\n",
       "      <td>3/1/2028 0:00</td>\n",
       "      <td>4/6/1978 0:00</td>\n",
       "      <td>3/14/1978 0:00</td>\n",
       "      <td>8/15/1978 0:00</td>\n",
       "      <td>12/31/1984 0:00</td>\n",
       "      <td>NaN</td>\n",
       "    </tr>\n",
       "    <tr>\n",
       "      <th>1</th>\n",
       "      <td>4/30/2020 0:00</td>\n",
       "      <td>IDA07780</td>\n",
       "      <td>SOUTH ASIA</td>\n",
       "      <td>AF</td>\n",
       "      <td>Afghanistan</td>\n",
       "      <td>STATE PLANNING COMM.</td>\n",
       "      <td>Fully Repaid</td>\n",
       "      <td>0.75</td>\n",
       "      <td>USD</td>\n",
       "      <td>P009314</td>\n",
       "      <td>...</td>\n",
       "      <td>0.0</td>\n",
       "      <td>0</td>\n",
       "      <td>0.0</td>\n",
       "      <td>6/15/1988 0:00</td>\n",
       "      <td>12/15/2027 0:00</td>\n",
       "      <td>4/10/1978 0:00</td>\n",
       "      <td>3/21/1978 0:00</td>\n",
       "      <td>9/19/1978 0:00</td>\n",
       "      <td>6/30/1983 0:00</td>\n",
       "      <td>NaN</td>\n",
       "    </tr>\n",
       "    <tr>\n",
       "      <th>2</th>\n",
       "      <td>4/30/2020 0:00</td>\n",
       "      <td>IDA07790</td>\n",
       "      <td>SOUTH ASIA</td>\n",
       "      <td>AF</td>\n",
       "      <td>Afghanistan</td>\n",
       "      <td>MINISTRY OF COMMERCE</td>\n",
       "      <td>Fully Repaid</td>\n",
       "      <td>0.75</td>\n",
       "      <td>USD</td>\n",
       "      <td>P009315</td>\n",
       "      <td>...</td>\n",
       "      <td>0.0</td>\n",
       "      <td>0</td>\n",
       "      <td>0.0</td>\n",
       "      <td>6/15/1988 0:00</td>\n",
       "      <td>12/15/2027 0:00</td>\n",
       "      <td>9/27/1978 0:00</td>\n",
       "      <td>3/21/1978 0:00</td>\n",
       "      <td>5/15/1979 0:00</td>\n",
       "      <td>6/30/1985 0:00</td>\n",
       "      <td>NaN</td>\n",
       "    </tr>\n",
       "    <tr>\n",
       "      <th>3</th>\n",
       "      <td>4/30/2020 0:00</td>\n",
       "      <td>IDA07800</td>\n",
       "      <td>MIDDLE EAST AND NORTH AFRICA</td>\n",
       "      <td>JO</td>\n",
       "      <td>Jordan</td>\n",
       "      <td>MINISTRY OF PLANNING &amp; INTNL COOPERATION</td>\n",
       "      <td>Repaying</td>\n",
       "      <td>0.75</td>\n",
       "      <td>USD</td>\n",
       "      <td>P005253</td>\n",
       "      <td>...</td>\n",
       "      <td>0.0</td>\n",
       "      <td>0</td>\n",
       "      <td>3360000.0</td>\n",
       "      <td>9/1/1988 0:00</td>\n",
       "      <td>3/1/2028 0:00</td>\n",
       "      <td>5/19/1978 0:00</td>\n",
       "      <td>3/23/1978 0:00</td>\n",
       "      <td>10/17/1978 0:00</td>\n",
       "      <td>6/30/1983 0:00</td>\n",
       "      <td>NaN</td>\n",
       "    </tr>\n",
       "    <tr>\n",
       "      <th>4</th>\n",
       "      <td>4/30/2020 0:00</td>\n",
       "      <td>IDA07810</td>\n",
       "      <td>AFRICA</td>\n",
       "      <td>SD</td>\n",
       "      <td>Sudan</td>\n",
       "      <td>Ministry of Finance and National Economy</td>\n",
       "      <td>Repaying</td>\n",
       "      <td>0.75</td>\n",
       "      <td>USD</td>\n",
       "      <td>P002575</td>\n",
       "      <td>...</td>\n",
       "      <td>0.0</td>\n",
       "      <td>0</td>\n",
       "      <td>20680000.0</td>\n",
       "      <td>9/15/1988 0:00</td>\n",
       "      <td>3/15/2028 0:00</td>\n",
       "      <td>6/9/1978 0:00</td>\n",
       "      <td>3/23/1978 0:00</td>\n",
       "      <td>2/2/1979 0:00</td>\n",
       "      <td>6/30/1983 0:00</td>\n",
       "      <td>NaN</td>\n",
       "    </tr>\n",
       "  </tbody>\n",
       "</table>\n",
       "<p>5 rows × 30 columns</p>\n",
       "</div>"
      ],
      "text/plain": [
       "    End of Period Credit Number                        Region Country Code  \\\n",
       "0  4/30/2020 0:00      IDA07770   LATIN AMERICA AND CARIBBEAN           HN   \n",
       "1  4/30/2020 0:00      IDA07780                    SOUTH ASIA           AF   \n",
       "2  4/30/2020 0:00      IDA07790                    SOUTH ASIA           AF   \n",
       "3  4/30/2020 0:00      IDA07800  MIDDLE EAST AND NORTH AFRICA           JO   \n",
       "4  4/30/2020 0:00      IDA07810                        AFRICA           SD   \n",
       "\n",
       "       Country                                  Borrower Credit Status  \\\n",
       "0     Honduras  MINISTERIO DE HACIENDA Y CREDITO PUBLICO  Fully Repaid   \n",
       "1  Afghanistan                      STATE PLANNING COMM.  Fully Repaid   \n",
       "2  Afghanistan                      MINISTRY OF COMMERCE  Fully Repaid   \n",
       "3       Jordan  MINISTRY OF PLANNING & INTNL COOPERATION      Repaying   \n",
       "4        Sudan  Ministry of Finance and National Economy      Repaying   \n",
       "\n",
       "   Service Charge Rate Currency of Commitment Project ID  ...  \\\n",
       "0                 0.75                    USD    P007353  ...   \n",
       "1                 0.75                    USD    P009314  ...   \n",
       "2                 0.75                    USD    P009315  ...   \n",
       "3                 0.75                    USD    P005253  ...   \n",
       "4                 0.75                    USD    P002575  ...   \n",
       "\n",
       "  Repaid 3rd Party  Due 3rd Party  Credits Held  First Repayment Date  \\\n",
       "0              0.0              0           0.0         9/1/1988 0:00   \n",
       "1              0.0              0           0.0        6/15/1988 0:00   \n",
       "2              0.0              0           0.0        6/15/1988 0:00   \n",
       "3              0.0              0     3360000.0         9/1/1988 0:00   \n",
       "4              0.0              0    20680000.0        9/15/1988 0:00   \n",
       "\n",
       "   Last Repayment Date  Agreement Signing Date  Board Approval Date  \\\n",
       "0        3/1/2028 0:00           4/6/1978 0:00       3/14/1978 0:00   \n",
       "1      12/15/2027 0:00          4/10/1978 0:00       3/21/1978 0:00   \n",
       "2      12/15/2027 0:00          9/27/1978 0:00       3/21/1978 0:00   \n",
       "3        3/1/2028 0:00          5/19/1978 0:00       3/23/1978 0:00   \n",
       "4       3/15/2028 0:00           6/9/1978 0:00       3/23/1978 0:00   \n",
       "\n",
       "   Effective Date (Most Recent)  Closed Date (Most Recent)  \\\n",
       "0                8/15/1978 0:00            12/31/1984 0:00   \n",
       "1                9/19/1978 0:00             6/30/1983 0:00   \n",
       "2                5/15/1979 0:00             6/30/1985 0:00   \n",
       "3               10/17/1978 0:00             6/30/1983 0:00   \n",
       "4                 2/2/1979 0:00             6/30/1983 0:00   \n",
       "\n",
       "   Last Disbursement Date  \n",
       "0                     NaN  \n",
       "1                     NaN  \n",
       "2                     NaN  \n",
       "3                     NaN  \n",
       "4                     NaN  \n",
       "\n",
       "[5 rows x 30 columns]"
      ]
     },
     "execution_count": 2,
     "metadata": {},
     "output_type": "execute_result"
    }
   ],
   "source": [
    "df1 = pd.read_csv(\"IDA_data1.csv\")\n",
    "df2 = pd.read_csv(\"IDA_data2.csv\")\n",
    "df3 = pd.read_csv(\"IDA_data3.csv\")\n",
    "df1.head()"
   ]
  },
  {
   "cell_type": "code",
   "execution_count": 3,
   "metadata": {
    "ExecuteTime": {
     "end_time": "2020-11-30T18:33:06.279832Z",
     "start_time": "2020-11-30T18:33:05.962018Z"
    }
   },
   "outputs": [],
   "source": [
    "df = pd.concat([df1,df2,df3], ignore_index=True)"
   ]
  },
  {
   "cell_type": "markdown",
   "metadata": {},
   "source": [
    "# Dataset description\n",
    "## Dataset content\n",
    "\n",
    "This dataset contains historical snapshots of the IDA Statement of Credits and Grants including the latest available snapshot. The World Bank complies with all sanctions applicable to World Bank transactions.\n",
    "## Dataset attribute \n",
    "- End of Peroid: End of Period Date represents the date as of which balances are shown in the report.\n",
    "- Loan Number/Credit Number: For IBRD loans and IDA credits or grants a loan number consists of the organization prefix (IBRD/IDA) and a five-character label that uniquely identifies the loan within the organization. In IDA, all grant labels start with the letter ‘H’.\n",
    "- Region: World Bank Region to which the country and loan belong. Country lending is grouped into regions based on the current World Bank administrative (rather than geographic) region where project implementation takes place. The “Other”” Region is used for loans to the IFC.\n",
    "- Country: Country to which a loan has been issued. Loans to the IFC are included under the country “World”.\n",
    "- Country Code: Country Code according to the World Bank country list. This might be different from the ISO country code.\n",
    "- Borrower: The representative of the borrower to which the Bank loan is made. \n",
    "- Guarantor: The Guarantor guarantees repayment to the Bank if the borrower does not repay.\n",
    "- Guarantor Country Code: Country Code of the Guarantor according to the World Bank country list. This might be different from the ISO country code.\n",
    "- Loan Type: A type of loan/loan instrument for which distinctive accounting and/or other actions need to be performed. \n",
    "- Loan Status/Credit Status: Status of the loan.\n",
    "- Interest Rate/Service Charge Rate: Current Interest rate or service charge applied to loan. For loans that could have more than one interest rate (e.g. FSL or SCL fixed rate loans), the interest rate is shown as “0”.\n",
    "- Currency of Commitment: The currency in which a borrower’s loan, credit or grant is denominated.\n",
    "- Project Name: Short descriptive project name.\n",
    "- Project ID: A Bank project is referenced by a project ID (Pxxxxxxx). More than one loan, credit, or grant may be associated with one Project ID.\n",
    "- Original Principal Amount: The original US dollar amount of the loan that is committed and approved.\n",
    "- Cancelled Amount: The portion of the undisbursed balance which has been cancelled (i.e. no longer available for future disbursement). Cancellations include terminations (where approved loan agreements were never signed).\n",
    "- Undisbursed Amount: The amount of a loan commitment that is still available to be drawn down. These currency amounts have been converted to US dollars at the exchange rates applicable at the end of period date.\n",
    "- Disbursed Amount: The amount that has been disbursed from a loan commitment in equivalent US dollars, calculated at the exchange rate on the value date of the individual disbursements.\n",
    "- Repaid to IBRD: Total principal amounts paid or prepaid to IBRD in US dollars, calculated at the exchange rate on the value date of the individual repayments.\n",
    "- Repaid to IDA: Total principal amounts paid or prepaid to IDA in US dollars, calculated at the exchange rate on the value date of the individual repayments. Repaid to IDA amounts include amounts written off under the Multilateral Debt Relief Initiative (MDRI).\n",
    "- Due to IBRD: Amount due and outstanding as of the End of Period date.\n",
    "- Exchange Adjustment: The increase (decrease) in value of disbursed and outstanding amount due to exchange rate fluctuations. This amount added to “Due to IBRD” yields “Borrower’s Obligation”; includes exchange adjustments on the amounts Due to 3rd parties.\n",
    "- Borrower's Obligation: The Borrower Obligation is the outstanding balance for the loan as of the end of period date in US dollars equivalent. The Borrower's Obligation includes the amounts outstanding Due to 3rd parties. \n",
    "- Sold 3rd Party: Portion of loan sold to a third party.\n",
    "- Repaid 3rd Party: Amount repaid to a third party.\n",
    "- Due 3rd Party: Amount due to a third party.\n",
    "- Loans Held: The sum of the disbursed and outstanding amounts (net of repayments, i.e. Due to IBRD/IDA) plus undisbursed available amounts.\n",
    "- First Repayment Date: The date on which principal repayment starts.\n",
    "- Last Repayment Date: The date specified in the loan/credit agreement (amended for any partial prepayments) on which the last principal installment must be repaid by the Borrower.\n",
    "- Agreement Signing Date: The date the borrower and the Bank sign the loan agreement.\n",
    "- Board Approval Date: The date the World Bank approves the loan.\n",
    "- Effective Date: The date on which a legal agreement becomes effective, or is expected to become effective.\n",
    "- Close Date: The date specified in the legal agreement (or extension) after which the Bank may, by notice to the borrower, terminate the right to make withdrawals from the loan account.\n",
    "- Last Disbursement Date: The date on which the last disbursement was made (prior to the end of period date)."
   ]
  },
  {
   "cell_type": "markdown",
   "metadata": {},
   "source": [
    "## Dataset info"
   ]
  },
  {
   "cell_type": "code",
   "execution_count": 4,
   "metadata": {
    "ExecuteTime": {
     "end_time": "2020-11-30T18:33:06.282468Z",
     "start_time": "2020-11-30T18:33:06.280822Z"
    }
   },
   "outputs": [
    {
     "name": "stdout",
     "output_type": "stream",
     "text": [
      "The dataset has 899514 rows and 30 columns\n"
     ]
    }
   ],
   "source": [
    "print(f\"The dataset has {df.shape[0]} rows and {df.shape[1]} columns\")"
   ]
  },
  {
   "cell_type": "code",
   "execution_count": 5,
   "metadata": {
    "ExecuteTime": {
     "end_time": "2020-11-30T18:33:07.211498Z",
     "start_time": "2020-11-30T18:33:06.283592Z"
    }
   },
   "outputs": [
    {
     "name": "stdout",
     "output_type": "stream",
     "text": [
      "<class 'pandas.core.frame.DataFrame'>\n",
      "RangeIndex: 899514 entries, 0 to 899513\n",
      "Data columns (total 30 columns):\n",
      " #   Column                        Non-Null Count   Dtype  \n",
      "---  ------                        --------------   -----  \n",
      " 0   End of Period                 899514 non-null  object \n",
      " 1   Credit Number                 899514 non-null  object \n",
      " 2   Region                        899514 non-null  object \n",
      " 3   Country Code                  899514 non-null  object \n",
      " 4   Country                       899514 non-null  object \n",
      " 5   Borrower                      899071 non-null  object \n",
      " 6   Credit Status                 899514 non-null  object \n",
      " 7   Service Charge Rate           837810 non-null  float64\n",
      " 8   Currency of Commitment        899514 non-null  object \n",
      " 9   Project ID                    899512 non-null  object \n",
      " 10  Project Name                  899469 non-null  object \n",
      " 11  Original Principal Amount     899514 non-null  float64\n",
      " 12  Cancelled Amount              899512 non-null  float64\n",
      " 13  Undisbursed Amount            899514 non-null  float64\n",
      " 14  Disbursed Amount              899512 non-null  float64\n",
      " 15  Repaid to IDA                 899512 non-null  float64\n",
      " 16  Due to IDA                    899512 non-null  float64\n",
      " 17  Exchange Adjustment           899514 non-null  object \n",
      " 18  Borrower's Obligation         899512 non-null  float64\n",
      " 19  Sold 3rd Party                899512 non-null  float64\n",
      " 20  Repaid 3rd Party              899512 non-null  float64\n",
      " 21  Due 3rd Party                 899512 non-null  float64\n",
      " 22  Credits Held                  899514 non-null  float64\n",
      " 23  First Repayment Date          767911 non-null  object \n",
      " 24  Last Repayment Date           767911 non-null  object \n",
      " 25  Agreement Signing Date        885410 non-null  object \n",
      " 26  Board Approval Date           899316 non-null  object \n",
      " 27  Effective Date (Most Recent)  890427 non-null  object \n",
      " 28  Closed Date (Most Recent)     899141 non-null  object \n",
      " 29  Last Disbursement Date        557319 non-null  object \n",
      "dtypes: float64(12), object(18)\n",
      "memory usage: 205.9+ MB\n"
     ]
    }
   ],
   "source": [
    "df.info()"
   ]
  },
  {
   "cell_type": "markdown",
   "metadata": {},
   "source": [
    "Among 30 columns in the dataset, there is some columns which missing data, which is:"
   ]
  },
  {
   "cell_type": "code",
   "execution_count": 6,
   "metadata": {
    "ExecuteTime": {
     "end_time": "2020-11-30T18:33:08.227906Z",
     "start_time": "2020-11-30T18:33:07.212475Z"
    }
   },
   "outputs": [
    {
     "data": {
      "text/plain": [
       "Last Disbursement Date          342195\n",
       "First Repayment Date            131603\n",
       "Last Repayment Date             131603\n",
       "Service Charge Rate              61704\n",
       "Agreement Signing Date           14104\n",
       "Effective Date (Most Recent)      9087\n",
       "Borrower                           443\n",
       "Closed Date (Most Recent)          373\n",
       "Board Approval Date                198\n",
       "Project Name                        45\n",
       "Due 3rd Party                        2\n",
       "Repaid 3rd Party                     2\n",
       "Borrower's Obligation                2\n",
       "Due to IDA                           2\n",
       "Repaid to IDA                        2\n",
       "Disbursed Amount                     2\n",
       "Cancelled Amount                     2\n",
       "Project ID                           2\n",
       "Sold 3rd Party                       2\n",
       "dtype: int64"
      ]
     },
     "execution_count": 6,
     "metadata": {},
     "output_type": "execute_result"
    }
   ],
   "source": [
    "df.isnull().sum()[df.isnull().sum()!=0].sort_values(ascending=False)"
   ]
  },
  {
   "cell_type": "markdown",
   "metadata": {},
   "source": [
    "## Dataset cleaning\n",
    "### Check for duplicated and drop duplicated rows"
   ]
  },
  {
   "cell_type": "code",
   "execution_count": 28,
   "metadata": {
    "ExecuteTime": {
     "end_time": "2020-11-30T20:24:06.127132Z",
     "start_time": "2020-11-30T20:24:05.042471Z"
    }
   },
   "outputs": [
    {
     "name": "stdout",
     "output_type": "stream",
     "text": [
      "There are total 19824 duplicated rows\n"
     ]
    }
   ],
   "source": [
    "dup = df.duplicated().sum()\n",
    "print(f\"There are total {dup} duplicated rows\")"
   ]
  },
  {
   "cell_type": "code",
   "execution_count": 29,
   "metadata": {
    "ExecuteTime": {
     "end_time": "2020-11-30T20:25:45.169035Z",
     "start_time": "2020-11-30T20:25:43.897452Z"
    }
   },
   "outputs": [],
   "source": [
    "df.drop_duplicates(keep='first', inplace=True)"
   ]
  },
  {
   "cell_type": "markdown",
   "metadata": {},
   "source": [
    "### Re-formating & re-ordering\n",
    "#### Re-formating\n",
    "There are several columns that are not in their correct format of datetime. Therefore, we convert those columns into their right format first.\n",
    "- End of Period\n",
    "- First Repayment Date \n",
    "- Last Repayment Date           \n",
    "- Agreement Signing Date        \n",
    "- Board Approval Date           \n",
    "- Effective Date (Most Recent) \n",
    "- Closed Date (Most Recent)    \n",
    "- Last Disbursement Date  "
   ]
  },
  {
   "cell_type": "code",
   "execution_count": 13,
   "metadata": {
    "ExecuteTime": {
     "end_time": "2020-11-30T18:41:33.116896Z",
     "start_time": "2020-11-30T18:40:44.973899Z"
    }
   },
   "outputs": [],
   "source": [
    "df[[\"End of Period\", \"First Repayment Date\", \"Last Repayment Date\", \n",
    "    \"Agreement Signing Date\", \"Board Approval Date\", \"Effective Date (Most Recent)\", \n",
    "    \"Closed Date (Most Recent)\", \"Last Disbursement Date\"]] = df[[\"End of Period\", \"First Repayment Date\", \"Last Repayment Date\", \n",
    "    \"Agreement Signing Date\", \"Board Approval Date\", \"Effective Date (Most Recent)\", \n",
    "    \"Closed Date (Most Recent)\", \"Last Disbursement Date\"]].apply(pd.to_datetime)"
   ]
  },
  {
   "cell_type": "code",
   "execution_count": 14,
   "metadata": {
    "ExecuteTime": {
     "end_time": "2020-11-30T18:41:37.124878Z",
     "start_time": "2020-11-30T18:41:36.744469Z"
    }
   },
   "outputs": [
    {
     "name": "stdout",
     "output_type": "stream",
     "text": [
      "<class 'pandas.core.frame.DataFrame'>\n",
      "RangeIndex: 899514 entries, 0 to 899513\n",
      "Data columns (total 30 columns):\n",
      " #   Column                        Non-Null Count   Dtype         \n",
      "---  ------                        --------------   -----         \n",
      " 0   End of Period                 899514 non-null  datetime64[ns]\n",
      " 1   Credit Number                 899514 non-null  object        \n",
      " 2   Region                        899514 non-null  object        \n",
      " 3   Country Code                  899514 non-null  object        \n",
      " 4   Country                       899514 non-null  object        \n",
      " 5   Borrower                      899071 non-null  object        \n",
      " 6   Credit Status                 899514 non-null  object        \n",
      " 7   Service Charge Rate           837810 non-null  float64       \n",
      " 8   Currency of Commitment        899514 non-null  object        \n",
      " 9   Project ID                    899512 non-null  object        \n",
      " 10  Project Name                  899469 non-null  object        \n",
      " 11  Original Principal Amount     899514 non-null  float64       \n",
      " 12  Cancelled Amount              899512 non-null  float64       \n",
      " 13  Undisbursed Amount            899514 non-null  float64       \n",
      " 14  Disbursed Amount              899512 non-null  float64       \n",
      " 15  Repaid to IDA                 899512 non-null  float64       \n",
      " 16  Due to IDA                    899512 non-null  float64       \n",
      " 17  Exchange Adjustment           899514 non-null  object        \n",
      " 18  Borrower's Obligation         899512 non-null  float64       \n",
      " 19  Sold 3rd Party                899512 non-null  float64       \n",
      " 20  Repaid 3rd Party              899512 non-null  float64       \n",
      " 21  Due 3rd Party                 899512 non-null  float64       \n",
      " 22  Credits Held                  899514 non-null  float64       \n",
      " 23  First Repayment Date          767911 non-null  datetime64[ns]\n",
      " 24  Last Repayment Date           767911 non-null  datetime64[ns]\n",
      " 25  Agreement Signing Date        885410 non-null  datetime64[ns]\n",
      " 26  Board Approval Date           899316 non-null  datetime64[ns]\n",
      " 27  Effective Date (Most Recent)  890427 non-null  datetime64[ns]\n",
      " 28  Closed Date (Most Recent)     899141 non-null  datetime64[ns]\n",
      " 29  Last Disbursement Date        557319 non-null  datetime64[ns]\n",
      "dtypes: datetime64[ns](8), float64(12), object(10)\n",
      "memory usage: 205.9+ MB\n"
     ]
    }
   ],
   "source": [
    "df.info()"
   ]
  },
  {
   "cell_type": "code",
   "execution_count": 15,
   "metadata": {
    "ExecuteTime": {
     "end_time": "2020-11-30T18:42:34.509016Z",
     "start_time": "2020-11-30T18:42:34.505217Z"
    }
   },
   "outputs": [
    {
     "data": {
      "text/plain": [
       "0        2020-04-30\n",
       "1        2020-04-30\n",
       "2        2020-04-30\n",
       "3        2020-04-30\n",
       "4        2020-04-30\n",
       "            ...    \n",
       "899509   2020-10-31\n",
       "899510   2020-10-31\n",
       "899511   2020-10-31\n",
       "899512   2020-10-31\n",
       "899513   2020-10-31\n",
       "Name: End of Period, Length: 899514, dtype: datetime64[ns]"
      ]
     },
     "execution_count": 15,
     "metadata": {},
     "output_type": "execute_result"
    }
   ],
   "source": [
    "df[\"End of Period\"]"
   ]
  },
  {
   "cell_type": "markdown",
   "metadata": {},
   "source": [
    "we can see that the Series starts with 30/04/2020 and ends with 31/10/2020 while the dataset includes all the investment/loan from 2011 to 2020. This indicates that the dataset is in a wrong order of date. We can re-sort the dataset on the basic of the end day to see the entries from latest to the oldest."
   ]
  },
  {
   "cell_type": "code",
   "execution_count": 16,
   "metadata": {
    "ExecuteTime": {
     "end_time": "2020-11-30T18:42:58.654106Z",
     "start_time": "2020-11-30T18:42:58.361010Z"
    }
   },
   "outputs": [
    {
     "data": {
      "text/html": [
       "<div>\n",
       "<style scoped>\n",
       "    .dataframe tbody tr th:only-of-type {\n",
       "        vertical-align: middle;\n",
       "    }\n",
       "\n",
       "    .dataframe tbody tr th {\n",
       "        vertical-align: top;\n",
       "    }\n",
       "\n",
       "    .dataframe thead th {\n",
       "        text-align: right;\n",
       "    }\n",
       "</style>\n",
       "<table border=\"1\" class=\"dataframe\">\n",
       "  <thead>\n",
       "    <tr style=\"text-align: right;\">\n",
       "      <th></th>\n",
       "      <th>End of Period</th>\n",
       "      <th>Credit Number</th>\n",
       "      <th>Region</th>\n",
       "      <th>Country Code</th>\n",
       "      <th>Country</th>\n",
       "      <th>Borrower</th>\n",
       "      <th>Credit Status</th>\n",
       "      <th>Service Charge Rate</th>\n",
       "      <th>Currency of Commitment</th>\n",
       "      <th>Project ID</th>\n",
       "      <th>...</th>\n",
       "      <th>Repaid 3rd Party</th>\n",
       "      <th>Due 3rd Party</th>\n",
       "      <th>Credits Held</th>\n",
       "      <th>First Repayment Date</th>\n",
       "      <th>Last Repayment Date</th>\n",
       "      <th>Agreement Signing Date</th>\n",
       "      <th>Board Approval Date</th>\n",
       "      <th>Effective Date (Most Recent)</th>\n",
       "      <th>Closed Date (Most Recent)</th>\n",
       "      <th>Last Disbursement Date</th>\n",
       "    </tr>\n",
       "  </thead>\n",
       "  <tbody>\n",
       "    <tr>\n",
       "      <th>899513</th>\n",
       "      <td>2020-10-31</td>\n",
       "      <td>IDAS0270</td>\n",
       "      <td>AFRICA EAST</td>\n",
       "      <td>TZ</td>\n",
       "      <td>Tanzania</td>\n",
       "      <td>Ministry of Finance and Planning</td>\n",
       "      <td>Fully Repaid</td>\n",
       "      <td>0.75</td>\n",
       "      <td>USD</td>\n",
       "      <td>P002729</td>\n",
       "      <td>...</td>\n",
       "      <td>0.0</td>\n",
       "      <td>0.0</td>\n",
       "      <td>0.00</td>\n",
       "      <td>1983-09-15</td>\n",
       "      <td>2030-03-15</td>\n",
       "      <td>1980-06-30</td>\n",
       "      <td>1980-06-12</td>\n",
       "      <td>1980-09-12</td>\n",
       "      <td>1982-09-30</td>\n",
       "      <td>NaT</td>\n",
       "    </tr>\n",
       "    <tr>\n",
       "      <th>878048</th>\n",
       "      <td>2020-10-31</td>\n",
       "      <td>IDAD1850</td>\n",
       "      <td>AFRICA EAST</td>\n",
       "      <td>ZR</td>\n",
       "      <td>Congo, Democratic Republic of</td>\n",
       "      <td>MINISTERE DES FINANCES</td>\n",
       "      <td>Disbursing</td>\n",
       "      <td>NaN</td>\n",
       "      <td>XDR</td>\n",
       "      <td>P122229</td>\n",
       "      <td>...</td>\n",
       "      <td>0.0</td>\n",
       "      <td>0.0</td>\n",
       "      <td>27879640.31</td>\n",
       "      <td>NaT</td>\n",
       "      <td>NaT</td>\n",
       "      <td>2017-06-13</td>\n",
       "      <td>2017-05-16</td>\n",
       "      <td>2017-08-25</td>\n",
       "      <td>2021-12-31</td>\n",
       "      <td>2020-11-02</td>\n",
       "    </tr>\n",
       "    <tr>\n",
       "      <th>878042</th>\n",
       "      <td>2020-10-31</td>\n",
       "      <td>IDAD1790</td>\n",
       "      <td>EUROPE AND CENTRAL ASIA</td>\n",
       "      <td>TJ</td>\n",
       "      <td>Tajikistan</td>\n",
       "      <td>MINISTRY OF FINANCE - Tajikistan</td>\n",
       "      <td>Disbursing</td>\n",
       "      <td>NaN</td>\n",
       "      <td>XDR</td>\n",
       "      <td>P150816</td>\n",
       "      <td>...</td>\n",
       "      <td>0.0</td>\n",
       "      <td>0.0</td>\n",
       "      <td>27255041.90</td>\n",
       "      <td>NaT</td>\n",
       "      <td>NaT</td>\n",
       "      <td>2017-06-02</td>\n",
       "      <td>2017-05-03</td>\n",
       "      <td>2018-04-27</td>\n",
       "      <td>2023-12-31</td>\n",
       "      <td>2020-10-19</td>\n",
       "    </tr>\n",
       "    <tr>\n",
       "      <th>878043</th>\n",
       "      <td>2020-10-31</td>\n",
       "      <td>IDAD1800</td>\n",
       "      <td>AFRICA WEST</td>\n",
       "      <td>CF</td>\n",
       "      <td>Central African Republic</td>\n",
       "      <td>Ministere de lï¿½Economie du Plan et de la</td>\n",
       "      <td>Disbursing</td>\n",
       "      <td>NaN</td>\n",
       "      <td>XDR</td>\n",
       "      <td>P160272</td>\n",
       "      <td>...</td>\n",
       "      <td>0.0</td>\n",
       "      <td>0.0</td>\n",
       "      <td>16113152.09</td>\n",
       "      <td>NaT</td>\n",
       "      <td>NaT</td>\n",
       "      <td>2017-06-22</td>\n",
       "      <td>2017-04-13</td>\n",
       "      <td>2017-12-21</td>\n",
       "      <td>2022-06-30</td>\n",
       "      <td>2020-10-30</td>\n",
       "    </tr>\n",
       "    <tr>\n",
       "      <th>878044</th>\n",
       "      <td>2020-10-31</td>\n",
       "      <td>IDAD1810</td>\n",
       "      <td>AFRICA EAST</td>\n",
       "      <td>BI</td>\n",
       "      <td>Burundi</td>\n",
       "      <td>Ministre des Finances du Budget et de la</td>\n",
       "      <td>Disbursing</td>\n",
       "      <td>NaN</td>\n",
       "      <td>XDR</td>\n",
       "      <td>P161781</td>\n",
       "      <td>...</td>\n",
       "      <td>0.0</td>\n",
       "      <td>0.0</td>\n",
       "      <td>53958731.41</td>\n",
       "      <td>NaT</td>\n",
       "      <td>NaT</td>\n",
       "      <td>2017-06-14</td>\n",
       "      <td>2017-05-05</td>\n",
       "      <td>2017-11-15</td>\n",
       "      <td>2022-11-30</td>\n",
       "      <td>2020-10-09</td>\n",
       "    </tr>\n",
       "  </tbody>\n",
       "</table>\n",
       "<p>5 rows × 30 columns</p>\n",
       "</div>"
      ],
      "text/plain": [
       "       End of Period Credit Number                   Region Country Code  \\\n",
       "899513    2020-10-31      IDAS0270              AFRICA EAST           TZ   \n",
       "878048    2020-10-31      IDAD1850              AFRICA EAST           ZR   \n",
       "878042    2020-10-31      IDAD1790  EUROPE AND CENTRAL ASIA           TJ   \n",
       "878043    2020-10-31      IDAD1800              AFRICA WEST           CF   \n",
       "878044    2020-10-31      IDAD1810              AFRICA EAST           BI   \n",
       "\n",
       "                              Country  \\\n",
       "899513                       Tanzania   \n",
       "878048  Congo, Democratic Republic of   \n",
       "878042                     Tajikistan   \n",
       "878043       Central African Republic   \n",
       "878044                        Burundi   \n",
       "\n",
       "                                          Borrower Credit Status  \\\n",
       "899513            Ministry of Finance and Planning  Fully Repaid   \n",
       "878048                      MINISTERE DES FINANCES    Disbursing   \n",
       "878042            MINISTRY OF FINANCE - Tajikistan    Disbursing   \n",
       "878043  Ministere de lï¿½Economie du Plan et de la    Disbursing   \n",
       "878044    Ministre des Finances du Budget et de la    Disbursing   \n",
       "\n",
       "        Service Charge Rate Currency of Commitment Project ID  ...  \\\n",
       "899513                 0.75                    USD    P002729  ...   \n",
       "878048                  NaN                    XDR    P122229  ...   \n",
       "878042                  NaN                    XDR    P150816  ...   \n",
       "878043                  NaN                    XDR    P160272  ...   \n",
       "878044                  NaN                    XDR    P161781  ...   \n",
       "\n",
       "       Repaid 3rd Party  Due 3rd Party  Credits Held  First Repayment Date  \\\n",
       "899513              0.0            0.0          0.00            1983-09-15   \n",
       "878048              0.0            0.0   27879640.31                   NaT   \n",
       "878042              0.0            0.0   27255041.90                   NaT   \n",
       "878043              0.0            0.0   16113152.09                   NaT   \n",
       "878044              0.0            0.0   53958731.41                   NaT   \n",
       "\n",
       "        Last Repayment Date  Agreement Signing Date  Board Approval Date  \\\n",
       "899513           2030-03-15              1980-06-30           1980-06-12   \n",
       "878048                  NaT              2017-06-13           2017-05-16   \n",
       "878042                  NaT              2017-06-02           2017-05-03   \n",
       "878043                  NaT              2017-06-22           2017-04-13   \n",
       "878044                  NaT              2017-06-14           2017-05-05   \n",
       "\n",
       "       Effective Date (Most Recent)  Closed Date (Most Recent)  \\\n",
       "899513                   1980-09-12                 1982-09-30   \n",
       "878048                   2017-08-25                 2021-12-31   \n",
       "878042                   2018-04-27                 2023-12-31   \n",
       "878043                   2017-12-21                 2022-06-30   \n",
       "878044                   2017-11-15                 2022-11-30   \n",
       "\n",
       "        Last Disbursement Date  \n",
       "899513                     NaT  \n",
       "878048              2020-11-02  \n",
       "878042              2020-10-19  \n",
       "878043              2020-10-30  \n",
       "878044              2020-10-09  \n",
       "\n",
       "[5 rows x 30 columns]"
      ]
     },
     "execution_count": 16,
     "metadata": {},
     "output_type": "execute_result"
    }
   ],
   "source": [
    "df = df.sort_values(\"End of Period\", ascending=False)\n",
    "df.head()"
   ]
  },
  {
   "cell_type": "markdown",
   "metadata": {},
   "source": [
    "#### drop unecessary columns\n",
    "Amongs the columns, we can drop \"Country name\" and keep the \"Country code\" for future reference and simplify the dataset."
   ]
  },
  {
   "cell_type": "code",
   "execution_count": null,
   "metadata": {
    "ExecuteTime": {
     "end_time": "2020-11-30T15:19:54.768979Z",
     "start_time": "2020-11-30T15:19:54.591621Z"
    }
   },
   "outputs": [],
   "source": [
    "df.drop(\"Last Disbursement Date\", inplace=True, axis=1)"
   ]
  },
  {
   "cell_type": "markdown",
   "metadata": {},
   "source": [
    "### Dealing with NaN value\n",
    "Amongs columns with NaN value, \"Last Disbursement Date\" is the one with the most amount of missing values. Therefore, it should be dropped."
   ]
  },
  {
   "cell_type": "code",
   "execution_count": 19,
   "metadata": {
    "ExecuteTime": {
     "end_time": "2020-11-30T20:05:35.248546Z",
     "start_time": "2020-11-30T20:05:35.187790Z"
    }
   },
   "outputs": [
    {
     "data": {
      "text/plain": [
       "Repaying               229802\n",
       "Fully Repaid           168201\n",
       "Disbursing             143954\n",
       "Disbursed              136188\n",
       "Fully Disbursed         95890\n",
       "Repaid                  74930\n",
       "Effective               13774\n",
       "Approved                10890\n",
       "Signed                   8661\n",
       "Fully Cancelled          6805\n",
       "Disbursing&Repaying      4814\n",
       "Cancelled                2866\n",
       "Terminated               2680\n",
       "Draft                      58\n",
       "Negotiated                  1\n",
       "Name: Credit Status, dtype: int64"
      ]
     },
     "execution_count": 19,
     "metadata": {},
     "output_type": "execute_result"
    }
   ],
   "source": [
    "df.drop(\"Country\", inplace=True, axis=1)"
   ]
  },
  {
   "cell_type": "code",
   "execution_count": 21,
   "metadata": {
    "ExecuteTime": {
     "end_time": "2020-11-30T20:17:59.318575Z",
     "start_time": "2020-11-30T20:17:57.831880Z"
    }
   },
   "outputs": [
    {
     "data": {
      "text/plain": [
       "19824"
      ]
     },
     "execution_count": 21,
     "metadata": {},
     "output_type": "execute_result"
    }
   ],
   "source": [
    "df.duplicated().sum()"
   ]
  }
 ],
 "metadata": {
  "kernelspec": {
   "display_name": "Python 3",
   "language": "python",
   "name": "python3"
  },
  "language_info": {
   "codemirror_mode": {
    "name": "ipython",
    "version": 3
   },
   "file_extension": ".py",
   "mimetype": "text/x-python",
   "name": "python",
   "nbconvert_exporter": "python",
   "pygments_lexer": "ipython3",
   "version": "3.8.3"
  },
  "toc": {
   "base_numbering": 1,
   "nav_menu": {},
   "number_sections": true,
   "sideBar": true,
   "skip_h1_title": false,
   "title_cell": "Table of Contents",
   "title_sidebar": "Contents",
   "toc_cell": false,
   "toc_position": {},
   "toc_section_display": true,
   "toc_window_display": false
  },
  "varInspector": {
   "cols": {
    "lenName": 16,
    "lenType": 16,
    "lenVar": 40
   },
   "kernels_config": {
    "python": {
     "delete_cmd_postfix": "",
     "delete_cmd_prefix": "del ",
     "library": "var_list.py",
     "varRefreshCmd": "print(var_dic_list())"
    },
    "r": {
     "delete_cmd_postfix": ") ",
     "delete_cmd_prefix": "rm(",
     "library": "var_list.r",
     "varRefreshCmd": "cat(var_dic_list()) "
    }
   },
   "types_to_exclude": [
    "module",
    "function",
    "builtin_function_or_method",
    "instance",
    "_Feature"
   ],
   "window_display": false
  }
 },
 "nbformat": 4,
 "nbformat_minor": 4
}
