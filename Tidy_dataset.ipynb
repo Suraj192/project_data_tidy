{
 "cells": [
  {
   "cell_type": "code",
   "execution_count": 1,
   "metadata": {
    "ExecuteTime": {
     "end_time": "2020-12-03T12:17:51.154435Z",
     "start_time": "2020-12-03T12:17:50.278194Z"
    }
   },
   "outputs": [],
   "source": [
    "import numpy as np\n",
    "import pandas as pd\n",
    "import requests\n",
    "from matplotlib import pyplot as plt\n",
    "import seaborn as sns\n",
    "import folium \n",
    "import geocoder\n",
    "import time\n",
    "%matplotlib inline"
   ]
  },
  {
   "cell_type": "markdown",
   "metadata": {},
   "source": [
    "# Loading the dataset"
   ]
  },
  {
   "cell_type": "code",
   "execution_count": 2,
   "metadata": {
    "ExecuteTime": {
     "end_time": "2020-12-03T12:17:53.515702Z",
     "start_time": "2020-12-03T12:17:51.155416Z"
    }
   },
   "outputs": [
    {
     "name": "stderr",
     "output_type": "stream",
     "text": [
      "/home/vu/miniconda3/lib/python3.8/site-packages/IPython/core/interactiveshell.py:3145: DtypeWarning: Columns (29) have mixed types.Specify dtype option on import or set low_memory=False.\n",
      "  has_raised = await self.run_ast_nodes(code_ast.body, cell_name,\n",
      "/home/vu/miniconda3/lib/python3.8/site-packages/IPython/core/interactiveshell.py:3145: DtypeWarning: Columns (17) have mixed types.Specify dtype option on import or set low_memory=False.\n",
      "  has_raised = await self.run_ast_nodes(code_ast.body, cell_name,\n"
     ]
    },
    {
     "data": {
      "text/html": [
       "<div>\n",
       "<style scoped>\n",
       "    .dataframe tbody tr th:only-of-type {\n",
       "        vertical-align: middle;\n",
       "    }\n",
       "\n",
       "    .dataframe tbody tr th {\n",
       "        vertical-align: top;\n",
       "    }\n",
       "\n",
       "    .dataframe thead th {\n",
       "        text-align: right;\n",
       "    }\n",
       "</style>\n",
       "<table border=\"1\" class=\"dataframe\">\n",
       "  <thead>\n",
       "    <tr style=\"text-align: right;\">\n",
       "      <th></th>\n",
       "      <th>End of Period</th>\n",
       "      <th>Credit Number</th>\n",
       "      <th>Region</th>\n",
       "      <th>Country Code</th>\n",
       "      <th>Country</th>\n",
       "      <th>Borrower</th>\n",
       "      <th>Credit Status</th>\n",
       "      <th>Service Charge Rate</th>\n",
       "      <th>Currency of Commitment</th>\n",
       "      <th>Project ID</th>\n",
       "      <th>...</th>\n",
       "      <th>Repaid 3rd Party</th>\n",
       "      <th>Due 3rd Party</th>\n",
       "      <th>Credits Held</th>\n",
       "      <th>First Repayment Date</th>\n",
       "      <th>Last Repayment Date</th>\n",
       "      <th>Agreement Signing Date</th>\n",
       "      <th>Board Approval Date</th>\n",
       "      <th>Effective Date (Most Recent)</th>\n",
       "      <th>Closed Date (Most Recent)</th>\n",
       "      <th>Last Disbursement Date</th>\n",
       "    </tr>\n",
       "  </thead>\n",
       "  <tbody>\n",
       "    <tr>\n",
       "      <th>0</th>\n",
       "      <td>4/30/2020 0:00</td>\n",
       "      <td>IDA07770</td>\n",
       "      <td>LATIN AMERICA AND CARIBBEAN</td>\n",
       "      <td>HN</td>\n",
       "      <td>Honduras</td>\n",
       "      <td>MINISTERIO DE HACIENDA Y CREDITO PUBLICO</td>\n",
       "      <td>Fully Repaid</td>\n",
       "      <td>0.75</td>\n",
       "      <td>USD</td>\n",
       "      <td>P007353</td>\n",
       "      <td>...</td>\n",
       "      <td>0.0</td>\n",
       "      <td>0</td>\n",
       "      <td>0.0</td>\n",
       "      <td>9/1/1988 0:00</td>\n",
       "      <td>3/1/2028 0:00</td>\n",
       "      <td>4/6/1978 0:00</td>\n",
       "      <td>3/14/1978 0:00</td>\n",
       "      <td>8/15/1978 0:00</td>\n",
       "      <td>12/31/1984 0:00</td>\n",
       "      <td>NaN</td>\n",
       "    </tr>\n",
       "    <tr>\n",
       "      <th>1</th>\n",
       "      <td>4/30/2020 0:00</td>\n",
       "      <td>IDA07780</td>\n",
       "      <td>SOUTH ASIA</td>\n",
       "      <td>AF</td>\n",
       "      <td>Afghanistan</td>\n",
       "      <td>STATE PLANNING COMM.</td>\n",
       "      <td>Fully Repaid</td>\n",
       "      <td>0.75</td>\n",
       "      <td>USD</td>\n",
       "      <td>P009314</td>\n",
       "      <td>...</td>\n",
       "      <td>0.0</td>\n",
       "      <td>0</td>\n",
       "      <td>0.0</td>\n",
       "      <td>6/15/1988 0:00</td>\n",
       "      <td>12/15/2027 0:00</td>\n",
       "      <td>4/10/1978 0:00</td>\n",
       "      <td>3/21/1978 0:00</td>\n",
       "      <td>9/19/1978 0:00</td>\n",
       "      <td>6/30/1983 0:00</td>\n",
       "      <td>NaN</td>\n",
       "    </tr>\n",
       "    <tr>\n",
       "      <th>2</th>\n",
       "      <td>4/30/2020 0:00</td>\n",
       "      <td>IDA07790</td>\n",
       "      <td>SOUTH ASIA</td>\n",
       "      <td>AF</td>\n",
       "      <td>Afghanistan</td>\n",
       "      <td>MINISTRY OF COMMERCE</td>\n",
       "      <td>Fully Repaid</td>\n",
       "      <td>0.75</td>\n",
       "      <td>USD</td>\n",
       "      <td>P009315</td>\n",
       "      <td>...</td>\n",
       "      <td>0.0</td>\n",
       "      <td>0</td>\n",
       "      <td>0.0</td>\n",
       "      <td>6/15/1988 0:00</td>\n",
       "      <td>12/15/2027 0:00</td>\n",
       "      <td>9/27/1978 0:00</td>\n",
       "      <td>3/21/1978 0:00</td>\n",
       "      <td>5/15/1979 0:00</td>\n",
       "      <td>6/30/1985 0:00</td>\n",
       "      <td>NaN</td>\n",
       "    </tr>\n",
       "    <tr>\n",
       "      <th>3</th>\n",
       "      <td>4/30/2020 0:00</td>\n",
       "      <td>IDA07800</td>\n",
       "      <td>MIDDLE EAST AND NORTH AFRICA</td>\n",
       "      <td>JO</td>\n",
       "      <td>Jordan</td>\n",
       "      <td>MINISTRY OF PLANNING &amp; INTNL COOPERATION</td>\n",
       "      <td>Repaying</td>\n",
       "      <td>0.75</td>\n",
       "      <td>USD</td>\n",
       "      <td>P005253</td>\n",
       "      <td>...</td>\n",
       "      <td>0.0</td>\n",
       "      <td>0</td>\n",
       "      <td>3360000.0</td>\n",
       "      <td>9/1/1988 0:00</td>\n",
       "      <td>3/1/2028 0:00</td>\n",
       "      <td>5/19/1978 0:00</td>\n",
       "      <td>3/23/1978 0:00</td>\n",
       "      <td>10/17/1978 0:00</td>\n",
       "      <td>6/30/1983 0:00</td>\n",
       "      <td>NaN</td>\n",
       "    </tr>\n",
       "    <tr>\n",
       "      <th>4</th>\n",
       "      <td>4/30/2020 0:00</td>\n",
       "      <td>IDA07810</td>\n",
       "      <td>AFRICA</td>\n",
       "      <td>SD</td>\n",
       "      <td>Sudan</td>\n",
       "      <td>Ministry of Finance and National Economy</td>\n",
       "      <td>Repaying</td>\n",
       "      <td>0.75</td>\n",
       "      <td>USD</td>\n",
       "      <td>P002575</td>\n",
       "      <td>...</td>\n",
       "      <td>0.0</td>\n",
       "      <td>0</td>\n",
       "      <td>20680000.0</td>\n",
       "      <td>9/15/1988 0:00</td>\n",
       "      <td>3/15/2028 0:00</td>\n",
       "      <td>6/9/1978 0:00</td>\n",
       "      <td>3/23/1978 0:00</td>\n",
       "      <td>2/2/1979 0:00</td>\n",
       "      <td>6/30/1983 0:00</td>\n",
       "      <td>NaN</td>\n",
       "    </tr>\n",
       "  </tbody>\n",
       "</table>\n",
       "<p>5 rows × 30 columns</p>\n",
       "</div>"
      ],
      "text/plain": [
       "    End of Period Credit Number                        Region Country Code  \\\n",
       "0  4/30/2020 0:00      IDA07770   LATIN AMERICA AND CARIBBEAN           HN   \n",
       "1  4/30/2020 0:00      IDA07780                    SOUTH ASIA           AF   \n",
       "2  4/30/2020 0:00      IDA07790                    SOUTH ASIA           AF   \n",
       "3  4/30/2020 0:00      IDA07800  MIDDLE EAST AND NORTH AFRICA           JO   \n",
       "4  4/30/2020 0:00      IDA07810                        AFRICA           SD   \n",
       "\n",
       "       Country                                  Borrower Credit Status  \\\n",
       "0     Honduras  MINISTERIO DE HACIENDA Y CREDITO PUBLICO  Fully Repaid   \n",
       "1  Afghanistan                      STATE PLANNING COMM.  Fully Repaid   \n",
       "2  Afghanistan                      MINISTRY OF COMMERCE  Fully Repaid   \n",
       "3       Jordan  MINISTRY OF PLANNING & INTNL COOPERATION      Repaying   \n",
       "4        Sudan  Ministry of Finance and National Economy      Repaying   \n",
       "\n",
       "   Service Charge Rate Currency of Commitment Project ID  ...  \\\n",
       "0                 0.75                    USD    P007353  ...   \n",
       "1                 0.75                    USD    P009314  ...   \n",
       "2                 0.75                    USD    P009315  ...   \n",
       "3                 0.75                    USD    P005253  ...   \n",
       "4                 0.75                    USD    P002575  ...   \n",
       "\n",
       "  Repaid 3rd Party  Due 3rd Party  Credits Held  First Repayment Date  \\\n",
       "0              0.0              0           0.0         9/1/1988 0:00   \n",
       "1              0.0              0           0.0        6/15/1988 0:00   \n",
       "2              0.0              0           0.0        6/15/1988 0:00   \n",
       "3              0.0              0     3360000.0         9/1/1988 0:00   \n",
       "4              0.0              0    20680000.0        9/15/1988 0:00   \n",
       "\n",
       "   Last Repayment Date  Agreement Signing Date  Board Approval Date  \\\n",
       "0        3/1/2028 0:00           4/6/1978 0:00       3/14/1978 0:00   \n",
       "1      12/15/2027 0:00          4/10/1978 0:00       3/21/1978 0:00   \n",
       "2      12/15/2027 0:00          9/27/1978 0:00       3/21/1978 0:00   \n",
       "3        3/1/2028 0:00          5/19/1978 0:00       3/23/1978 0:00   \n",
       "4       3/15/2028 0:00           6/9/1978 0:00       3/23/1978 0:00   \n",
       "\n",
       "   Effective Date (Most Recent)  Closed Date (Most Recent)  \\\n",
       "0                8/15/1978 0:00            12/31/1984 0:00   \n",
       "1                9/19/1978 0:00             6/30/1983 0:00   \n",
       "2                5/15/1979 0:00             6/30/1985 0:00   \n",
       "3               10/17/1978 0:00             6/30/1983 0:00   \n",
       "4                 2/2/1979 0:00             6/30/1983 0:00   \n",
       "\n",
       "   Last Disbursement Date  \n",
       "0                     NaN  \n",
       "1                     NaN  \n",
       "2                     NaN  \n",
       "3                     NaN  \n",
       "4                     NaN  \n",
       "\n",
       "[5 rows x 30 columns]"
      ]
     },
     "execution_count": 2,
     "metadata": {},
     "output_type": "execute_result"
    }
   ],
   "source": [
    "df1 = pd.read_csv(\"IDA_data1.csv\")\n",
    "df2 = pd.read_csv(\"IDA_data2.csv\")\n",
    "df3 = pd.read_csv(\"IDA_data3.csv\")\n",
    "df1.head()"
   ]
  },
  {
   "cell_type": "code",
   "execution_count": 3,
   "metadata": {
    "ExecuteTime": {
     "end_time": "2020-12-03T12:17:53.807492Z",
     "start_time": "2020-12-03T12:17:53.516736Z"
    }
   },
   "outputs": [],
   "source": [
    "df = pd.concat([df1,df2,df3], ignore_index=True)"
   ]
  },
  {
   "cell_type": "markdown",
   "metadata": {},
   "source": [
    "# Dataset description\n",
    "## Dataset content\n",
    "\n",
    "This dataset contains historical snapshots of the IDA Statement of Credits and Grants including the latest available snapshot. The World Bank complies with all sanctions applicable to World Bank transactions.\n",
    "## Dataset attribute \n",
    "- **End of Period:** End of Period Date represents the date as of which balances are shown in the report.\n",
    "- **Loan Number/Credit Number:** For IBRD loans and IDA credits or grants a loan number consists of the organization prefix (IBRD/IDA) and a five-character label that uniquely identifies the loan within the organization. In IDA, all grant labels start with the letter ‘H’.\n",
    "- **Region:** World Bank Region to which the country and loan belong. Country lending is grouped into regions based on the current World Bank administrative (rather than geographic) region where project implementation takes place. The “Other” Region is used for loans to the IFC.\n",
    "- **Country:** Country to which a loan has been issued. Loans to the IFC are included under the country “World”.\n",
    "- **Country Code:** Country Code according to the World Bank country list. This might be different from the ISO country code.\n",
    "- **Borrower:** The representative of the borrower to which the Bank loan is made. \n",
    "- **Loan Status/Credit Status:** Status of the loan.\n",
    "- **Interest Rate/Service Charge Rate:** Current Interest rate or service charge applied to loan. For loans that could have more than one interest rate (e.g. FSL or SCL fixed rate loans), the interest rate is shown as “0”.\n",
    "- **Currency of Commitment:** The currency in which a borrower’s loan, credit or grant is denominated.\n",
    "- **Project Name:** Short descriptive project name.\n",
    "- **Project ID:** A Bank project is referenced by a project ID (Pxxxxxxx). More than one loan, credit, or grant may be associated with one Project ID.\n",
    "- **Original Principal Amount:** The original US dollar amount of the loan that is committed and approved.\n",
    "- **Cancelled Amount:** The portion of the undisbursed balance which has been canceled (i.e. no longer available for future disbursement). Cancellations include terminations (where approved loan agreements were never signed).\n",
    "- **Undisbursed Amount:** The amount of a loan commitment that is still available to be drawn down. These currency amounts have been converted to US dollars at the exchange rates applicable at the end of period date.\n",
    "- **Disbursed Amount:** The amount that has been disbursed from a loan commitment in equivalent US dollars, calculated at the exchange rate on the value date of the individual disbursements.\n",
    "- **Repaid to IBRD:** Total principal amounts paid or prepaid to IBRD in US dollars, calculated at the exchange rate on the value date of the individual repayments.\n",
    "- **Repaid to IDA:** Total principal amounts paid or prepaid to IDA in US dollars, calculated at the exchange rate on the value date of the individual repayments. Repaid to IDA amounts include amounts written off under the Multilateral Debt Relief Initiative (MDRI).\n",
    "- **Due to IBRD:** Amount due and outstanding as of the End of Period date.\n",
    "- **Exchange Adjustment:** The increase (decrease) in value of disbursed and outstanding amount due to exchange rate fluctuations. This amount added to “Due to IBRD” yields “Borrower’s Obligation”; includes exchange adjustments on the amounts Due to 3rd parties.\n",
    "- **Borrower's Obligation:** The Borrower Obligation is the outstanding balance for the loan as of the end of period date in US dollars equivalent. The Borrower's Obligation includes the amounts outstanding Due to 3rd parties. \n",
    "- **Sold 3rd Party:** Portion of loan sold to a third party.\n",
    "- **Repaid 3rd Party:** Amount repaid to a third party.\n",
    "- **Due 3rd Party:** Amount due to a third party.\n",
    "- **Loans Held:** The sum of the disbursed and outstanding amounts (net of repayments, i.e. Due to IBRD/IDA) plus undisbursed available amounts.\n",
    "- **First Repayment Date:** The date on which principal repayment starts.\n",
    "- **Last Repayment Date:** The date specified in the loan/credit agreement (amended for any partial prepayments) on which the last principal installment must be repaid by the Borrower.\n",
    "- **Agreement Signing Date:** The date the borrower and the Bank sign the loan agreement.\n",
    "- **Board Approval Date:** The date the World Bank approves the loan.\n",
    "- **Effective Date:** The date on which a legal agreement becomes effective, or is expected to become effective.\n",
    "- **Close Date:** The date specified in the legal agreement (or extension) after which the Bank may, by notice to the borrower, terminate the right to make withdrawals from the loan account.\n",
    "- **Last Disbursement Date:** The date on which the last disbursement was made (prior to the end of period date)."
   ]
  },
  {
   "cell_type": "markdown",
   "metadata": {},
   "source": [
    "## Dataset info"
   ]
  },
  {
   "cell_type": "code",
   "execution_count": 4,
   "metadata": {
    "ExecuteTime": {
     "end_time": "2020-12-03T12:17:53.810312Z",
     "start_time": "2020-12-03T12:17:53.808624Z"
    }
   },
   "outputs": [
    {
     "name": "stdout",
     "output_type": "stream",
     "text": [
      "The dataset has 899514 rows and 30 columns\n"
     ]
    }
   ],
   "source": [
    "print(f\"The dataset has {df.shape[0]} rows and {df.shape[1]} columns\")"
   ]
  },
  {
   "cell_type": "code",
   "execution_count": 5,
   "metadata": {
    "ExecuteTime": {
     "end_time": "2020-12-03T12:17:54.732269Z",
     "start_time": "2020-12-03T12:17:53.811202Z"
    }
   },
   "outputs": [
    {
     "name": "stdout",
     "output_type": "stream",
     "text": [
      "<class 'pandas.core.frame.DataFrame'>\n",
      "RangeIndex: 899514 entries, 0 to 899513\n",
      "Data columns (total 30 columns):\n",
      " #   Column                        Non-Null Count   Dtype  \n",
      "---  ------                        --------------   -----  \n",
      " 0   End of Period                 899514 non-null  object \n",
      " 1   Credit Number                 899514 non-null  object \n",
      " 2   Region                        899514 non-null  object \n",
      " 3   Country Code                  899514 non-null  object \n",
      " 4   Country                       899514 non-null  object \n",
      " 5   Borrower                      899071 non-null  object \n",
      " 6   Credit Status                 899514 non-null  object \n",
      " 7   Service Charge Rate           837810 non-null  float64\n",
      " 8   Currency of Commitment        899514 non-null  object \n",
      " 9   Project ID                    899512 non-null  object \n",
      " 10  Project Name                  899469 non-null  object \n",
      " 11  Original Principal Amount     899514 non-null  float64\n",
      " 12  Cancelled Amount              899512 non-null  float64\n",
      " 13  Undisbursed Amount            899514 non-null  float64\n",
      " 14  Disbursed Amount              899512 non-null  float64\n",
      " 15  Repaid to IDA                 899512 non-null  float64\n",
      " 16  Due to IDA                    899512 non-null  float64\n",
      " 17  Exchange Adjustment           899514 non-null  object \n",
      " 18  Borrower's Obligation         899512 non-null  float64\n",
      " 19  Sold 3rd Party                899512 non-null  float64\n",
      " 20  Repaid 3rd Party              899512 non-null  float64\n",
      " 21  Due 3rd Party                 899512 non-null  float64\n",
      " 22  Credits Held                  899514 non-null  float64\n",
      " 23  First Repayment Date          767911 non-null  object \n",
      " 24  Last Repayment Date           767911 non-null  object \n",
      " 25  Agreement Signing Date        885410 non-null  object \n",
      " 26  Board Approval Date           899316 non-null  object \n",
      " 27  Effective Date (Most Recent)  890427 non-null  object \n",
      " 28  Closed Date (Most Recent)     899141 non-null  object \n",
      " 29  Last Disbursement Date        557319 non-null  object \n",
      "dtypes: float64(12), object(18)\n",
      "memory usage: 205.9+ MB\n"
     ]
    }
   ],
   "source": [
    "df.info()"
   ]
  },
  {
   "cell_type": "markdown",
   "metadata": {},
   "source": [
    "Among 30 columns in the dataset, there is some columns which missing data, which is:"
   ]
  },
  {
   "cell_type": "code",
   "execution_count": 6,
   "metadata": {
    "ExecuteTime": {
     "end_time": "2020-12-03T12:17:55.730301Z",
     "start_time": "2020-12-03T12:17:54.733217Z"
    }
   },
   "outputs": [
    {
     "data": {
      "text/plain": [
       "Last Disbursement Date          342195\n",
       "First Repayment Date            131603\n",
       "Last Repayment Date             131603\n",
       "Service Charge Rate              61704\n",
       "Agreement Signing Date           14104\n",
       "Effective Date (Most Recent)      9087\n",
       "Borrower                           443\n",
       "Closed Date (Most Recent)          373\n",
       "Board Approval Date                198\n",
       "Project Name                        45\n",
       "Due 3rd Party                        2\n",
       "Repaid 3rd Party                     2\n",
       "Borrower's Obligation                2\n",
       "Due to IDA                           2\n",
       "Repaid to IDA                        2\n",
       "Disbursed Amount                     2\n",
       "Cancelled Amount                     2\n",
       "Project ID                           2\n",
       "Sold 3rd Party                       2\n",
       "dtype: int64"
      ]
     },
     "execution_count": 6,
     "metadata": {},
     "output_type": "execute_result"
    }
   ],
   "source": [
    "df.isnull().sum()[df.isnull().sum()!=0].sort_values(ascending=False)"
   ]
  },
  {
   "cell_type": "markdown",
   "metadata": {},
   "source": [
    "## Dataset cleaning\n",
    "### Check & drop duplicated rows"
   ]
  },
  {
   "cell_type": "code",
   "execution_count": 7,
   "metadata": {
    "ExecuteTime": {
     "end_time": "2020-12-03T12:17:57.239484Z",
     "start_time": "2020-12-03T12:17:55.731101Z"
    }
   },
   "outputs": [
    {
     "name": "stdout",
     "output_type": "stream",
     "text": [
      "There are total 19824 duplicated rows\n"
     ]
    }
   ],
   "source": [
    "dup = df.duplicated().sum()\n",
    "print(f\"There are total {dup} duplicated rows\")"
   ]
  },
  {
   "cell_type": "code",
   "execution_count": 8,
   "metadata": {
    "ExecuteTime": {
     "end_time": "2020-12-03T12:17:58.752877Z",
     "start_time": "2020-12-03T12:17:57.240999Z"
    }
   },
   "outputs": [],
   "source": [
    "df.drop_duplicates(keep='first', inplace=True)"
   ]
  },
  {
   "cell_type": "markdown",
   "metadata": {},
   "source": [
    "### Re-formating & re-ordering\n",
    "#### Re-formating\n",
    "There are several columns that are not in their correct format of datetime. Therefore, we convert those columns into their right format first.\n",
    "- End of Period\n",
    "- First Repayment Date \n",
    "- Last Repayment Date           \n",
    "- Agreement Signing Date        \n",
    "- Board Approval Date           \n",
    "- Effective Date (Most Recent) \n",
    "- Closed Date (Most Recent)    \n",
    "- Last Disbursement Date  "
   ]
  },
  {
   "cell_type": "code",
   "execution_count": 9,
   "metadata": {
    "ExecuteTime": {
     "end_time": "2020-12-03T12:18:46.655260Z",
     "start_time": "2020-12-03T12:17:58.754052Z"
    }
   },
   "outputs": [],
   "source": [
    "df[[\"End of Period\", \"First Repayment Date\", \"Last Repayment Date\", \n",
    "    \"Agreement Signing Date\", \"Board Approval Date\", \"Effective Date (Most Recent)\", \n",
    "    \"Closed Date (Most Recent)\", \"Last Disbursement Date\"]] = df[[\"End of Period\", \"First Repayment Date\", \"Last Repayment Date\", \n",
    "    \"Agreement Signing Date\", \"Board Approval Date\", \"Effective Date (Most Recent)\", \n",
    "    \"Closed Date (Most Recent)\", \"Last Disbursement Date\"]].apply(pd.to_datetime)"
   ]
  },
  {
   "cell_type": "code",
   "execution_count": 10,
   "metadata": {
    "ExecuteTime": {
     "end_time": "2020-12-03T12:18:47.025672Z",
     "start_time": "2020-12-03T12:18:46.656098Z"
    }
   },
   "outputs": [
    {
     "name": "stdout",
     "output_type": "stream",
     "text": [
      "<class 'pandas.core.frame.DataFrame'>\n",
      "Int64Index: 879690 entries, 0 to 879689\n",
      "Data columns (total 30 columns):\n",
      " #   Column                        Non-Null Count   Dtype         \n",
      "---  ------                        --------------   -----         \n",
      " 0   End of Period                 879690 non-null  datetime64[ns]\n",
      " 1   Credit Number                 879690 non-null  object        \n",
      " 2   Region                        879690 non-null  object        \n",
      " 3   Country Code                  879690 non-null  object        \n",
      " 4   Country                       879690 non-null  object        \n",
      " 5   Borrower                      879248 non-null  object        \n",
      " 6   Credit Status                 879690 non-null  object        \n",
      " 7   Service Charge Rate           822904 non-null  float64       \n",
      " 8   Currency of Commitment        879690 non-null  object        \n",
      " 9   Project ID                    879688 non-null  object        \n",
      " 10  Project Name                  879647 non-null  object        \n",
      " 11  Original Principal Amount     879690 non-null  float64       \n",
      " 12  Cancelled Amount              879688 non-null  float64       \n",
      " 13  Undisbursed Amount            879690 non-null  float64       \n",
      " 14  Disbursed Amount              879688 non-null  float64       \n",
      " 15  Repaid to IDA                 879688 non-null  float64       \n",
      " 16  Due to IDA                    879688 non-null  float64       \n",
      " 17  Exchange Adjustment           879690 non-null  object        \n",
      " 18  Borrower's Obligation         879688 non-null  float64       \n",
      " 19  Sold 3rd Party                879688 non-null  float64       \n",
      " 20  Repaid 3rd Party              879688 non-null  float64       \n",
      " 21  Due 3rd Party                 879688 non-null  float64       \n",
      " 22  Credits Held                  879690 non-null  float64       \n",
      " 23  First Repayment Date          752845 non-null  datetime64[ns]\n",
      " 24  Last Repayment Date           752845 non-null  datetime64[ns]\n",
      " 25  Agreement Signing Date        865964 non-null  datetime64[ns]\n",
      " 26  Board Approval Date           879511 non-null  datetime64[ns]\n",
      " 27  Effective Date (Most Recent)  870887 non-null  datetime64[ns]\n",
      " 28  Closed Date (Most Recent)     879340 non-null  datetime64[ns]\n",
      " 29  Last Disbursement Date        541615 non-null  datetime64[ns]\n",
      "dtypes: datetime64[ns](8), float64(12), object(10)\n",
      "memory usage: 208.1+ MB\n"
     ]
    }
   ],
   "source": [
    "df.info()"
   ]
  },
  {
   "cell_type": "code",
   "execution_count": 11,
   "metadata": {
    "ExecuteTime": {
     "end_time": "2020-12-03T12:18:47.029797Z",
     "start_time": "2020-12-03T12:18:47.026607Z"
    }
   },
   "outputs": [
    {
     "data": {
      "text/plain": [
       "0        2020-04-30\n",
       "1        2020-04-30\n",
       "2        2020-04-30\n",
       "3        2020-04-30\n",
       "4        2020-04-30\n",
       "            ...    \n",
       "879685   2020-10-31\n",
       "879686   2020-10-31\n",
       "879687   2020-10-31\n",
       "879688   2020-10-31\n",
       "879689   2020-10-31\n",
       "Name: End of Period, Length: 879690, dtype: datetime64[ns]"
      ]
     },
     "execution_count": 11,
     "metadata": {},
     "output_type": "execute_result"
    }
   ],
   "source": [
    "df[\"End of Period\"]"
   ]
  },
  {
   "cell_type": "markdown",
   "metadata": {},
   "source": [
    "we can see that the Series starts with 30/04/2020 and ends with 31/10/2020 while the dataset includes all the investment/loan from 2011 to 2020. This indicates that the dataset is in a wrong order of date. We can re-sort the dataset on the basic of the end day to see the entries from latest to the oldest."
   ]
  },
  {
   "cell_type": "code",
   "execution_count": 12,
   "metadata": {
    "ExecuteTime": {
     "end_time": "2020-12-03T12:18:47.311525Z",
     "start_time": "2020-12-03T12:18:47.030858Z"
    }
   },
   "outputs": [
    {
     "data": {
      "text/html": [
       "<div>\n",
       "<style scoped>\n",
       "    .dataframe tbody tr th:only-of-type {\n",
       "        vertical-align: middle;\n",
       "    }\n",
       "\n",
       "    .dataframe tbody tr th {\n",
       "        vertical-align: top;\n",
       "    }\n",
       "\n",
       "    .dataframe thead th {\n",
       "        text-align: right;\n",
       "    }\n",
       "</style>\n",
       "<table border=\"1\" class=\"dataframe\">\n",
       "  <thead>\n",
       "    <tr style=\"text-align: right;\">\n",
       "      <th></th>\n",
       "      <th>End of Period</th>\n",
       "      <th>Credit Number</th>\n",
       "      <th>Region</th>\n",
       "      <th>Country Code</th>\n",
       "      <th>Country</th>\n",
       "      <th>Borrower</th>\n",
       "      <th>Credit Status</th>\n",
       "      <th>Service Charge Rate</th>\n",
       "      <th>Currency of Commitment</th>\n",
       "      <th>Project ID</th>\n",
       "      <th>...</th>\n",
       "      <th>Repaid 3rd Party</th>\n",
       "      <th>Due 3rd Party</th>\n",
       "      <th>Credits Held</th>\n",
       "      <th>First Repayment Date</th>\n",
       "      <th>Last Repayment Date</th>\n",
       "      <th>Agreement Signing Date</th>\n",
       "      <th>Board Approval Date</th>\n",
       "      <th>Effective Date (Most Recent)</th>\n",
       "      <th>Closed Date (Most Recent)</th>\n",
       "      <th>Last Disbursement Date</th>\n",
       "    </tr>\n",
       "  </thead>\n",
       "  <tbody>\n",
       "    <tr>\n",
       "      <th>879689</th>\n",
       "      <td>2020-10-31</td>\n",
       "      <td>IDAS0270</td>\n",
       "      <td>AFRICA EAST</td>\n",
       "      <td>TZ</td>\n",
       "      <td>Tanzania</td>\n",
       "      <td>Ministry of Finance and Planning</td>\n",
       "      <td>Fully Repaid</td>\n",
       "      <td>0.75</td>\n",
       "      <td>USD</td>\n",
       "      <td>P002729</td>\n",
       "      <td>...</td>\n",
       "      <td>0.0</td>\n",
       "      <td>0.0</td>\n",
       "      <td>0.00</td>\n",
       "      <td>1983-09-15</td>\n",
       "      <td>2030-03-15</td>\n",
       "      <td>1980-06-30</td>\n",
       "      <td>1980-06-12</td>\n",
       "      <td>1980-09-12</td>\n",
       "      <td>1982-09-30</td>\n",
       "      <td>NaT</td>\n",
       "    </tr>\n",
       "    <tr>\n",
       "      <th>873548</th>\n",
       "      <td>2020-10-31</td>\n",
       "      <td>IDA28310</td>\n",
       "      <td>EAST ASIA AND PACIFIC</td>\n",
       "      <td>CN</td>\n",
       "      <td>China</td>\n",
       "      <td>MINISTRY OF FINANCE</td>\n",
       "      <td>Repaying</td>\n",
       "      <td>0.75</td>\n",
       "      <td>XDR</td>\n",
       "      <td>P036950</td>\n",
       "      <td>...</td>\n",
       "      <td>0.0</td>\n",
       "      <td>0.0</td>\n",
       "      <td>16593004.17</td>\n",
       "      <td>2006-08-15</td>\n",
       "      <td>2031-02-15</td>\n",
       "      <td>1996-04-17</td>\n",
       "      <td>1996-03-21</td>\n",
       "      <td>1996-07-16</td>\n",
       "      <td>2001-12-31</td>\n",
       "      <td>2002-05-03</td>\n",
       "    </tr>\n",
       "    <tr>\n",
       "      <th>873554</th>\n",
       "      <td>2020-10-31</td>\n",
       "      <td>IDA2836A</td>\n",
       "      <td>AFRICA WEST</td>\n",
       "      <td>GH</td>\n",
       "      <td>Ghana</td>\n",
       "      <td>MINISTRY FOR FINANCE</td>\n",
       "      <td>Fully Repaid</td>\n",
       "      <td>0.75</td>\n",
       "      <td>XDR</td>\n",
       "      <td>P000973</td>\n",
       "      <td>...</td>\n",
       "      <td>0.0</td>\n",
       "      <td>0.0</td>\n",
       "      <td>0.00</td>\n",
       "      <td>2006-07-01</td>\n",
       "      <td>2036-01-01</td>\n",
       "      <td>1996-05-20</td>\n",
       "      <td>1996-03-26</td>\n",
       "      <td>1996-09-03</td>\n",
       "      <td>2003-12-31</td>\n",
       "      <td>NaT</td>\n",
       "    </tr>\n",
       "    <tr>\n",
       "      <th>873553</th>\n",
       "      <td>2020-10-31</td>\n",
       "      <td>IDA28360</td>\n",
       "      <td>AFRICA WEST</td>\n",
       "      <td>GH</td>\n",
       "      <td>Ghana</td>\n",
       "      <td>MINISTRY FOR FINANCE</td>\n",
       "      <td>Repaying</td>\n",
       "      <td>0.75</td>\n",
       "      <td>XDR</td>\n",
       "      <td>P000973</td>\n",
       "      <td>...</td>\n",
       "      <td>0.0</td>\n",
       "      <td>0.0</td>\n",
       "      <td>785575.51</td>\n",
       "      <td>2006-07-01</td>\n",
       "      <td>2036-01-01</td>\n",
       "      <td>1996-05-20</td>\n",
       "      <td>1996-03-26</td>\n",
       "      <td>1996-09-03</td>\n",
       "      <td>2003-12-31</td>\n",
       "      <td>2004-05-28</td>\n",
       "    </tr>\n",
       "    <tr>\n",
       "      <th>873552</th>\n",
       "      <td>2020-10-31</td>\n",
       "      <td>IDA28350</td>\n",
       "      <td>AFRICA WEST</td>\n",
       "      <td>MR</td>\n",
       "      <td>Mauritania</td>\n",
       "      <td>Ministry of Economy and Finance</td>\n",
       "      <td>Fully Repaid</td>\n",
       "      <td>0.75</td>\n",
       "      <td>XDR</td>\n",
       "      <td>P034106</td>\n",
       "      <td>...</td>\n",
       "      <td>0.0</td>\n",
       "      <td>0.0</td>\n",
       "      <td>0.00</td>\n",
       "      <td>2006-05-01</td>\n",
       "      <td>2035-11-01</td>\n",
       "      <td>1996-04-16</td>\n",
       "      <td>1996-03-26</td>\n",
       "      <td>1996-08-16</td>\n",
       "      <td>2001-12-31</td>\n",
       "      <td>2002-12-13</td>\n",
       "    </tr>\n",
       "  </tbody>\n",
       "</table>\n",
       "<p>5 rows × 30 columns</p>\n",
       "</div>"
      ],
      "text/plain": [
       "       End of Period Credit Number                 Region Country Code  \\\n",
       "879689    2020-10-31      IDAS0270            AFRICA EAST           TZ   \n",
       "873548    2020-10-31      IDA28310  EAST ASIA AND PACIFIC           CN   \n",
       "873554    2020-10-31      IDA2836A            AFRICA WEST           GH   \n",
       "873553    2020-10-31      IDA28360            AFRICA WEST           GH   \n",
       "873552    2020-10-31      IDA28350            AFRICA WEST           MR   \n",
       "\n",
       "           Country                          Borrower Credit Status  \\\n",
       "879689    Tanzania  Ministry of Finance and Planning  Fully Repaid   \n",
       "873548       China               MINISTRY OF FINANCE      Repaying   \n",
       "873554       Ghana              MINISTRY FOR FINANCE  Fully Repaid   \n",
       "873553       Ghana              MINISTRY FOR FINANCE      Repaying   \n",
       "873552  Mauritania   Ministry of Economy and Finance  Fully Repaid   \n",
       "\n",
       "        Service Charge Rate Currency of Commitment Project ID  ...  \\\n",
       "879689                 0.75                    USD    P002729  ...   \n",
       "873548                 0.75                    XDR    P036950  ...   \n",
       "873554                 0.75                    XDR    P000973  ...   \n",
       "873553                 0.75                    XDR    P000973  ...   \n",
       "873552                 0.75                    XDR    P034106  ...   \n",
       "\n",
       "       Repaid 3rd Party  Due 3rd Party  Credits Held  First Repayment Date  \\\n",
       "879689              0.0            0.0          0.00            1983-09-15   \n",
       "873548              0.0            0.0   16593004.17            2006-08-15   \n",
       "873554              0.0            0.0          0.00            2006-07-01   \n",
       "873553              0.0            0.0     785575.51            2006-07-01   \n",
       "873552              0.0            0.0          0.00            2006-05-01   \n",
       "\n",
       "        Last Repayment Date  Agreement Signing Date  Board Approval Date  \\\n",
       "879689           2030-03-15              1980-06-30           1980-06-12   \n",
       "873548           2031-02-15              1996-04-17           1996-03-21   \n",
       "873554           2036-01-01              1996-05-20           1996-03-26   \n",
       "873553           2036-01-01              1996-05-20           1996-03-26   \n",
       "873552           2035-11-01              1996-04-16           1996-03-26   \n",
       "\n",
       "       Effective Date (Most Recent)  Closed Date (Most Recent)  \\\n",
       "879689                   1980-09-12                 1982-09-30   \n",
       "873548                   1996-07-16                 2001-12-31   \n",
       "873554                   1996-09-03                 2003-12-31   \n",
       "873553                   1996-09-03                 2003-12-31   \n",
       "873552                   1996-08-16                 2001-12-31   \n",
       "\n",
       "        Last Disbursement Date  \n",
       "879689                     NaT  \n",
       "873548              2002-05-03  \n",
       "873554                     NaT  \n",
       "873553              2004-05-28  \n",
       "873552              2002-12-13  \n",
       "\n",
       "[5 rows x 30 columns]"
      ]
     },
     "execution_count": 12,
     "metadata": {},
     "output_type": "execute_result"
    }
   ],
   "source": [
    "df = df.sort_values(\"End of Period\", ascending=False)\n",
    "df.head()"
   ]
  },
  {
   "cell_type": "markdown",
   "metadata": {},
   "source": [
    "#### drop unnecessary columns\n",
    "Among the columns, we can drop \"Country name\" and keep the \"Country code\" for future reference and simplify the dataset."
   ]
  },
  {
   "cell_type": "code",
   "execution_count": 13,
   "metadata": {
    "ExecuteTime": {
     "end_time": "2020-12-03T12:18:47.469529Z",
     "start_time": "2020-12-03T12:18:47.312341Z"
    }
   },
   "outputs": [],
   "source": [
    "df.drop(\"Country\", inplace=True, axis=1)"
   ]
  },
  {
   "cell_type": "markdown",
   "metadata": {},
   "source": [
    "For three columns: \"Sold 3rd Party\", \"Repaid 3rd Party\", and \"Due 3rd Party\". Most of the value in these columns are 0.0."
   ]
  },
  {
   "cell_type": "code",
   "execution_count": 14,
   "metadata": {
    "ExecuteTime": {
     "end_time": "2020-12-03T12:18:47.476429Z",
     "start_time": "2020-12-03T12:18:47.470282Z"
    }
   },
   "outputs": [
    {
     "data": {
      "text/plain": [
       "0.00           877388\n",
       "6000000.00        230\n",
       "5000000.00        115\n",
       "4375000.00        115\n",
       "4744773.41        115\n",
       "2193391.07        115\n",
       "2819734.91        115\n",
       "3153859.47        115\n",
       "5492620.63        115\n",
       "17500000.00       115\n",
       "8268037.68        115\n",
       "2198892.69        115\n",
       "7224416.98        115\n",
       "6200000.00        115\n",
       "4059467.38        115\n",
       "6861742.00        115\n",
       "721709.87         115\n",
       "1854376.07        115\n",
       "5998430.44        115\n",
       "5350000.00        115\n",
       "Name: Sold 3rd Party, dtype: int64"
      ]
     },
     "execution_count": 14,
     "metadata": {},
     "output_type": "execute_result"
    }
   ],
   "source": [
    "df[\"Sold 3rd Party\"].value_counts()"
   ]
  },
  {
   "cell_type": "code",
   "execution_count": 15,
   "metadata": {
    "ExecuteTime": {
     "end_time": "2020-12-03T12:18:47.483487Z",
     "start_time": "2020-12-03T12:18:47.477206Z"
    }
   },
   "outputs": [
    {
     "data": {
      "text/plain": [
       "0.00           877388\n",
       "6000000.00        230\n",
       "5000000.00        115\n",
       "4375000.00        115\n",
       "4744773.41        115\n",
       "2193391.07        115\n",
       "2819734.91        115\n",
       "3153859.47        115\n",
       "5492620.63        115\n",
       "17500000.00       115\n",
       "8268037.68        115\n",
       "2198892.69        115\n",
       "7224416.98        115\n",
       "6200000.00        115\n",
       "4059467.38        115\n",
       "6861742.00        115\n",
       "721709.87         115\n",
       "1854376.07        115\n",
       "5998430.44        115\n",
       "5350000.00        115\n",
       "Name: Repaid 3rd Party, dtype: int64"
      ]
     },
     "execution_count": 15,
     "metadata": {},
     "output_type": "execute_result"
    }
   ],
   "source": [
    "df[\"Repaid 3rd Party\"].value_counts()"
   ]
  },
  {
   "cell_type": "code",
   "execution_count": 16,
   "metadata": {
    "ExecuteTime": {
     "end_time": "2020-12-03T12:18:47.490179Z",
     "start_time": "2020-12-03T12:18:47.484340Z"
    }
   },
   "outputs": [
    {
     "data": {
      "text/plain": [
       "0.0    879688\n",
       "Name: Due 3rd Party, dtype: int64"
      ]
     },
     "execution_count": 16,
     "metadata": {},
     "output_type": "execute_result"
    }
   ],
   "source": [
    "df[\"Due 3rd Party\"].value_counts()"
   ]
  },
  {
   "cell_type": "markdown",
   "metadata": {},
   "source": [
    "Therefore, these columns will be dropped since it is contribute nothing to the finding with those value."
   ]
  },
  {
   "cell_type": "code",
   "execution_count": 17,
   "metadata": {
    "ExecuteTime": {
     "end_time": "2020-12-03T12:18:47.665359Z",
     "start_time": "2020-12-03T12:18:47.490910Z"
    }
   },
   "outputs": [],
   "source": [
    "df.drop([\"Sold 3rd Party\", \"Repaid 3rd Party\", \"Due 3rd Party\"], axis=1, inplace=True)"
   ]
  },
  {
   "cell_type": "markdown",
   "metadata": {},
   "source": [
    "Columns \"Borrower's Obligation\", and \"Due to IDA\" have the same value for all the rows, therefore, one can be dropped."
   ]
  },
  {
   "cell_type": "code",
   "execution_count": 18,
   "metadata": {
    "ExecuteTime": {
     "end_time": "2020-12-03T12:18:47.865013Z",
     "start_time": "2020-12-03T12:18:47.666245Z"
    }
   },
   "outputs": [
    {
     "data": {
      "text/plain": [
       "(879688, 26)"
      ]
     },
     "execution_count": 18,
     "metadata": {},
     "output_type": "execute_result"
    }
   ],
   "source": [
    "df[df[\"Borrower's Obligation\"]==df[\"Due to IDA\"]].shape"
   ]
  },
  {
   "cell_type": "code",
   "execution_count": 19,
   "metadata": {
    "ExecuteTime": {
     "end_time": "2020-12-03T12:18:48.031163Z",
     "start_time": "2020-12-03T12:18:47.865993Z"
    }
   },
   "outputs": [],
   "source": [
    "df.drop(\"Due to IDA\", axis=1, inplace=True)"
   ]
  },
  {
   "cell_type": "markdown",
   "metadata": {},
   "source": [
    "There are also columns that will not support the later analyzing such as: Credit Number, Project Name, Project ID. Therefore, these columns will also be dropped."
   ]
  },
  {
   "cell_type": "code",
   "execution_count": 20,
   "metadata": {
    "ExecuteTime": {
     "end_time": "2020-12-03T12:18:48.151677Z",
     "start_time": "2020-12-03T12:18:48.032024Z"
    }
   },
   "outputs": [],
   "source": [
    "df.drop([\"Credit Number\", \"Project Name\", \"Project ID\"], axis=1, inplace=True)"
   ]
  },
  {
   "cell_type": "code",
   "execution_count": 21,
   "metadata": {
    "ExecuteTime": {
     "end_time": "2020-12-03T12:18:48.209122Z",
     "start_time": "2020-12-03T12:18:48.152500Z"
    }
   },
   "outputs": [
    {
     "data": {
      "text/plain": [
       "XDR    735205\n",
       "USD    137942\n",
       "EUR      6425\n",
       "XAF       107\n",
       "JPY        11\n",
       "Name: Currency of Commitment, dtype: int64"
      ]
     },
     "execution_count": 21,
     "metadata": {},
     "output_type": "execute_result"
    }
   ],
   "source": [
    "df[\"Currency of Commitment\"].value_counts()"
   ]
  },
  {
   "cell_type": "code",
   "execution_count": 22,
   "metadata": {
    "ExecuteTime": {
     "end_time": "2020-12-03T12:18:48.295463Z",
     "start_time": "2020-12-03T12:18:48.209884Z"
    }
   },
   "outputs": [
    {
     "data": {
      "text/plain": [
       "XDR    83.575464\n",
       "USD    15.680751\n",
       "EUR     0.730371\n",
       "XAF     0.012163\n",
       "JPY     0.001250\n",
       "Name: Currency of Commitment, dtype: float64"
      ]
     },
     "execution_count": 22,
     "metadata": {},
     "output_type": "execute_result"
    }
   ],
   "source": [
    "df[\"Currency of Commitment\"].value_counts()*100/df[\"Currency of Commitment\"].count()"
   ]
  },
  {
   "cell_type": "markdown",
   "metadata": {},
   "source": [
    "For Currency of Commitment columns, it includes 5 values: XDR, USD, EUR, XAF, and JPY. Most of the loan are recorded and committed in XDR, which is over 80%, therefore, we decide to drop this column."
   ]
  },
  {
   "cell_type": "code",
   "execution_count": 23,
   "metadata": {
    "ExecuteTime": {
     "end_time": "2020-12-03T12:18:48.419679Z",
     "start_time": "2020-12-03T12:18:48.298170Z"
    }
   },
   "outputs": [],
   "source": [
    "df.drop(\"Currency of Commitment\", axis=1, inplace=True)"
   ]
  },
  {
   "cell_type": "markdown",
   "metadata": {},
   "source": [
    "### Dealing with NaN value"
   ]
  },
  {
   "cell_type": "code",
   "execution_count": 24,
   "metadata": {
    "ExecuteTime": {
     "end_time": "2020-12-03T12:18:57.453653Z",
     "start_time": "2020-12-03T12:18:48.421362Z"
    }
   },
   "outputs": [
    {
     "data": {
      "text/plain": [
       "<AxesSubplot:>"
      ]
     },
     "execution_count": 24,
     "metadata": {},
     "output_type": "execute_result"
    },
    {
     "data": {
      "image/png": "[encoded data removed]",
      "text/plain": [
       "<Figure size 432x288 with 1 Axes>"
      ]
     },
     "metadata": {
      "needs_background": "light"
     },
     "output_type": "display_data"
    }
   ],
   "source": [
    "sns.heatmap(df.isnull(), cbar=False, yticklabels=[])"
   ]
  },
  {
   "cell_type": "markdown",
   "metadata": {},
   "source": [
    "Among columns with NaN value, \"Last Disbursement Date\" is the one with the most amount of missing values. It could be dropped without affecting the information of dataset since this cleaning will focus on extracting information for country, region categories."
   ]
  },
  {
   "cell_type": "code",
   "execution_count": 25,
   "metadata": {
    "ExecuteTime": {
     "end_time": "2020-12-03T12:18:57.557553Z",
     "start_time": "2020-12-03T12:18:57.454809Z"
    }
   },
   "outputs": [],
   "source": [
    "df.drop(\"Last Disbursement Date\", inplace=True, axis=1)"
   ]
  },
  {
   "cell_type": "code",
   "execution_count": 26,
   "metadata": {
    "ExecuteTime": {
     "end_time": "2020-12-03T12:18:57.859599Z",
     "start_time": "2020-12-03T12:18:57.558483Z"
    }
   },
   "outputs": [
    {
     "data": {
      "text/plain": [
       "Last Repayment Date             126845\n",
       "First Repayment Date            126845\n",
       "Service Charge Rate              56786\n",
       "Agreement Signing Date           13726\n",
       "Effective Date (Most Recent)      8803\n",
       "Borrower                           442\n",
       "Closed Date (Most Recent)          350\n",
       "Board Approval Date                179\n",
       "Borrower's Obligation                2\n",
       "Repaid to IDA                        2\n",
       "Disbursed Amount                     2\n",
       "Cancelled Amount                     2\n",
       "dtype: int64"
      ]
     },
     "execution_count": 26,
     "metadata": {},
     "output_type": "execute_result"
    }
   ],
   "source": [
    "df.isnull().sum()[df.isnull().sum()!=0].sort_values(ascending=False)"
   ]
  },
  {
   "cell_type": "markdown",
   "metadata": {},
   "source": [
    "The remaining amount of missing value is still high for the date information, these columns will be removed rather than removing the rows with missing value which can reduce the information of dataset significantly. We will also drop \"Borrower\" column since the analyzing will focus on country and region, so we don't really need that information."
   ]
  },
  {
   "cell_type": "code",
   "execution_count": 27,
   "metadata": {
    "ExecuteTime": {
     "end_time": "2020-12-03T12:18:57.939929Z",
     "start_time": "2020-12-03T12:18:57.860493Z"
    }
   },
   "outputs": [],
   "source": [
    "df.drop([\"Last Repayment Date\", \"First Repayment Date\", \"Agreement Signing Date\", \"Effective Date (Most Recent)\",\n",
    "        \"Closed Date (Most Recent)\", \"Board Approval Date\", \"Borrower\"], axis=1, inplace=True)"
   ]
  },
  {
   "cell_type": "code",
   "execution_count": 28,
   "metadata": {
    "ExecuteTime": {
     "end_time": "2020-12-03T12:18:57.943578Z",
     "start_time": "2020-12-03T12:18:57.940812Z"
    }
   },
   "outputs": [
    {
     "data": {
      "text/plain": [
       "(879690, 13)"
      ]
     },
     "execution_count": 28,
     "metadata": {},
     "output_type": "execute_result"
    }
   ],
   "source": [
    "df.shape"
   ]
  },
  {
   "cell_type": "markdown",
   "metadata": {},
   "source": [
    "The dataset now contains 879,690 entries with 21 attributes."
   ]
  },
  {
   "cell_type": "code",
   "execution_count": 29,
   "metadata": {
    "ExecuteTime": {
     "end_time": "2020-12-03T12:18:58.178038Z",
     "start_time": "2020-12-03T12:18:57.944730Z"
    }
   },
   "outputs": [
    {
     "data": {
      "text/plain": [
       "Service Charge Rate      56786\n",
       "Borrower's Obligation        2\n",
       "Repaid to IDA                2\n",
       "Disbursed Amount             2\n",
       "Cancelled Amount             2\n",
       "dtype: int64"
      ]
     },
     "execution_count": 29,
     "metadata": {},
     "output_type": "execute_result"
    }
   ],
   "source": [
    "df.isnull().sum()[df.isnull().sum()!=0].sort_values(ascending=False)"
   ]
  },
  {
   "cell_type": "markdown",
   "metadata": {},
   "source": [
    "The major of missing values now is in \"Interest Rate/ Service Charge Rate\" column. Let's examine the value before deciding to drop or not."
   ]
  },
  {
   "cell_type": "code",
   "execution_count": 30,
   "metadata": {
    "ExecuteTime": {
     "end_time": "2020-12-03T12:18:58.186985Z",
     "start_time": "2020-12-03T12:18:58.178907Z"
    }
   },
   "outputs": [
    {
     "data": {
      "text/plain": [
       "0.75    700840\n",
       "0.00     81552\n",
       "2.00     21585\n",
       "2.45      2867\n",
       "2.72      2141\n",
       "         ...  \n",
       "1.66         1\n",
       "2.21         1\n",
       "2.66         1\n",
       "2.48         1\n",
       "1.91         1\n",
       "Name: Service Charge Rate, Length: 177, dtype: int64"
      ]
     },
     "execution_count": 30,
     "metadata": {},
     "output_type": "execute_result"
    }
   ],
   "source": [
    "df[\"Service Charge Rate\"].value_counts()"
   ]
  },
  {
   "cell_type": "markdown",
   "metadata": {},
   "source": [
    "We can see that the most common value is 0.75, 0.00, and 2.0. Therefore, we decide to categorized them into 5 groups to evaluate.\n",
    "- Group 0: interest rate is 0.00\n",
    "- Group 1: interest rate is 0.75\n",
    "- Group 2: interest rate is 2.00\n",
    "- Group 3: interest rate is missing\n",
    "- Group 4: interest rate is other"
   ]
  },
  {
   "cell_type": "code",
   "execution_count": 31,
   "metadata": {
    "ExecuteTime": {
     "end_time": "2020-12-03T12:18:58.195679Z",
     "start_time": "2020-12-03T12:18:58.187875Z"
    }
   },
   "outputs": [],
   "source": [
    "# Copy region and service charge rate to other dataset for separating evaluation.\n",
    "temp = df[[\"Service Charge Rate\", \"Region\"]].copy()"
   ]
  },
  {
   "cell_type": "code",
   "execution_count": 32,
   "metadata": {
    "ExecuteTime": {
     "end_time": "2020-12-03T12:18:58.199717Z",
     "start_time": "2020-12-03T12:18:58.196795Z"
    }
   },
   "outputs": [],
   "source": [
    "# Change NaN value into their group value, 3.\n",
    "temp.loc[:,\"Service Charge Rate\"].fillna(3, inplace = True)"
   ]
  },
  {
   "cell_type": "code",
   "execution_count": 33,
   "metadata": {
    "ExecuteTime": {
     "end_time": "2020-12-03T12:18:58.211362Z",
     "start_time": "2020-12-03T12:18:58.200649Z"
    }
   },
   "outputs": [],
   "source": [
    "# Change the value to their group - 0.0 will be group 0, 0.75 will be group 1, and 2.0 will be group 2\n",
    "temp.loc[:, \"Service Charge Rate\"].replace({0.0:0, 0.75:1, 2.0:2}, inplace=True)"
   ]
  },
  {
   "cell_type": "code",
   "execution_count": 34,
   "metadata": {
    "ExecuteTime": {
     "end_time": "2020-12-03T12:18:58.397138Z",
     "start_time": "2020-12-03T12:18:58.212306Z"
    }
   },
   "outputs": [],
   "source": [
    "# Assign other value to their group 4 - other.\n",
    "temp.loc[:,\"Service Charge Rate\"] = temp.loc[:, \"Service Charge Rate\"].apply(lambda x: 4 if x!=0 and x!=1 and x!=2 and x!= 3 else x)"
   ]
  },
  {
   "cell_type": "code",
   "execution_count": 35,
   "metadata": {
    "ExecuteTime": {
     "end_time": "2020-12-03T12:18:58.524188Z",
     "start_time": "2020-12-03T12:18:58.398031Z"
    }
   },
   "outputs": [],
   "source": [
    "# Get the percentage of each group based on region.\n",
    "a = temp.groupby([\"Region\"])[\"Service Charge Rate\"].value_counts()\n",
    "b = temp.groupby([\"Region\"])[\"Service Charge Rate\"].count()\n",
    "c = (a*100/b).unstack()\n",
    "# Region that doesn't have all group, those missing value will be 0, indicates 0%.\n",
    "c.fillna(0, inplace=True)"
   ]
  },
  {
   "cell_type": "code",
   "execution_count": 36,
   "metadata": {
    "ExecuteTime": {
     "end_time": "2020-12-03T12:18:58.528211Z",
     "start_time": "2020-12-03T12:18:58.525184Z"
    }
   },
   "outputs": [],
   "source": [
    "# Get list of region to be set as xtick.\n",
    "group = c.index.to_list()\n",
    "# Create a list that contain all the percent for each group.\n",
    "# group 0  will be a list at bar[0]\n",
    "bar = []\n",
    "for i in c.columns:\n",
    "    bar.append(c[i].to_list())"
   ]
  },
  {
   "cell_type": "code",
   "execution_count": 37,
   "metadata": {
    "ExecuteTime": {
     "end_time": "2020-12-03T12:18:58.763552Z",
     "start_time": "2020-12-03T12:18:58.529117Z"
    }
   },
   "outputs": [
    {
     "data": {
      "image/png": "[encoded data removed]",
      "text/plain": [
       "<Figure size 720x360 with 1 Axes>"
      ]
     },
     "metadata": {
      "needs_background": "light"
     },
     "output_type": "display_data"
    }
   ],
   "source": [
    "# plot the bar stacked\n",
    "r = np.arange(len(group))\n",
    "fig = plt.figure(figsize=(10,5))\n",
    "ax = fig.add_axes([0.1, 0.1, 0.6, 0.75])\n",
    "b1=plt.bar(r,bar[0], color = '#7DC85D')\n",
    "b2=plt.bar(r,bar[1], bottom=[sum(x) for x in zip(*bar[:1])])\n",
    "b3=plt.bar(r,bar[2], bottom=[sum(x) for x in zip(*bar[:2])], color = '#EA7C15')\n",
    "b4=plt.bar(r,bar[3], bottom=[sum(x) for x in zip(*bar[:3])], color = '#1DA0AF')\n",
    "b5=plt.bar(r,bar[4], bottom=[sum(x) for x in zip(*bar[:4])], color = '#E6E622')\n",
    "plt.xticks(r, group, rotation=90)\n",
    "plt.xlabel(\"region\")\n",
    "plt.ylabel(\"percentage\")\n",
    "plt.legend((b1[0],b2[0],b3[0],b4[0],b5[0]),(0.0,0.75,2.0,'NaN','other'),bbox_to_anchor=(1.05, 1))\n",
    "plt.title(\"Percentage of Interest Rate group on basic of Region\")\n",
    "plt.show()"
   ]
  },
  {
   "cell_type": "markdown",
   "metadata": {
    "ExecuteTime": {
     "end_time": "2020-12-01T13:04:15.637410Z",
     "start_time": "2020-12-01T13:04:15.635119Z"
    }
   },
   "source": [
    "Based on the plotting, the portion of missing value is quite big for Africa East, Africa West, and Other region while it is quite equally for other region. Therefore, if we remove rows that contain missing value of Interest Rate, it will affect a lots when analyzing for those 3 regions. And due to the significant difference between groups, we can't replace these missing values with the mean value since it would change the statistical meaning. In the end, we will remove this columns."
   ]
  },
  {
   "cell_type": "code",
   "execution_count": 38,
   "metadata": {
    "ExecuteTime": {
     "end_time": "2020-12-03T12:18:58.824532Z",
     "start_time": "2020-12-03T12:18:58.765243Z"
    }
   },
   "outputs": [],
   "source": [
    "df.drop(\"Service Charge Rate\", inplace=True, axis=1)"
   ]
  },
  {
   "cell_type": "code",
   "execution_count": 39,
   "metadata": {
    "ExecuteTime": {
     "end_time": "2020-12-03T12:18:59.059563Z",
     "start_time": "2020-12-03T12:18:58.825422Z"
    }
   },
   "outputs": [
    {
     "data": {
      "text/plain": [
       "Borrower's Obligation    2\n",
       "Repaid to IDA            2\n",
       "Disbursed Amount         2\n",
       "Cancelled Amount         2\n",
       "dtype: int64"
      ]
     },
     "execution_count": 39,
     "metadata": {},
     "output_type": "execute_result"
    }
   ],
   "source": [
    "df.isnull().sum()[df.isnull().sum()!=0].sort_values(ascending=False)"
   ]
  },
  {
   "cell_type": "markdown",
   "metadata": {},
   "source": [
    "The remaining amount of missing values along each columns is insignificant comparing to the size of dataset, therefore, we can just simply remove these row."
   ]
  },
  {
   "cell_type": "code",
   "execution_count": 40,
   "metadata": {
    "ExecuteTime": {
     "end_time": "2020-12-03T12:18:59.259327Z",
     "start_time": "2020-12-03T12:18:59.060383Z"
    }
   },
   "outputs": [
    {
     "data": {
      "text/plain": [
       "(879688, 12)"
      ]
     },
     "execution_count": 40,
     "metadata": {},
     "output_type": "execute_result"
    }
   ],
   "source": [
    "df.dropna(how='any', inplace=True)\n",
    "df.shape"
   ]
  },
  {
   "cell_type": "markdown",
   "metadata": {},
   "source": [
    "### Checking for unreasonable value\n",
    "The value of Original Principal Amount column should be greater than zero. Therefore, we drop rows that contain 0 value which doesn't make sense when the loans is equal to zero."
   ]
  },
  {
   "cell_type": "code",
   "execution_count": 41,
   "metadata": {
    "ExecuteTime": {
     "end_time": "2020-12-03T12:18:59.327071Z",
     "start_time": "2020-12-03T12:18:59.260042Z"
    }
   },
   "outputs": [],
   "source": [
    "df = df[df[\"Original Principal Amount\"]!=0.0]"
   ]
  },
  {
   "cell_type": "code",
   "execution_count": 42,
   "metadata": {
    "ExecuteTime": {
     "end_time": "2020-12-03T12:18:59.330361Z",
     "start_time": "2020-12-03T12:18:59.327842Z"
    }
   },
   "outputs": [
    {
     "data": {
      "text/plain": [
       "(874127, 12)"
      ]
     },
     "execution_count": 42,
     "metadata": {},
     "output_type": "execute_result"
    }
   ],
   "source": [
    "df.shape"
   ]
  },
  {
   "cell_type": "markdown",
   "metadata": {},
   "source": [
    "The final dataset now includes 874,127 entries with 12 attribute columns"
   ]
  },
  {
   "cell_type": "markdown",
   "metadata": {},
   "source": [
    "# Analyzing\n",
    "## On the basic of year\n",
    "### The total number of project"
   ]
  },
  {
   "cell_type": "code",
   "execution_count": 78,
   "metadata": {
    "ExecuteTime": {
     "end_time": "2020-12-03T12:33:11.777776Z",
     "start_time": "2020-12-03T12:33:11.533034Z"
    }
   },
   "outputs": [
    {
     "data": {
      "text/plain": [
       "End of Period\n",
       "2011-12-31     58084\n",
       "2012-12-31     79654\n",
       "2013-12-31     82168\n",
       "2014-12-31     85864\n",
       "2015-12-31     89247\n",
       "2016-12-31     91943\n",
       "2017-12-31     95503\n",
       "2018-12-31     99215\n",
       "2019-12-31    102911\n",
       "2020-12-31     89538\n",
       "Freq: A-DEC, Name: Country Code, dtype: int64"
      ]
     },
     "execution_count": 78,
     "metadata": {},
     "output_type": "execute_result"
    }
   ],
   "source": [
    "Project_Yearly = df.set_index(\"End of Period\").resample(\"Y\")\n",
    "a = Project_Yearly[\"Country Code\"].count()\n",
    "a"
   ]
  },
  {
   "cell_type": "code",
   "execution_count": 79,
   "metadata": {
    "ExecuteTime": {
     "end_time": "2020-12-03T12:33:15.758347Z",
     "start_time": "2020-12-03T12:33:15.646750Z"
    }
   },
   "outputs": [
    {
     "data": {
      "image/png": "[encoded data removed]",
      "text/plain": [
       "<Figure size 432x288 with 1 Axes>"
      ]
     },
     "metadata": {
      "needs_background": "light"
     },
     "output_type": "display_data"
    }
   ],
   "source": [
    "ax = sns.barplot(x=a.index.year, y=a.values, data = a)\n",
    "ax.set_title(\"Total number of project has been granted\",fontsize=30)\n",
    "ax.set_xlabel(\"Year\")\n",
    "ax.set_ylabel(\"Number of Project\")\n",
    "ax.set_yticks(np.arange(0,120000,20000))\n",
    "plt.show()"
   ]
  },
  {
   "cell_type": "markdown",
   "metadata": {},
   "source": [
    "We can see that the number of fund granted projects increases through years, except for 2020 since this dataset only includes data until the end of October 2020. It is expected to be higher than the previous year 2019.\n",
    "\n",
    "### Changing in amount of loan across year"
   ]
  },
  {
   "cell_type": "code",
   "execution_count": 45,
   "metadata": {
    "ExecuteTime": {
     "end_time": "2020-12-03T12:19:02.234260Z",
     "start_time": "2020-12-03T12:18:59.689287Z"
    }
   },
   "outputs": [],
   "source": [
    "loans_yearly = df.copy()\n",
    "loans_yearly[\"year\"] = loans_yearly[\"End of Period\"].apply(lambda x: x.year)\n",
    "a = loans_yearly.groupby([\"year\", \"Region\"])[\"Original Principal Amount\"].sum()\n",
    "b = a.reset_index()"
   ]
  },
  {
   "cell_type": "code",
   "execution_count": 46,
   "metadata": {
    "ExecuteTime": {
     "end_time": "2020-12-03T12:19:02.444577Z",
     "start_time": "2020-12-03T12:19:02.235143Z"
    }
   },
   "outputs": [
    {
     "data": {
      "image/png": "[encoded data removed]",
      "text/plain": [
       "<Figure size 1080x360 with 1 Axes>"
      ]
     },
     "metadata": {
      "needs_background": "light"
     },
     "output_type": "display_data"
    }
   ],
   "source": [
    "plt.figure(figsize=(15,5))\n",
    "ax = sns.lineplot(x=\"year\", y=\"Original Principal Amount\", hue=\"Region\", data=b)\n",
    "plt.legend(bbox_to_anchor=(1.05, 1), loc=2, borderaxespad=0.)\n",
    "plt.xticks(np.arange(2011,2021))\n",
    "plt.suptitle(\"Amount of loan across years\", fontsize=30)\n",
    "plt.show()"
   ]
  },
  {
   "cell_type": "markdown",
   "metadata": {
    "ExecuteTime": {
     "end_time": "2020-12-02T19:22:54.713650Z",
     "start_time": "2020-12-02T19:22:54.698796Z"
    }
   },
   "source": [
    "The amount of loan has been given to Africa and South Asia except for 2020 is increasing yearly while for other region, it's quite stable. The sharp dropping from 2019 to 2020 is due to the change of how region is categorized and also due to the shortage of record which is mentioned above. The loan for Africa East and West only start in 2020 which indicates that there is a division of Africa region into 3 news regions: Africa, Africa West, and Africa East."
   ]
  },
  {
   "cell_type": "markdown",
   "metadata": {},
   "source": [
    "## Map of country apply for loans"
   ]
  },
  {
   "cell_type": "code",
   "execution_count": 47,
   "metadata": {
    "ExecuteTime": {
     "end_time": "2020-12-03T12:20:21.719264Z",
     "start_time": "2020-12-03T12:19:02.445562Z"
    }
   },
   "outputs": [],
   "source": [
    "location = df.groupby(\"Country Code\")[\"Original Principal Amount\"].sum().reset_index()\n",
    "latitude = []\n",
    "longitude = []\n",
    "for i in location[\"Country Code\"]:\n",
    "    loc = geocoder.arcgis(i)\n",
    "    if loc.x!=None and loc.y!=None:\n",
    "        latitude.append(loc.y) \n",
    "        longitude.append(loc.x)\n",
    "    else:\n",
    "        latitude.append(np.nan) \n",
    "        longitude.append(np.nan)\n",
    "location[\"lat\"] = latitude\n",
    "location[\"long\"] = longitude\n",
    "location.dropna(subset=[\"lat\",\"long\"], inplace=True)\n",
    "location.reset_index(drop=True, inplace=True)"
   ]
  },
  {
   "cell_type": "code",
   "execution_count": 48,
   "metadata": {
    "ExecuteTime": {
     "end_time": "2020-12-03T12:20:21.770968Z",
     "start_time": "2020-12-03T12:20:21.720223Z"
    },
    "scrolled": true
   },
   "outputs": [
    {
     "data": {
      "text/html": [
       "<div style=\"width:100%;\"><div style=\"position:relative;width:100%;height:0;padding-bottom:60%;\"><span style=\"color:#565656\">Make this Notebook Trusted to load map: File -> Trust Notebook</span><iframe src=\"about:blank\" style=\"position:absolute;width:100%;height:100%;left:0;top:0;border:none !important;\" data-html=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 onload=\"this.contentDocument.open();this.contentDocument.write(atob(this.getAttribute('data-html')));this.contentDocument.close();\" allowfullscreen webkitallowfullscreen mozallowfullscreen></iframe></div></div>"
      ],
      "text/plain": [
       "<folium.folium.Map at 0x7fcf3cddcd60>"
      ]
     },
     "execution_count": 48,
     "metadata": {},
     "output_type": "execute_result"
    }
   ],
   "source": [
    "world_map = folium.Map(location=[11,0], tiles=\"cartodbpositron\", zoom_start=2, max_zoom = 6, min_zoom = 2,prefer_canvas=True)\n",
    "for i in range(len(location)):\n",
    "    folium.Circle(location=[location.loc[i,\"lat\"], location.loc[i, \"long\"]],\n",
    "                  fill=True,\n",
    "                  radius = (location.loc[i,\"Original Principal Amount\"]/10**7.5),\n",
    "                  color = \"Red\",\n",
    "                  fill_color = \"Red\"\n",
    "                 ).add_to(world_map)\n",
    "world_map"
   ]
  },
  {
   "cell_type": "markdown",
   "metadata": {},
   "source": [
    "Based on the spread of point on the map, we can see that Africa Region has the most number of country apply for loans, other region such as Asia, Europe, America have the same number of countries apply for loans, approximately. We will further examine this number in next section."
   ]
  },
  {
   "cell_type": "markdown",
   "metadata": {},
   "source": [
    "## On Region basic\n",
    "### Number of country apply for loans across region"
   ]
  },
  {
   "cell_type": "code",
   "execution_count": 49,
   "metadata": {
    "ExecuteTime": {
     "end_time": "2020-12-03T12:20:21.892175Z",
     "start_time": "2020-12-03T12:20:21.771752Z"
    }
   },
   "outputs": [
    {
     "data": {
      "text/plain": [
       "Region\n",
       "AFRICA                          48\n",
       "AFRICA EAST                     24\n",
       "AFRICA WEST                     23\n",
       "EAST ASIA AND PACIFIC           24\n",
       "EUROPE AND CENTRAL ASIA         15\n",
       "LATIN AMERICA AND CARIBBEAN     19\n",
       "MIDDLE EAST AND NORTH AFRICA     9\n",
       "OTHER                            4\n",
       "SOUTH ASIA                       9\n",
       "Name: Country Code, dtype: int64"
      ]
     },
     "execution_count": 49,
     "metadata": {},
     "output_type": "execute_result"
    }
   ],
   "source": [
    "num_country = df.groupby(\"Region\")[\"Country Code\"].nunique()\n",
    "num_country"
   ]
  },
  {
   "cell_type": "code",
   "execution_count": 50,
   "metadata": {
    "ExecuteTime": {
     "end_time": "2020-12-03T12:20:22.000512Z",
     "start_time": "2020-12-03T12:20:21.893035Z"
    }
   },
   "outputs": [
    {
     "data": {
      "image/png": "[encoded data removed]",
      "text/plain": [
       "<Figure size 432x288 with 1 Axes>"
      ]
     },
     "metadata": {
      "needs_background": "light"
     },
     "output_type": "display_data"
    }
   ],
   "source": [
    "a = num_country.reset_index()\n",
    "ax = sns.barplot(data=a, x=\"Region\", y=\"Country Code\")\n",
    "ax.set_xticklabels(ax.get_xticklabels(), rotation=90)\n",
    "plt.suptitle(\"Number of country apply for loan across regions\", fontsize=30)\n",
    "plt.show()"
   ]
  },
  {
   "cell_type": "markdown",
   "metadata": {
    "ExecuteTime": {
     "end_time": "2020-12-02T17:58:45.973312Z",
     "start_time": "2020-12-02T17:58:45.970742Z"
    }
   },
   "source": [
    "From the table and chart, we can see that, Africa Region has the highest number of country who apply for loans. It is similar to what the map showed before.\n",
    "### Number of application for loan project each year across region"
   ]
  },
  {
   "cell_type": "code",
   "execution_count": 51,
   "metadata": {
    "ExecuteTime": {
     "end_time": "2020-12-03T12:20:22.091118Z",
     "start_time": "2020-12-03T12:20:22.001478Z"
    },
    "scrolled": true
   },
   "outputs": [
    {
     "data": {
      "text/html": [
       "<div>\n",
       "<style scoped>\n",
       "    .dataframe tbody tr th:only-of-type {\n",
       "        vertical-align: middle;\n",
       "    }\n",
       "\n",
       "    .dataframe tbody tr th {\n",
       "        vertical-align: top;\n",
       "    }\n",
       "\n",
       "    .dataframe thead th {\n",
       "        text-align: right;\n",
       "    }\n",
       "</style>\n",
       "<table border=\"1\" class=\"dataframe\">\n",
       "  <thead>\n",
       "    <tr style=\"text-align: right;\">\n",
       "      <th>Region</th>\n",
       "      <th>AFRICA</th>\n",
       "      <th>AFRICA EAST</th>\n",
       "      <th>AFRICA WEST</th>\n",
       "      <th>EAST ASIA AND PACIFIC</th>\n",
       "      <th>EUROPE AND CENTRAL ASIA</th>\n",
       "      <th>LATIN AMERICA AND CARIBBEAN</th>\n",
       "      <th>MIDDLE EAST AND NORTH AFRICA</th>\n",
       "      <th>OTHER</th>\n",
       "      <th>SOUTH ASIA</th>\n",
       "    </tr>\n",
       "    <tr>\n",
       "      <th>End of Period</th>\n",
       "      <th></th>\n",
       "      <th></th>\n",
       "      <th></th>\n",
       "      <th></th>\n",
       "      <th></th>\n",
       "      <th></th>\n",
       "      <th></th>\n",
       "      <th></th>\n",
       "      <th></th>\n",
       "    </tr>\n",
       "  </thead>\n",
       "  <tbody>\n",
       "    <tr>\n",
       "      <th>2011-12-31</th>\n",
       "      <td>29605.0</td>\n",
       "      <td>0.0</td>\n",
       "      <td>0.0</td>\n",
       "      <td>5565.0</td>\n",
       "      <td>5050.0</td>\n",
       "      <td>4447.0</td>\n",
       "      <td>2545.0</td>\n",
       "      <td>0.0</td>\n",
       "      <td>10872.0</td>\n",
       "    </tr>\n",
       "    <tr>\n",
       "      <th>2012-12-31</th>\n",
       "      <td>40630.0</td>\n",
       "      <td>0.0</td>\n",
       "      <td>0.0</td>\n",
       "      <td>7672.0</td>\n",
       "      <td>6985.0</td>\n",
       "      <td>6105.0</td>\n",
       "      <td>3432.0</td>\n",
       "      <td>0.0</td>\n",
       "      <td>14830.0</td>\n",
       "    </tr>\n",
       "    <tr>\n",
       "      <th>2013-12-31</th>\n",
       "      <td>41939.0</td>\n",
       "      <td>0.0</td>\n",
       "      <td>0.0</td>\n",
       "      <td>7967.0</td>\n",
       "      <td>7258.0</td>\n",
       "      <td>6256.0</td>\n",
       "      <td>3528.0</td>\n",
       "      <td>0.0</td>\n",
       "      <td>15220.0</td>\n",
       "    </tr>\n",
       "    <tr>\n",
       "      <th>2014-12-31</th>\n",
       "      <td>44022.0</td>\n",
       "      <td>0.0</td>\n",
       "      <td>0.0</td>\n",
       "      <td>8452.0</td>\n",
       "      <td>7548.0</td>\n",
       "      <td>6446.0</td>\n",
       "      <td>3624.0</td>\n",
       "      <td>0.0</td>\n",
       "      <td>15772.0</td>\n",
       "    </tr>\n",
       "    <tr>\n",
       "      <th>2015-12-31</th>\n",
       "      <td>45911.0</td>\n",
       "      <td>0.0</td>\n",
       "      <td>0.0</td>\n",
       "      <td>8950.0</td>\n",
       "      <td>7886.0</td>\n",
       "      <td>6618.0</td>\n",
       "      <td>3684.0</td>\n",
       "      <td>0.0</td>\n",
       "      <td>16198.0</td>\n",
       "    </tr>\n",
       "    <tr>\n",
       "      <th>2016-12-31</th>\n",
       "      <td>47475.0</td>\n",
       "      <td>0.0</td>\n",
       "      <td>0.0</td>\n",
       "      <td>9308.0</td>\n",
       "      <td>8131.0</td>\n",
       "      <td>6712.0</td>\n",
       "      <td>3721.0</td>\n",
       "      <td>0.0</td>\n",
       "      <td>16596.0</td>\n",
       "    </tr>\n",
       "    <tr>\n",
       "      <th>2017-12-31</th>\n",
       "      <td>49445.0</td>\n",
       "      <td>0.0</td>\n",
       "      <td>0.0</td>\n",
       "      <td>9818.0</td>\n",
       "      <td>8364.0</td>\n",
       "      <td>6927.0</td>\n",
       "      <td>3847.0</td>\n",
       "      <td>7.0</td>\n",
       "      <td>17095.0</td>\n",
       "    </tr>\n",
       "    <tr>\n",
       "      <th>2018-12-31</th>\n",
       "      <td>51761.0</td>\n",
       "      <td>0.0</td>\n",
       "      <td>0.0</td>\n",
       "      <td>10180.0</td>\n",
       "      <td>8637.0</td>\n",
       "      <td>7145.0</td>\n",
       "      <td>3924.0</td>\n",
       "      <td>12.0</td>\n",
       "      <td>17556.0</td>\n",
       "    </tr>\n",
       "    <tr>\n",
       "      <th>2019-12-31</th>\n",
       "      <td>54013.0</td>\n",
       "      <td>0.0</td>\n",
       "      <td>0.0</td>\n",
       "      <td>10610.0</td>\n",
       "      <td>8847.0</td>\n",
       "      <td>7346.0</td>\n",
       "      <td>4054.0</td>\n",
       "      <td>44.0</td>\n",
       "      <td>17997.0</td>\n",
       "    </tr>\n",
       "    <tr>\n",
       "      <th>2020-12-31</th>\n",
       "      <td>28083.0</td>\n",
       "      <td>9215.0</td>\n",
       "      <td>9797.0</td>\n",
       "      <td>9380.0</td>\n",
       "      <td>7644.0</td>\n",
       "      <td>6421.0</td>\n",
       "      <td>3462.0</td>\n",
       "      <td>60.0</td>\n",
       "      <td>15476.0</td>\n",
       "    </tr>\n",
       "  </tbody>\n",
       "</table>\n",
       "</div>"
      ],
      "text/plain": [
       "Region          AFRICA  AFRICA EAST  AFRICA WEST  EAST ASIA AND PACIFIC  \\\n",
       "End of Period                                                             \n",
       "2011-12-31     29605.0          0.0          0.0                 5565.0   \n",
       "2012-12-31     40630.0          0.0          0.0                 7672.0   \n",
       "2013-12-31     41939.0          0.0          0.0                 7967.0   \n",
       "2014-12-31     44022.0          0.0          0.0                 8452.0   \n",
       "2015-12-31     45911.0          0.0          0.0                 8950.0   \n",
       "2016-12-31     47475.0          0.0          0.0                 9308.0   \n",
       "2017-12-31     49445.0          0.0          0.0                 9818.0   \n",
       "2018-12-31     51761.0          0.0          0.0                10180.0   \n",
       "2019-12-31     54013.0          0.0          0.0                10610.0   \n",
       "2020-12-31     28083.0       9215.0       9797.0                 9380.0   \n",
       "\n",
       "Region         EUROPE AND CENTRAL ASIA  LATIN AMERICA AND CARIBBEAN  \\\n",
       "End of Period                                                         \n",
       "2011-12-31                      5050.0                       4447.0   \n",
       "2012-12-31                      6985.0                       6105.0   \n",
       "2013-12-31                      7258.0                       6256.0   \n",
       "2014-12-31                      7548.0                       6446.0   \n",
       "2015-12-31                      7886.0                       6618.0   \n",
       "2016-12-31                      8131.0                       6712.0   \n",
       "2017-12-31                      8364.0                       6927.0   \n",
       "2018-12-31                      8637.0                       7145.0   \n",
       "2019-12-31                      8847.0                       7346.0   \n",
       "2020-12-31                      7644.0                       6421.0   \n",
       "\n",
       "Region         MIDDLE EAST AND NORTH AFRICA  OTHER  SOUTH ASIA  \n",
       "End of Period                                                   \n",
       "2011-12-31                           2545.0    0.0     10872.0  \n",
       "2012-12-31                           3432.0    0.0     14830.0  \n",
       "2013-12-31                           3528.0    0.0     15220.0  \n",
       "2014-12-31                           3624.0    0.0     15772.0  \n",
       "2015-12-31                           3684.0    0.0     16198.0  \n",
       "2016-12-31                           3721.0    0.0     16596.0  \n",
       "2017-12-31                           3847.0    7.0     17095.0  \n",
       "2018-12-31                           3924.0   12.0     17556.0  \n",
       "2019-12-31                           4054.0   44.0     17997.0  \n",
       "2020-12-31                           3462.0   60.0     15476.0  "
      ]
     },
     "execution_count": 51,
     "metadata": {},
     "output_type": "execute_result"
    }
   ],
   "source": [
    "Project_Region = df.groupby([\"End of Period\", \"Region\"])[\"Country Code\"].count().unstack().resample(\"Y\").sum()\n",
    "Project_Region"
   ]
  },
  {
   "cell_type": "code",
   "execution_count": 52,
   "metadata": {
    "ExecuteTime": {
     "end_time": "2020-12-03T12:20:22.103522Z",
     "start_time": "2020-12-03T12:20:22.092003Z"
    },
    "scrolled": true
   },
   "outputs": [
    {
     "data": {
      "text/html": [
       "<div>\n",
       "<style scoped>\n",
       "    .dataframe tbody tr th:only-of-type {\n",
       "        vertical-align: middle;\n",
       "    }\n",
       "\n",
       "    .dataframe tbody tr th {\n",
       "        vertical-align: top;\n",
       "    }\n",
       "\n",
       "    .dataframe thead th {\n",
       "        text-align: right;\n",
       "    }\n",
       "</style>\n",
       "<table border=\"1\" class=\"dataframe\">\n",
       "  <thead>\n",
       "    <tr style=\"text-align: right;\">\n",
       "      <th>Region</th>\n",
       "      <th>AFRICA</th>\n",
       "      <th>AFRICA EAST</th>\n",
       "      <th>AFRICA WEST</th>\n",
       "      <th>EAST ASIA AND PACIFIC</th>\n",
       "      <th>EUROPE AND CENTRAL ASIA</th>\n",
       "      <th>LATIN AMERICA AND CARIBBEAN</th>\n",
       "      <th>MIDDLE EAST AND NORTH AFRICA</th>\n",
       "      <th>OTHER</th>\n",
       "      <th>SOUTH ASIA</th>\n",
       "    </tr>\n",
       "    <tr>\n",
       "      <th>End of Period</th>\n",
       "      <th></th>\n",
       "      <th></th>\n",
       "      <th></th>\n",
       "      <th></th>\n",
       "      <th></th>\n",
       "      <th></th>\n",
       "      <th></th>\n",
       "      <th></th>\n",
       "      <th></th>\n",
       "    </tr>\n",
       "  </thead>\n",
       "  <tbody>\n",
       "    <tr>\n",
       "      <th>2011-12-31</th>\n",
       "      <td>50.969286</td>\n",
       "      <td>0.00000</td>\n",
       "      <td>0.000000</td>\n",
       "      <td>9.580952</td>\n",
       "      <td>8.694305</td>\n",
       "      <td>7.656153</td>\n",
       "      <td>4.381585</td>\n",
       "      <td>0.000000</td>\n",
       "      <td>18.717719</td>\n",
       "    </tr>\n",
       "    <tr>\n",
       "      <th>2012-12-31</th>\n",
       "      <td>51.008110</td>\n",
       "      <td>0.00000</td>\n",
       "      <td>0.000000</td>\n",
       "      <td>9.631657</td>\n",
       "      <td>8.769177</td>\n",
       "      <td>7.664399</td>\n",
       "      <td>4.308635</td>\n",
       "      <td>0.000000</td>\n",
       "      <td>18.618023</td>\n",
       "    </tr>\n",
       "    <tr>\n",
       "      <th>2013-12-31</th>\n",
       "      <td>51.040551</td>\n",
       "      <td>0.00000</td>\n",
       "      <td>0.000000</td>\n",
       "      <td>9.695989</td>\n",
       "      <td>8.833122</td>\n",
       "      <td>7.613670</td>\n",
       "      <td>4.293642</td>\n",
       "      <td>0.000000</td>\n",
       "      <td>18.523026</td>\n",
       "    </tr>\n",
       "    <tr>\n",
       "      <th>2014-12-31</th>\n",
       "      <td>51.269449</td>\n",
       "      <td>0.00000</td>\n",
       "      <td>0.000000</td>\n",
       "      <td>9.843473</td>\n",
       "      <td>8.790646</td>\n",
       "      <td>7.507221</td>\n",
       "      <td>4.220628</td>\n",
       "      <td>0.000000</td>\n",
       "      <td>18.368583</td>\n",
       "    </tr>\n",
       "    <tr>\n",
       "      <th>2015-12-31</th>\n",
       "      <td>51.442626</td>\n",
       "      <td>0.00000</td>\n",
       "      <td>0.000000</td>\n",
       "      <td>10.028348</td>\n",
       "      <td>8.836151</td>\n",
       "      <td>7.415375</td>\n",
       "      <td>4.127870</td>\n",
       "      <td>0.000000</td>\n",
       "      <td>18.149630</td>\n",
       "    </tr>\n",
       "    <tr>\n",
       "      <th>2016-12-31</th>\n",
       "      <td>51.635252</td>\n",
       "      <td>0.00000</td>\n",
       "      <td>0.000000</td>\n",
       "      <td>10.123664</td>\n",
       "      <td>8.843523</td>\n",
       "      <td>7.300175</td>\n",
       "      <td>4.047073</td>\n",
       "      <td>0.000000</td>\n",
       "      <td>18.050314</td>\n",
       "    </tr>\n",
       "    <tr>\n",
       "      <th>2017-12-31</th>\n",
       "      <td>51.773243</td>\n",
       "      <td>0.00000</td>\n",
       "      <td>0.000000</td>\n",
       "      <td>10.280305</td>\n",
       "      <td>8.757840</td>\n",
       "      <td>7.253175</td>\n",
       "      <td>4.028146</td>\n",
       "      <td>0.007330</td>\n",
       "      <td>17.899961</td>\n",
       "    </tr>\n",
       "    <tr>\n",
       "      <th>2018-12-31</th>\n",
       "      <td>52.170539</td>\n",
       "      <td>0.00000</td>\n",
       "      <td>0.000000</td>\n",
       "      <td>10.260545</td>\n",
       "      <td>8.705337</td>\n",
       "      <td>7.201532</td>\n",
       "      <td>3.955047</td>\n",
       "      <td>0.012095</td>\n",
       "      <td>17.694905</td>\n",
       "    </tr>\n",
       "    <tr>\n",
       "      <th>2019-12-31</th>\n",
       "      <td>52.485157</td>\n",
       "      <td>0.00000</td>\n",
       "      <td>0.000000</td>\n",
       "      <td>10.309879</td>\n",
       "      <td>8.596749</td>\n",
       "      <td>7.138207</td>\n",
       "      <td>3.939326</td>\n",
       "      <td>0.042755</td>\n",
       "      <td>17.487926</td>\n",
       "    </tr>\n",
       "    <tr>\n",
       "      <th>2020-12-31</th>\n",
       "      <td>31.364337</td>\n",
       "      <td>10.29172</td>\n",
       "      <td>10.941723</td>\n",
       "      <td>10.475999</td>\n",
       "      <td>8.537157</td>\n",
       "      <td>7.171257</td>\n",
       "      <td>3.866515</td>\n",
       "      <td>0.067011</td>\n",
       "      <td>17.284282</td>\n",
       "    </tr>\n",
       "  </tbody>\n",
       "</table>\n",
       "</div>"
      ],
      "text/plain": [
       "Region            AFRICA  AFRICA EAST  AFRICA WEST  EAST ASIA AND PACIFIC  \\\n",
       "End of Period                                                               \n",
       "2011-12-31     50.969286      0.00000     0.000000               9.580952   \n",
       "2012-12-31     51.008110      0.00000     0.000000               9.631657   \n",
       "2013-12-31     51.040551      0.00000     0.000000               9.695989   \n",
       "2014-12-31     51.269449      0.00000     0.000000               9.843473   \n",
       "2015-12-31     51.442626      0.00000     0.000000              10.028348   \n",
       "2016-12-31     51.635252      0.00000     0.000000              10.123664   \n",
       "2017-12-31     51.773243      0.00000     0.000000              10.280305   \n",
       "2018-12-31     52.170539      0.00000     0.000000              10.260545   \n",
       "2019-12-31     52.485157      0.00000     0.000000              10.309879   \n",
       "2020-12-31     31.364337     10.29172    10.941723              10.475999   \n",
       "\n",
       "Region         EUROPE AND CENTRAL ASIA  LATIN AMERICA AND CARIBBEAN  \\\n",
       "End of Period                                                         \n",
       "2011-12-31                    8.694305                     7.656153   \n",
       "2012-12-31                    8.769177                     7.664399   \n",
       "2013-12-31                    8.833122                     7.613670   \n",
       "2014-12-31                    8.790646                     7.507221   \n",
       "2015-12-31                    8.836151                     7.415375   \n",
       "2016-12-31                    8.843523                     7.300175   \n",
       "2017-12-31                    8.757840                     7.253175   \n",
       "2018-12-31                    8.705337                     7.201532   \n",
       "2019-12-31                    8.596749                     7.138207   \n",
       "2020-12-31                    8.537157                     7.171257   \n",
       "\n",
       "Region         MIDDLE EAST AND NORTH AFRICA     OTHER  SOUTH ASIA  \n",
       "End of Period                                                      \n",
       "2011-12-31                         4.381585  0.000000   18.717719  \n",
       "2012-12-31                         4.308635  0.000000   18.618023  \n",
       "2013-12-31                         4.293642  0.000000   18.523026  \n",
       "2014-12-31                         4.220628  0.000000   18.368583  \n",
       "2015-12-31                         4.127870  0.000000   18.149630  \n",
       "2016-12-31                         4.047073  0.000000   18.050314  \n",
       "2017-12-31                         4.028146  0.007330   17.899961  \n",
       "2018-12-31                         3.955047  0.012095   17.694905  \n",
       "2019-12-31                         3.939326  0.042755   17.487926  \n",
       "2020-12-31                         3.866515  0.067011   17.284282  "
      ]
     },
     "execution_count": 52,
     "metadata": {},
     "output_type": "execute_result"
    }
   ],
   "source": [
    "Project_Region_pct = Project_Region.apply(lambda x: x*100/x.sum(), axis=1)\n",
    "Project_Region_pct"
   ]
  },
  {
   "cell_type": "code",
   "execution_count": 53,
   "metadata": {
    "ExecuteTime": {
     "end_time": "2020-12-03T12:20:22.635097Z",
     "start_time": "2020-12-03T12:20:22.104638Z"
    }
   },
   "outputs": [
    {
     "data": {
      "image/png": "[encoded data removed]",
      "text/plain": [
       "<Figure size 936x360 with 1 Axes>"
      ]
     },
     "metadata": {
      "needs_background": "light"
     },
     "output_type": "display_data"
    }
   ],
   "source": [
    "a = Project_Region_pct.reset_index()\n",
    "b = pd.melt(a, id_vars=\"End of Period\")\n",
    "b[\"year\"] = b[\"End of Period\"].apply(lambda x: x.year)\n",
    "ax = sns.catplot(x=\"year\", y = \"value\", hue = \"Region\", data=b, kind='bar')\n",
    "ax.fig.suptitle(\"Percentage across region and year\", fontsize=30)\n",
    "ax.fig.set_size_inches(13,5)"
   ]
  },
  {
   "cell_type": "markdown",
   "metadata": {},
   "source": [
    "We can see that the percentage of number of project for each region across years is not changing so much except for Africa Region. However, it can be due to a change in grouping, since there is no record of any project from Africa East and West Region before 2020. Therefore, the significant decreasing of number of project from Africa Region is understandable. In summary:\n",
    "- African Region, in general, have the highest percentage of loaned projects - around 50%\n",
    "- Next is South Asia - approximately 20%\n",
    "- The percentage is similarly for three region: East Asia and Pacific, Europe And Central Asia, and Latin America and Caribbean, from 7%-10%\n",
    "- The portion is Middle East and North Africa Region is about 5% for each.\n",
    "- And the lowest percentage belongs to other region, which is lower than 1%\n",
    "### Number of canceled/disrupted funding project\n",
    "\n",
    "Since the number of project applied for funding across regions is significantly different for Africa and South Asia Region, it doesn't make sense if we compare on the basic of number of canceled/disrupted loan, therefore, we will compare based on percentage across regions."
   ]
  },
  {
   "cell_type": "code",
   "execution_count": 54,
   "metadata": {
    "ExecuteTime": {
     "end_time": "2020-12-03T12:20:23.167438Z",
     "start_time": "2020-12-03T12:20:22.635947Z"
    }
   },
   "outputs": [],
   "source": [
    "a = df.copy()\n",
    "a[\"Cancelled Amount\"] = a[\"Cancelled Amount\"].apply(lambda x: 1 if x!=0 else 0)\n",
    "b = a.groupby(\"Region\")[\"Cancelled Amount\"].sum()\n",
    "c = a.groupby(\"Region\").count()[\"Cancelled Amount\"]\n",
    "d = (b*100/c).reset_index()"
   ]
  },
  {
   "cell_type": "code",
   "execution_count": 55,
   "metadata": {
    "ExecuteTime": {
     "end_time": "2020-12-03T12:20:23.170368Z",
     "start_time": "2020-12-03T12:20:23.168419Z"
    }
   },
   "outputs": [],
   "source": [
    "def change_height(ax, new_value) :\n",
    "    for patch in ax.patches :\n",
    "        current_height = patch.get_height()\n",
    "        diff = current_height - new_value\n",
    "\n",
    "        # we change the bar width\n",
    "        patch.set_height(new_value)\n",
    "\n",
    "        # we recenter the bar\n",
    "        patch.set_x(patch.get_x() + diff * .5)"
   ]
  },
  {
   "cell_type": "code",
   "execution_count": 56,
   "metadata": {
    "ExecuteTime": {
     "end_time": "2020-12-03T12:20:23.495599Z",
     "start_time": "2020-12-03T12:20:23.171638Z"
    }
   },
   "outputs": [
    {
     "data": {
      "image/png": "[encoded data removed]",
      "text/plain": [
       "<Figure size 720x576 with 1 Axes>"
      ]
     },
     "metadata": {
      "needs_background": "light"
     },
     "output_type": "display_data"
    }
   ],
   "source": [
    "plt.figure(figsize=(10,8))\n",
    "ax = sns.barplot(y=\"Region\", x=\"Cancelled Amount\", data=d, hue=\"Region\", orient=\"h\", dodge=False)\n",
    "change_height(ax, .7)\n",
    "plt.legend(bbox_to_anchor=(1.05, 1), loc=2, borderaxespad=0.)\n",
    "plt.suptitle(\"Percentage of cancelled/disrupted loan across regions\", fontsize=30)\n",
    "plt.show()"
   ]
  },
  {
   "cell_type": "markdown",
   "metadata": {},
   "source": [
    "Despite of having the highest number of application for loans, the percentage of canceled/disrupted loan for Africa Region is not the highest. The highest percentage belongs to Middle East and North Africa, and South Asia, which is approximately 60% while this number is only below 50% for Africa Region. Surprisingly, After Middle East and North Africa, and South Asia, Europe and Central Asia Region has the next highest percentage of canceled/disrupted loan project, over 50%. The ratio is similar for East Asia & Pacific, Latin America & Caribbean. The lowest percentage belongs to Other Region, which is has low number of application, and number of country apply for loan.\n",
    "\n",
    "### Status of loan across regions"
   ]
  },
  {
   "cell_type": "code",
   "execution_count": 100,
   "metadata": {
    "ExecuteTime": {
     "end_time": "2020-12-03T12:51:38.626439Z",
     "start_time": "2020-12-03T12:51:38.506730Z"
    }
   },
   "outputs": [],
   "source": [
    "a = df.groupby(\"Region\")[\"Credit Status\"].value_counts()\n",
    "b = a.unstack()\n",
    "b.fillna(0, inplace=True)\n",
    "region = b.index\n",
    "labels = b.columns"
   ]
  },
  {
   "cell_type": "code",
   "execution_count": 101,
   "metadata": {
    "ExecuteTime": {
     "end_time": "2020-12-03T12:51:41.326939Z",
     "start_time": "2020-12-03T12:51:40.602750Z"
    }
   },
   "outputs": [
    {
     "data": {
      "image/png": "[encoded data removed]",
      "text/plain": [
       "<Figure size 720x720 with 9 Axes>"
      ]
     },
     "metadata": {},
     "output_type": "display_data"
    }
   ],
   "source": [
    "pie, ax = plt.subplots(3,3, figsize=(10,10))\n",
    "p = 0\n",
    "for i in range(3):\n",
    "    for j in range(3):\n",
    "        r = region[p]\n",
    "        d = b.loc[r]\n",
    "        ax[i, j].pie(x=d,explode=[0.05]*len(d), pctdistance=0.2)\n",
    "        ax[i, j].set(title=r)\n",
    "        p+=1\n",
    "plt.figlegend(labels, bbox_to_anchor=(1.15, 0.90))\n",
    "plt.suptitle(\"Status of loan across regions\", fontsize=30)\n",
    "plt.show()       "
   ]
  },
  {
   "cell_type": "markdown",
   "metadata": {},
   "source": [
    "There are some status that are easily recognized from the chart:\n",
    "- Mostly all the region have high number of loan disbursing, represented by red portion.\n",
    "- Big cyan portion, represent Fully Repaid loan, appears in Africa, Africa East, Africa West, and Latin America & Caribbean.\n",
    "- Green portion indicates that big percentage of loan has been disbursed. This percentage is high in East Asia & Pacific, Europe & Central Asia, Latin America & Caribbean, Middle East & North Africa, and South Asia.\n",
    "- Orange color is canceled or disrupted loan, which is the highest for Middle East & North Africa and South Asia as mentioned above."
   ]
  }
 ],
 "metadata": {
  "kernelspec": {
   "display_name": "Python 3",
   "language": "python",
   "name": "python3"
  },
  "language_info": {
   "codemirror_mode": {
    "name": "ipython",
    "version": 3
   },
   "file_extension": ".py",
   "mimetype": "text/x-python",
   "name": "python",
   "nbconvert_exporter": "python",
   "pygments_lexer": "ipython3",
   "version": "3.8.3"
  },
  "toc": {
   "base_numbering": 1,
   "nav_menu": {},
   "number_sections": true,
   "sideBar": true,
   "skip_h1_title": false,
   "title_cell": "Table of Contents",
   "title_sidebar": "Contents",
   "toc_cell": false,
   "toc_position": {
    "height": "calc(100% - 180px)",
    "left": "10px",
    "top": "150px",
    "width": "384px"
   },
   "toc_section_display": true,
   "toc_window_display": true
  },
  "varInspector": {
   "cols": {
    "lenName": 16,
    "lenType": 16,
    "lenVar": 40
   },
   "kernels_config": {
    "python": {
     "delete_cmd_postfix": "",
     "delete_cmd_prefix": "del ",
     "library": "var_list.py",
     "varRefreshCmd": "print(var_dic_list())"
    },
    "r": {
     "delete_cmd_postfix": ") ",
     "delete_cmd_prefix": "rm(",
     "library": "var_list.r",
     "varRefreshCmd": "cat(var_dic_list()) "
    }
   },
   "types_to_exclude": [
    "module",
    "function",
    "builtin_function_or_method",
    "instance",
    "_Feature"
   ],
   "window_display": false
  }
 },
 "nbformat": 4,
 "nbformat_minor": 4
}
